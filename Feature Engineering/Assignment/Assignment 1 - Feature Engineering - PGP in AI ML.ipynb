{
 "cells": [
  {
   "cell_type": "code",
   "execution_count": 1,
   "metadata": {},
   "outputs": [],
   "source": [
    "import pandas as pd\n",
    "df1 = pd.read_csv(\"bollywood.csv\")\n",
    "df2 = pd.read_csv(\"bollywood - 2.csv\")"
   ]
  },
  {
   "cell_type": "code",
   "execution_count": 2,
   "metadata": {},
   "outputs": [
    {
     "data": {
      "text/html": [
       "<div>\n",
       "<style scoped>\n",
       "    .dataframe tbody tr th:only-of-type {\n",
       "        vertical-align: middle;\n",
       "    }\n",
       "\n",
       "    .dataframe tbody tr th {\n",
       "        vertical-align: top;\n",
       "    }\n",
       "\n",
       "    .dataframe thead th {\n",
       "        text-align: right;\n",
       "    }\n",
       "</style>\n",
       "<table border=\"1\" class=\"dataframe\">\n",
       "  <thead>\n",
       "    <tr style=\"text-align: right;\">\n",
       "      <th></th>\n",
       "      <th>No</th>\n",
       "      <th>RelDate</th>\n",
       "      <th>MovieName</th>\n",
       "      <th>ReleaseTime</th>\n",
       "      <th>Genre</th>\n",
       "      <th>Budget</th>\n",
       "      <th>BoxOfficeCollection</th>\n",
       "      <th>YoutubeViews</th>\n",
       "      <th>YoutubeLikes</th>\n",
       "      <th>YoutubeDislikes</th>\n",
       "      <th>YoutubeLikeDislikes</th>\n",
       "    </tr>\n",
       "  </thead>\n",
       "  <tbody>\n",
       "    <tr>\n",
       "      <th>0</th>\n",
       "      <td>1</td>\n",
       "      <td>Apr-18-2014</td>\n",
       "      <td>2 States</td>\n",
       "      <td>3</td>\n",
       "      <td>RomanceGenre</td>\n",
       "      <td>36Cr</td>\n",
       "      <td>104</td>\n",
       "      <td>8576361</td>\n",
       "      <td>26622.0</td>\n",
       "      <td>2527.0</td>\n",
       "      <td>29149</td>\n",
       "    </tr>\n",
       "    <tr>\n",
       "      <th>1</th>\n",
       "      <td>2</td>\n",
       "      <td>Jan-4-2013</td>\n",
       "      <td>Table No. 21</td>\n",
       "      <td>4</td>\n",
       "      <td>Thriller</td>\n",
       "      <td>Cr10</td>\n",
       "      <td>12</td>\n",
       "      <td>1087320</td>\n",
       "      <td>1129.0</td>\n",
       "      <td>137.0</td>\n",
       "      <td>1266</td>\n",
       "    </tr>\n",
       "    <tr>\n",
       "      <th>2</th>\n",
       "      <td>3</td>\n",
       "      <td>Jul-18-2014</td>\n",
       "      <td>Amit Sahni Ki List</td>\n",
       "      <td>4</td>\n",
       "      <td>ComedyGenre</td>\n",
       "      <td>10Cr</td>\n",
       "      <td>4</td>\n",
       "      <td>572336</td>\n",
       "      <td>586.0</td>\n",
       "      <td>54.0</td>\n",
       "      <td>640</td>\n",
       "    </tr>\n",
       "    <tr>\n",
       "      <th>3</th>\n",
       "      <td>4</td>\n",
       "      <td>Jan-4-2013</td>\n",
       "      <td>Rajdhani Express</td>\n",
       "      <td>4</td>\n",
       "      <td>DramaGenre</td>\n",
       "      <td>7Cr</td>\n",
       "      <td>383</td>\n",
       "      <td>42626</td>\n",
       "      <td>86.0</td>\n",
       "      <td>19.0</td>\n",
       "      <td>105</td>\n",
       "    </tr>\n",
       "    <tr>\n",
       "      <th>4</th>\n",
       "      <td>5</td>\n",
       "      <td>Jul-4-2014</td>\n",
       "      <td>Bobby Jasoos</td>\n",
       "      <td>44</td>\n",
       "      <td>ComedyGenre</td>\n",
       "      <td>18Cr</td>\n",
       "      <td>10.8</td>\n",
       "      <td>3113427</td>\n",
       "      <td>4512.0</td>\n",
       "      <td>1224.0</td>\n",
       "      <td>5736</td>\n",
       "    </tr>\n",
       "  </tbody>\n",
       "</table>\n",
       "</div>"
      ],
      "text/plain": [
       "   No      RelDate           MovieName  ReleaseTime         Genre Budget  \\\n",
       "0   1  Apr-18-2014            2 States            3  RomanceGenre   36Cr   \n",
       "1   2   Jan-4-2013        Table No. 21            4     Thriller    Cr10   \n",
       "2   3  Jul-18-2014  Amit Sahni Ki List            4   ComedyGenre   10Cr   \n",
       "3   4   Jan-4-2013    Rajdhani Express            4    DramaGenre    7Cr   \n",
       "4   5   Jul-4-2014        Bobby Jasoos           44   ComedyGenre   18Cr   \n",
       "\n",
       "  BoxOfficeCollection  YoutubeViews  YoutubeLikes  YoutubeDislikes  \\\n",
       "0                 104       8576361       26622.0           2527.0   \n",
       "1                  12       1087320        1129.0            137.0   \n",
       "2                   4        572336         586.0             54.0   \n",
       "3                 383         42626          86.0             19.0   \n",
       "4                10.8       3113427        4512.0           1224.0   \n",
       "\n",
       "   YoutubeLikeDislikes  \n",
       "0                29149  \n",
       "1                 1266  \n",
       "2                  640  \n",
       "3                  105  \n",
       "4                 5736  "
      ]
     },
     "execution_count": 2,
     "metadata": {},
     "output_type": "execute_result"
    }
   ],
   "source": [
    "df1.head()"
   ]
  },
  {
   "cell_type": "code",
   "execution_count": 3,
   "metadata": {},
   "outputs": [
    {
     "data": {
      "text/html": [
       "<div>\n",
       "<style scoped>\n",
       "    .dataframe tbody tr th:only-of-type {\n",
       "        vertical-align: middle;\n",
       "    }\n",
       "\n",
       "    .dataframe tbody tr th {\n",
       "        vertical-align: top;\n",
       "    }\n",
       "\n",
       "    .dataframe thead th {\n",
       "        text-align: right;\n",
       "    }\n",
       "</style>\n",
       "<table border=\"1\" class=\"dataframe\">\n",
       "  <thead>\n",
       "    <tr style=\"text-align: right;\">\n",
       "      <th></th>\n",
       "      <th>Movie_ID</th>\n",
       "      <th>Release_Date</th>\n",
       "      <th>Movie_Name</th>\n",
       "      <th>Release_Time</th>\n",
       "      <th>Genre</th>\n",
       "      <th>BudgetCr</th>\n",
       "      <th>BoxOfficeCollectionCr</th>\n",
       "      <th>Youtube_Views</th>\n",
       "      <th>Youtube_Likes</th>\n",
       "      <th>Youtube_Dislikes</th>\n",
       "    </tr>\n",
       "  </thead>\n",
       "  <tbody>\n",
       "    <tr>\n",
       "      <th>0</th>\n",
       "      <td>51</td>\n",
       "      <td>4-Jul-14</td>\n",
       "      <td>Lekar Hum Deewana Dil</td>\n",
       "      <td>N</td>\n",
       "      <td>Romance</td>\n",
       "      <td>16</td>\n",
       "      <td>2.50</td>\n",
       "      <td>3998331</td>\n",
       "      <td>2307</td>\n",
       "      <td>497</td>\n",
       "    </tr>\n",
       "    <tr>\n",
       "      <th>1</th>\n",
       "      <td>52</td>\n",
       "      <td>22-Mar-13</td>\n",
       "      <td>Aatma</td>\n",
       "      <td>N</td>\n",
       "      <td>Thriller</td>\n",
       "      <td>8</td>\n",
       "      <td>8.78</td>\n",
       "      <td>841891</td>\n",
       "      <td>997</td>\n",
       "      <td>306</td>\n",
       "    </tr>\n",
       "    <tr>\n",
       "      <th>2</th>\n",
       "      <td>53</td>\n",
       "      <td>4-Apr-14</td>\n",
       "      <td>Main Tera Hero</td>\n",
       "      <td>LW</td>\n",
       "      <td>Comedy</td>\n",
       "      <td>40</td>\n",
       "      <td>55.00</td>\n",
       "      <td>4903941</td>\n",
       "      <td>12657</td>\n",
       "      <td>2139</td>\n",
       "    </tr>\n",
       "    <tr>\n",
       "      <th>3</th>\n",
       "      <td>54</td>\n",
       "      <td>22-Mar-13</td>\n",
       "      <td>Sona Spa</td>\n",
       "      <td>N</td>\n",
       "      <td>Thriller</td>\n",
       "      <td>10</td>\n",
       "      <td>0.24</td>\n",
       "      <td>79430</td>\n",
       "      <td>61</td>\n",
       "      <td>112</td>\n",
       "    </tr>\n",
       "    <tr>\n",
       "      <th>4</th>\n",
       "      <td>55</td>\n",
       "      <td>29-Mar-13</td>\n",
       "      <td>Himmatwala</td>\n",
       "      <td>N</td>\n",
       "      <td>Action</td>\n",
       "      <td>50</td>\n",
       "      <td>100.00</td>\n",
       "      <td>2501277</td>\n",
       "      <td>1</td>\n",
       "      <td>1</td>\n",
       "    </tr>\n",
       "  </tbody>\n",
       "</table>\n",
       "</div>"
      ],
      "text/plain": [
       "   Movie_ID Release_Date             Movie_Name Release_Time     Genre  \\\n",
       "0        51     4-Jul-14  Lekar Hum Deewana Dil            N   Romance   \n",
       "1        52    22-Mar-13                  Aatma            N  Thriller   \n",
       "2        53     4-Apr-14         Main Tera Hero           LW    Comedy   \n",
       "3        54    22-Mar-13               Sona Spa            N  Thriller   \n",
       "4        55    29-Mar-13             Himmatwala            N    Action   \n",
       "\n",
       "   BudgetCr  BoxOfficeCollectionCr  Youtube_Views  Youtube_Likes  \\\n",
       "0        16                   2.50        3998331           2307   \n",
       "1         8                   8.78         841891            997   \n",
       "2        40                  55.00        4903941          12657   \n",
       "3        10                   0.24          79430             61   \n",
       "4        50                 100.00        2501277              1   \n",
       "\n",
       "   Youtube_Dislikes  \n",
       "0               497  \n",
       "1               306  \n",
       "2              2139  \n",
       "3               112  \n",
       "4                 1  "
      ]
     },
     "execution_count": 3,
     "metadata": {},
     "output_type": "execute_result"
    }
   ],
   "source": [
    "df2.head()"
   ]
  },
  {
   "cell_type": "markdown",
   "metadata": {},
   "source": [
    "#### Q1. Identify and rectify the eight prominent data quality issues present in the given datasets.\n",
    "   * 0.5 * 8 = 4M"
   ]
  },
  {
   "cell_type": "markdown",
   "metadata": {},
   "source": [
    "1. Column names between data-sets differ | Rename columns to a common name between the sets\n",
    "* df2 has a missing column: YoutubeLikeDislikes | Create this missing column in df2\n",
    "* Impute missing values in df1\n",
    "* Remove cr from budget and box office collection column\n",
    "* Correct month name spellings in release date\n",
    "* Clean Genre column to have all unique values\n",
    "* Correct error in release time column\n",
    "* Assign appropriate datatypes to columns\n",
    "* Check for duplicate movie names"
   ]
  },
  {
   "cell_type": "markdown",
   "metadata": {},
   "source": [
    "1. Column names between data-sets differ \n",
    "    * Rename columns to a common name between the sets otherwise we'll have multiple columns with same data but different names after merging"
   ]
  },
  {
   "cell_type": "code",
   "execution_count": 4,
   "metadata": {},
   "outputs": [],
   "source": [
    "df1.rename(columns={'No':'Movie_ID',\n",
    "                         'RelDate':'Release_Date',\n",
    "                         'MovieName':'Movie_Name',\n",
    "                         'ReleaseTime':'Release_Time',\n",
    "                         'YoutubeViews':'Youtube_Views',\n",
    "                         'YoutubeLikes':'Youtube_Likes',\n",
    "                         'YoutubeDislikes':'Youtube_Dislikes',\n",
    "                         'YoutubeLikeDislikes':'Youtube_LikeDislikes'},inplace=True)\n",
    "\n",
    "df2.rename(columns={     'BudgetCr':'Budget',\n",
    "                         'BoxOfficeCollectionCr':'BoxOfficeCollection'},inplace=True)\n"
   ]
  },
  {
   "cell_type": "markdown",
   "metadata": {},
   "source": [
    "2. df2 has a missing column: Youtube_LikeDislikes \n",
    "    * Create this missing column in df2 otherwise the 2 datasets would be of different size and they would not merge"
   ]
  },
  {
   "cell_type": "code",
   "execution_count": 5,
   "metadata": {},
   "outputs": [],
   "source": [
    "df2[\"Youtube_LikeDislikes\"] =  df2.Youtube_Likes + df2.Youtube_Dislikes"
   ]
  },
  {
   "cell_type": "markdown",
   "metadata": {},
   "source": [
    "3. Impute missing values in df1\n",
    "    * We cannot train a machine learning model with data having missing values\n",
    "    * Depending on the amount of missing values, We either impute them or drop them"
   ]
  },
  {
   "cell_type": "code",
   "execution_count": 6,
   "metadata": {},
   "outputs": [
    {
     "data": {
      "text/plain": [
       "Movie_ID                0\n",
       "Release_Date            0\n",
       "Movie_Name              0\n",
       "Release_Time            0\n",
       "Genre                   0\n",
       "Budget                  0\n",
       "BoxOfficeCollection     0\n",
       "Youtube_Views           0\n",
       "Youtube_Likes           1\n",
       "Youtube_Dislikes        3\n",
       "Youtube_LikeDislikes    0\n",
       "dtype: int64"
      ]
     },
     "execution_count": 6,
     "metadata": {},
     "output_type": "execute_result"
    }
   ],
   "source": [
    "df1.isnull().sum()"
   ]
  },
  {
   "cell_type": "markdown",
   "metadata": {},
   "source": [
    "* Here we are imputing missing values in likes and dislikes by calculating them from other columns\n",
    "    - YouTube_Likes + Youtube_Dislikes = YouTube_LikesDislikes\n",
    "    - You can also impute them with other appropriate methods such as mean"
   ]
  },
  {
   "cell_type": "code",
   "execution_count": 7,
   "metadata": {},
   "outputs": [],
   "source": [
    "df1.loc[df1.Youtube_Likes.isna(),\"Youtube_Likes\"] = df1.loc[df1.Youtube_Likes.isna(),\"Youtube_LikeDislikes\"] - df1.loc[df1.Youtube_Likes.isna(),\"Youtube_Dislikes\"]\n",
    "df1.loc[df1.Youtube_Dislikes.isna(),\"Youtube_Dislikes\"] = df1.loc[df1.Youtube_Dislikes.isna(),\"Youtube_LikeDislikes\"] - df1.loc[df1.Youtube_Dislikes.isna(),\"Youtube_Likes\"]"
   ]
  },
  {
   "cell_type": "code",
   "execution_count": 8,
   "metadata": {},
   "outputs": [
    {
     "data": {
      "text/plain": [
       "Movie_ID                0\n",
       "Release_Date            0\n",
       "Movie_Name              0\n",
       "Release_Time            0\n",
       "Genre                   0\n",
       "Budget                  0\n",
       "BoxOfficeCollection     0\n",
       "Youtube_Views           0\n",
       "Youtube_Likes           0\n",
       "Youtube_Dislikes        0\n",
       "Youtube_LikeDislikes    0\n",
       "dtype: int64"
      ]
     },
     "execution_count": 8,
     "metadata": {},
     "output_type": "execute_result"
    }
   ],
   "source": [
    "df2.isnull().sum()"
   ]
  },
  {
   "cell_type": "markdown",
   "metadata": {},
   "source": [
    "4. Remove cr from budget and box office collection column\n",
    "    * Budget and box office collection are numeric columns, Hence the value cr should be removed before converting it to integer\n"
   ]
  },
  {
   "cell_type": "code",
   "execution_count": 9,
   "metadata": {
    "scrolled": true
   },
   "outputs": [
    {
     "data": {
      "text/plain": [
       "6         2\n",
       "383       2\n",
       "65        1\n",
       "Cr0.09    1\n",
       "2.5       1\n",
       "69        1\n",
       "103       1\n",
       "4         1\n",
       "104       1\n",
       "14.3      1\n",
       "40        1\n",
       "1.8       1\n",
       "35        1\n",
       "76.7      1\n",
       "27        1\n",
       "162       1\n",
       "11        1\n",
       "10        1\n",
       "16        1\n",
       "27.16     1\n",
       "25        1\n",
       "39.4      1\n",
       "22        1\n",
       "63.7      1\n",
       "21.5      1\n",
       "10.25     1\n",
       "32.7      1\n",
       "10.8      1\n",
       "130       1\n",
       "62.2      1\n",
       "5.82      1\n",
       "24.6      1\n",
       "377       1\n",
       "32        1\n",
       "27.25     1\n",
       "36        1\n",
       "58.9      1\n",
       "129       1\n",
       "12        1\n",
       "Cr0.5     1\n",
       "44        1\n",
       "2         1\n",
       "12.6      1\n",
       "163       1\n",
       "105.5     1\n",
       "1.5       1\n",
       "3.65      1\n",
       "111       1\n",
       "Cr0.01    1\n",
       "Name: BoxOfficeCollection, dtype: int64"
      ]
     },
     "execution_count": 9,
     "metadata": {},
     "output_type": "execute_result"
    }
   ],
   "source": [
    "df1.BoxOfficeCollection.value_counts()"
   ]
  },
  {
   "cell_type": "code",
   "execution_count": 10,
   "metadata": {
    "scrolled": true
   },
   "outputs": [
    {
     "data": {
      "text/plain": [
       "12Cr     5\n",
       "10Cr     4\n",
       "7Cr      3\n",
       "30Cr     3\n",
       "15Cr     2\n",
       "5Cr      2\n",
       "Cr10     2\n",
       "36Cr     2\n",
       "35Cr     2\n",
       "50Cr     2\n",
       "4Cr      2\n",
       "75Cr     1\n",
       "2Cr      1\n",
       "Cr60     1\n",
       "120Cr    1\n",
       "Cr5      1\n",
       "33Cr     1\n",
       "48Cr     1\n",
       "24Cr     1\n",
       "18Cr     1\n",
       "11Cr     1\n",
       "42Cr     1\n",
       "8Cr      1\n",
       "100Cr    1\n",
       "Cr30     1\n",
       "31Cr     1\n",
       "125Cr    1\n",
       "20Cr     1\n",
       "21Cr     1\n",
       "60Cr     1\n",
       "27Cr     1\n",
       "28Cr     1\n",
       "16Cr     1\n",
       "Name: Budget, dtype: int64"
      ]
     },
     "execution_count": 10,
     "metadata": {},
     "output_type": "execute_result"
    }
   ],
   "source": [
    "df1.Budget.value_counts()"
   ]
  },
  {
   "cell_type": "code",
   "execution_count": 11,
   "metadata": {},
   "outputs": [],
   "source": [
    "df1.BoxOfficeCollection = df1.BoxOfficeCollection.str.replace('Cr','')\n",
    "df1.Budget = df1.Budget.str.replace('Cr','')\n"
   ]
  },
  {
   "cell_type": "code",
   "execution_count": 12,
   "metadata": {
    "scrolled": true
   },
   "outputs": [
    {
     "data": {
      "text/plain": [
       "6        2\n",
       "383      2\n",
       "65       1\n",
       "130      1\n",
       "2.5      1\n",
       "69       1\n",
       "0.01     1\n",
       "4        1\n",
       "104      1\n",
       "14.3     1\n",
       "40       1\n",
       "1.8      1\n",
       "35       1\n",
       "76.7     1\n",
       "63.7     1\n",
       "0.09     1\n",
       "0.5      1\n",
       "11       1\n",
       "10       1\n",
       "16       1\n",
       "27.16    1\n",
       "25       1\n",
       "39.4     1\n",
       "162      1\n",
       "27       1\n",
       "10.25    1\n",
       "21.5     1\n",
       "10.8     1\n",
       "103      1\n",
       "62.2     1\n",
       "5.82     1\n",
       "24.6     1\n",
       "377      1\n",
       "32       1\n",
       "27.25    1\n",
       "36       1\n",
       "58.9     1\n",
       "129      1\n",
       "12       1\n",
       "44       1\n",
       "2        1\n",
       "12.6     1\n",
       "163      1\n",
       "105.5    1\n",
       "1.5      1\n",
       "3.65     1\n",
       "111      1\n",
       "32.7     1\n",
       "22       1\n",
       "Name: BoxOfficeCollection, dtype: int64"
      ]
     },
     "execution_count": 12,
     "metadata": {},
     "output_type": "execute_result"
    }
   ],
   "source": [
    "df1.BoxOfficeCollection.value_counts()"
   ]
  },
  {
   "cell_type": "code",
   "execution_count": 13,
   "metadata": {
    "scrolled": true
   },
   "outputs": [
    {
     "data": {
      "text/plain": [
       "10     6\n",
       "12     5\n",
       "30     4\n",
       "7      3\n",
       "5      3\n",
       "60     2\n",
       "4      2\n",
       "35     2\n",
       "36     2\n",
       "15     2\n",
       "50     2\n",
       "120    1\n",
       "75     1\n",
       "16     1\n",
       "20     1\n",
       "42     1\n",
       "21     1\n",
       "2      1\n",
       "33     1\n",
       "8      1\n",
       "27     1\n",
       "100    1\n",
       "24     1\n",
       "48     1\n",
       "18     1\n",
       "11     1\n",
       "125    1\n",
       "31     1\n",
       "28     1\n",
       "Name: Budget, dtype: int64"
      ]
     },
     "execution_count": 13,
     "metadata": {},
     "output_type": "execute_result"
    }
   ],
   "source": [
    "df1.Budget.value_counts()"
   ]
  },
  {
   "cell_type": "markdown",
   "metadata": {},
   "source": [
    "5. Correct month name spellings in release date.\n"
   ]
  },
  {
   "cell_type": "code",
   "execution_count": 14,
   "metadata": {},
   "outputs": [],
   "source": [
    "df1['Release_Date'] = df1['Release_Date'].str.replace(r'Sqp', 'Sep')\n",
    "df1['Release_Date'] = df1['Release_Date'].str.replace(r'Jum', 'Jun')\n",
    "df1['Release_Date'] = df1['Release_Date'].str.replace(r'juu', 'Jun')\n",
    "df1['Release_Date'] = df1['Release_Date'].str.replace(r'Feb-21-204', 'Feb-21-2014')"
   ]
  },
  {
   "cell_type": "markdown",
   "metadata": {},
   "source": [
    "6. Clean Genre column to have all unique values"
   ]
  },
  {
   "cell_type": "code",
   "execution_count": 15,
   "metadata": {},
   "outputs": [
    {
     "data": {
      "text/plain": [
       "array(['RomanceGenre', 'Thriller ', 'ComedyGenre', ' DramaGenre',\n",
       "       'ActionGenre', 'Action ', 'Thriller', ' Drama '], dtype=object)"
      ]
     },
     "execution_count": 15,
     "metadata": {},
     "output_type": "execute_result"
    }
   ],
   "source": [
    "df1.Genre.unique()"
   ]
  },
  {
   "cell_type": "code",
   "execution_count": 16,
   "metadata": {
    "scrolled": true
   },
   "outputs": [],
   "source": [
    "df1['Genre'] = df1['Genre'].str.replace(r'Genre', '')\n",
    "df1['Genre'] = df1['Genre'].str.replace(r'Thriller ', 'Thriller')\n",
    "df1['Genre'] = df1['Genre'].str.replace(r' Drama', 'Drama')\n",
    "df1['Genre'] = df1['Genre'].str.replace(r'Drama ', 'Drama')\n",
    "df1['Genre'] = df1['Genre'].str.replace(r'Action ', 'Action')"
   ]
  },
  {
   "cell_type": "code",
   "execution_count": 17,
   "metadata": {},
   "outputs": [
    {
     "data": {
      "text/plain": [
       "array(['Romance', 'Thriller', 'Comedy', 'Drama', 'Action'], dtype=object)"
      ]
     },
     "execution_count": 17,
     "metadata": {},
     "output_type": "execute_result"
    }
   ],
   "source": [
    "df1.Genre.unique()"
   ]
  },
  {
   "cell_type": "code",
   "execution_count": 18,
   "metadata": {},
   "outputs": [
    {
     "data": {
      "text/plain": [
       "array(['Romance', 'Thriller', 'Comedy', 'Action', ' Drama '], dtype=object)"
      ]
     },
     "execution_count": 18,
     "metadata": {},
     "output_type": "execute_result"
    }
   ],
   "source": [
    "df2.Genre.unique()"
   ]
  },
  {
   "cell_type": "code",
   "execution_count": 19,
   "metadata": {},
   "outputs": [],
   "source": [
    "df2['Genre'] = df2['Genre'].str.replace(r'Drama ', 'Drama')"
   ]
  },
  {
   "cell_type": "code",
   "execution_count": 20,
   "metadata": {},
   "outputs": [
    {
     "data": {
      "text/plain": [
       "array(['Romance', 'Thriller', 'Comedy', 'Action', ' Drama'], dtype=object)"
      ]
     },
     "execution_count": 20,
     "metadata": {},
     "output_type": "execute_result"
    }
   ],
   "source": [
    "df2.Genre.unique()"
   ]
  },
  {
   "cell_type": "markdown",
   "metadata": {},
   "source": [
    "7. Correct error in release time column"
   ]
  },
  {
   "cell_type": "code",
   "execution_count": 21,
   "metadata": {},
   "outputs": [
    {
     "data": {
      "text/plain": [
       "4     33\n",
       "2     10\n",
       "3      4\n",
       "1      3\n",
       "44     1\n",
       "Name: Release_Time, dtype: int64"
      ]
     },
     "execution_count": 21,
     "metadata": {},
     "output_type": "execute_result"
    }
   ],
   "source": [
    "df1.Release_Time.value_counts()"
   ]
  },
  {
   "cell_type": "markdown",
   "metadata": {},
   "source": [
    "* 44 only appears once. Which suggest it is a mistake and is equivalent to 4 "
   ]
  },
  {
   "cell_type": "code",
   "execution_count": 22,
   "metadata": {},
   "outputs": [
    {
     "data": {
      "text/plain": [
       "array([ 3,  4, 44,  2,  1])"
      ]
     },
     "execution_count": 22,
     "metadata": {},
     "output_type": "execute_result"
    }
   ],
   "source": [
    "df1.Release_Time.unique()"
   ]
  },
  {
   "cell_type": "code",
   "execution_count": 23,
   "metadata": {},
   "outputs": [],
   "source": [
    "df1['Release_Time'] = df1['Release_Time'].replace(44,4)"
   ]
  },
  {
   "cell_type": "code",
   "execution_count": 24,
   "metadata": {},
   "outputs": [
    {
     "data": {
      "text/plain": [
       "array([3, 4, 2, 1])"
      ]
     },
     "execution_count": 24,
     "metadata": {},
     "output_type": "execute_result"
    }
   ],
   "source": [
    "df1.Release_Time.unique()"
   ]
  },
  {
   "cell_type": "code",
   "execution_count": 25,
   "metadata": {},
   "outputs": [
    {
     "data": {
      "text/plain": [
       "array(['N', 'LW', 'HS', 'FS'], dtype=object)"
      ]
     },
     "execution_count": 25,
     "metadata": {},
     "output_type": "execute_result"
    }
   ],
   "source": [
    "df2.Release_Time.unique()"
   ]
  },
  {
   "cell_type": "markdown",
   "metadata": {},
   "source": [
    "* Release time of movie:\n",
    "    - Long Weekend (3), \n",
    "    - Festive Season (1), \n",
    "    - Holiday Season (2), \n",
    "    - Normal (4)"
   ]
  },
  {
   "cell_type": "code",
   "execution_count": 26,
   "metadata": {},
   "outputs": [],
   "source": [
    "df2['Release_Time'] = df2['Release_Time'].replace(to_replace='N',value=4)\n",
    "df2['Release_Time'] = df2['Release_Time'].replace(to_replace='FS',value=1)\n",
    "df2['Release_Time'] = df2['Release_Time'].replace(to_replace='LW',value=3)\n",
    "df2['Release_Time'] = df2['Release_Time'].replace(to_replace='HS',value=2)"
   ]
  },
  {
   "cell_type": "code",
   "execution_count": 27,
   "metadata": {},
   "outputs": [
    {
     "data": {
      "text/plain": [
       "array([4, 3, 2, 1])"
      ]
     },
     "execution_count": 27,
     "metadata": {},
     "output_type": "execute_result"
    }
   ],
   "source": [
    "df2.Release_Time.unique()"
   ]
  },
  {
   "cell_type": "markdown",
   "metadata": {},
   "source": [
    "8. Assign appropriate datatypes to columns"
   ]
  },
  {
   "cell_type": "code",
   "execution_count": 28,
   "metadata": {},
   "outputs": [],
   "source": [
    "df = pd.concat([df1, df2])"
   ]
  },
  {
   "cell_type": "code",
   "execution_count": 29,
   "metadata": {},
   "outputs": [
    {
     "name": "stdout",
     "output_type": "stream",
     "text": [
      "<class 'pandas.core.frame.DataFrame'>\n",
      "Int64Index: 150 entries, 0 to 98\n",
      "Data columns (total 11 columns):\n",
      " #   Column                Non-Null Count  Dtype  \n",
      "---  ------                --------------  -----  \n",
      " 0   Movie_ID              150 non-null    int64  \n",
      " 1   Release_Date          150 non-null    object \n",
      " 2   Movie_Name            150 non-null    object \n",
      " 3   Release_Time          150 non-null    int64  \n",
      " 4   Genre                 150 non-null    object \n",
      " 5   Budget                150 non-null    object \n",
      " 6   BoxOfficeCollection   150 non-null    object \n",
      " 7   Youtube_Views         150 non-null    int64  \n",
      " 8   Youtube_Likes         150 non-null    float64\n",
      " 9   Youtube_Dislikes      150 non-null    float64\n",
      " 10  Youtube_LikeDislikes  150 non-null    int64  \n",
      "dtypes: float64(2), int64(4), object(5)\n",
      "memory usage: 14.1+ KB\n"
     ]
    }
   ],
   "source": [
    "df.info()"
   ]
  },
  {
   "cell_type": "code",
   "execution_count": 30,
   "metadata": {},
   "outputs": [],
   "source": [
    "df = df.astype({'Budget': float, 'BoxOfficeCollection': float,'Youtube_Views' : float,'Release_Time'  : int, \n",
    "                'Genre':'string','Movie_Name':'string'})"
   ]
  },
  {
   "cell_type": "code",
   "execution_count": 31,
   "metadata": {},
   "outputs": [
    {
     "name": "stdout",
     "output_type": "stream",
     "text": [
      "<class 'pandas.core.frame.DataFrame'>\n",
      "Int64Index: 150 entries, 0 to 98\n",
      "Data columns (total 11 columns):\n",
      " #   Column                Non-Null Count  Dtype  \n",
      "---  ------                --------------  -----  \n",
      " 0   Movie_ID              150 non-null    int64  \n",
      " 1   Release_Date          150 non-null    object \n",
      " 2   Movie_Name            150 non-null    string \n",
      " 3   Release_Time          150 non-null    int64  \n",
      " 4   Genre                 150 non-null    string \n",
      " 5   Budget                150 non-null    float64\n",
      " 6   BoxOfficeCollection   150 non-null    float64\n",
      " 7   Youtube_Views         150 non-null    float64\n",
      " 8   Youtube_Likes         150 non-null    float64\n",
      " 9   Youtube_Dislikes      150 non-null    float64\n",
      " 10  Youtube_LikeDislikes  150 non-null    int64  \n",
      "dtypes: float64(5), int64(3), object(1), string(2)\n",
      "memory usage: 14.1+ KB\n"
     ]
    }
   ],
   "source": [
    "df.info()"
   ]
  },
  {
   "cell_type": "markdown",
   "metadata": {},
   "source": [
    "9. Check for duplicate movie names.\n",
    "    * We do not want duplicate values in our data which makes our data biased"
   ]
  },
  {
   "cell_type": "code",
   "execution_count": 32,
   "metadata": {},
   "outputs": [
    {
     "name": "stdout",
     "output_type": "stream",
     "text": [
      "(150, 11)\n"
     ]
    },
    {
     "data": {
      "text/plain": [
       "Lekar Hum Deewana Dil      2\n",
       "Go Goa Gone                1\n",
       "Mere Dad Ki Maruti         1\n",
       "Baby                       1\n",
       "The Shaukeens              1\n",
       "                          ..\n",
       "Ramaiya Vastavaiya         1\n",
       "Yeh Jawaani Hai Deewani    1\n",
       "Sona Spa                   1\n",
       "Holiday                    1\n",
       "Bang Bang                  1\n",
       "Name: Movie_Name, Length: 149, dtype: Int64"
      ]
     },
     "execution_count": 32,
     "metadata": {},
     "output_type": "execute_result"
    }
   ],
   "source": [
    "print(df.shape)\n",
    "df['Movie_Name'].value_counts()\n"
   ]
  },
  {
   "cell_type": "code",
   "execution_count": 33,
   "metadata": {},
   "outputs": [],
   "source": [
    "df.drop_duplicates(\"Movie_Name\",inplace=True)\n",
    "df.reset_index(drop=True,inplace=True)"
   ]
  },
  {
   "cell_type": "code",
   "execution_count": 34,
   "metadata": {},
   "outputs": [
    {
     "name": "stdout",
     "output_type": "stream",
     "text": [
      "(149, 11)\n"
     ]
    },
    {
     "data": {
      "text/plain": [
       "Bajatey Raho               1\n",
       "Kill Dil                   1\n",
       "Dishkiyaoon                1\n",
       "Mere Dad Ki Maruti         1\n",
       "Baby                       1\n",
       "                          ..\n",
       "O Teri                     1\n",
       "Ramaiya Vastavaiya         1\n",
       "Yeh Jawaani Hai Deewani    1\n",
       "Bewakoofiyan               1\n",
       "Commando-A One Man Army    1\n",
       "Name: Movie_Name, Length: 149, dtype: Int64"
      ]
     },
     "execution_count": 34,
     "metadata": {},
     "output_type": "execute_result"
    }
   ],
   "source": [
    "print(df.shape)\n",
    "\n",
    "df['Movie_Name'].value_counts()\n"
   ]
  },
  {
   "cell_type": "markdown",
   "metadata": {},
   "source": [
    "#### Q2. How many records are present in the dataset? Print the metadata information of dataset. \n",
    "* 0.5M"
   ]
  },
  {
   "cell_type": "code",
   "execution_count": 35,
   "metadata": {},
   "outputs": [
    {
     "name": "stdout",
     "output_type": "stream",
     "text": [
      "The number of records present in the dataset are:  149\n"
     ]
    }
   ],
   "source": [
    "records = df.shape[0] \n",
    "print(\"The number of records present in the dataset are: \",records)"
   ]
  },
  {
   "cell_type": "code",
   "execution_count": 36,
   "metadata": {},
   "outputs": [
    {
     "name": "stdout",
     "output_type": "stream",
     "text": [
      "METADATA INFORMATION\n",
      "\n",
      "-------------------------------------------------\n",
      "<class 'pandas.core.frame.DataFrame'>\n",
      "RangeIndex: 149 entries, 0 to 148\n",
      "Data columns (total 11 columns):\n",
      " #   Column                Non-Null Count  Dtype  \n",
      "---  ------                --------------  -----  \n",
      " 0   Movie_ID              149 non-null    int64  \n",
      " 1   Release_Date          149 non-null    object \n",
      " 2   Movie_Name            149 non-null    string \n",
      " 3   Release_Time          149 non-null    int64  \n",
      " 4   Genre                 149 non-null    string \n",
      " 5   Budget                149 non-null    float64\n",
      " 6   BoxOfficeCollection   149 non-null    float64\n",
      " 7   Youtube_Views         149 non-null    float64\n",
      " 8   Youtube_Likes         149 non-null    float64\n",
      " 9   Youtube_Dislikes      149 non-null    float64\n",
      " 10  Youtube_LikeDislikes  149 non-null    int64  \n",
      "dtypes: float64(5), int64(3), object(1), string(2)\n",
      "memory usage: 12.9+ KB\n"
     ]
    }
   ],
   "source": [
    "print(\"METADATA INFORMATION\\n\")\n",
    "print(\"-------------------------------------------------\")\n",
    "df.info()"
   ]
  },
  {
   "cell_type": "markdown",
   "metadata": {},
   "source": [
    "#### Q3. How many movies in each genre got released in different release times? \n",
    "* 0.5M"
   ]
  },
  {
   "cell_type": "markdown",
   "metadata": {},
   "source": [
    "* grouping by genre column and finding the value counts for different release time."
   ]
  },
  {
   "cell_type": "code",
   "execution_count": 37,
   "metadata": {
    "scrolled": true
   },
   "outputs": [
    {
     "data": {
      "text/plain": [
       "Genre     Release_Time\n",
       " Drama    4               18\n",
       "          2                3\n",
       "          1                2\n",
       "Action    4               15\n",
       "          1                3\n",
       "          2                3\n",
       "          3                3\n",
       "Comedy    4               23\n",
       "          2                5\n",
       "          3                5\n",
       "          1                3\n",
       "Drama     4                6\n",
       "          2                3\n",
       "          1                2\n",
       "          3                1\n",
       "Romance   4               15\n",
       "          3                4\n",
       "          1                3\n",
       "          2                3\n",
       "Thriller  4               22\n",
       "          1                4\n",
       "          3                2\n",
       "          2                1\n",
       "Name: Release_Time, dtype: int64"
      ]
     },
     "execution_count": 37,
     "metadata": {},
     "output_type": "execute_result"
    }
   ],
   "source": [
    "df.groupby(['Genre'])['Release_Time'].value_counts()"
   ]
  },
  {
   "cell_type": "markdown",
   "metadata": {},
   "source": [
    "#### Q4. Which month of the year, maximum movie releases are seen?\n",
    "* 1M"
   ]
  },
  {
   "cell_type": "markdown",
   "metadata": {},
   "source": [
    "* Using feature engineering to create new columns: Year & Month"
   ]
  },
  {
   "cell_type": "code",
   "execution_count": 54,
   "metadata": {},
   "outputs": [],
   "source": [
    "df['Year'] = pd.DatetimeIndex(df['Release_Date']).year\n",
    "df['Month'] = pd.DatetimeIndex(df['Release_Date']).month_name()"
   ]
  },
  {
   "cell_type": "markdown",
   "metadata": {},
   "source": [
    "* Grouping by month for all the years and finding movie counts"
   ]
  },
  {
   "cell_type": "code",
   "execution_count": 53,
   "metadata": {},
   "outputs": [
    {
     "data": {
      "text/plain": [
       "Month       January\n",
       "Movie_ID         20\n",
       "Name: 0, dtype: object"
      ]
     },
     "execution_count": 53,
     "metadata": {},
     "output_type": "execute_result"
    }
   ],
   "source": [
    "df.groupby(['Month'])['Movie_ID'].count().sort_values(ascending=False).reset_index().iloc[0]"
   ]
  },
  {
   "cell_type": "markdown",
   "metadata": {},
   "source": [
    "# OR\n",
    "\n",
    "* Grouping by each year and it's respective month and finding movie counts"
   ]
  },
  {
   "cell_type": "code",
   "execution_count": 52,
   "metadata": {},
   "outputs": [
    {
     "data": {
      "text/plain": [
       "Year        2014\n",
       "Month        May\n",
       "Movie_ID      12\n",
       "Name: 0, dtype: object"
      ]
     },
     "execution_count": 52,
     "metadata": {},
     "output_type": "execute_result"
    }
   ],
   "source": [
    "df.groupby(['Year','Month'])['Movie_ID'].count().sort_values(ascending=False).reset_index().iloc[0]"
   ]
  },
  {
   "cell_type": "markdown",
   "metadata": {},
   "source": [
    "#### Q5. Which month of the year typically sees most releases of high budgeted movies, that is, movies with budget of 25 crore or more?\n",
    "* 1M"
   ]
  },
  {
   "cell_type": "markdown",
   "metadata": {},
   "source": [
    "* Filtering movies with budget > 25 Cr.\n",
    "* Grouping by month for all the years and finding movie counts"
   ]
  },
  {
   "cell_type": "code",
   "execution_count": 51,
   "metadata": {},
   "outputs": [
    {
     "data": {
      "text/plain": [
       "Month       February\n",
       "Movie_ID           9\n",
       "Name: 0, dtype: object"
      ]
     },
     "execution_count": 51,
     "metadata": {},
     "output_type": "execute_result"
    }
   ],
   "source": [
    "df_new = df[df['Budget']>=25]\n",
    "\n",
    "df_new.groupby(['Month'])['Movie_ID'].count().sort_values(ascending=False).reset_index().iloc[0]"
   ]
  },
  {
   "cell_type": "markdown",
   "metadata": {},
   "source": [
    "# OR\n",
    "\n",
    "* Grouping by each year and it's respective month and finding movie counts"
   ]
  },
  {
   "cell_type": "code",
   "execution_count": 50,
   "metadata": {},
   "outputs": [
    {
     "data": {
      "text/plain": [
       "Year        2013\n",
       "Month       July\n",
       "Movie_ID       5\n",
       "Name: 0, dtype: object"
      ]
     },
     "execution_count": 50,
     "metadata": {},
     "output_type": "execute_result"
    }
   ],
   "source": [
    "df_new.groupby(['Year','Month'])['Movie_ID'].count().sort_values(ascending=False).reset_index().iloc[0]"
   ]
  },
  {
   "cell_type": "markdown",
   "metadata": {},
   "source": [
    "#### Q6. Which are the top 10 movies with maximum return of investment (ROI)? Calculate ROI as (Box office collection – Budget) / Budget.\n",
    "* 1M"
   ]
  },
  {
   "cell_type": "markdown",
   "metadata": {},
   "source": [
    "* Create New Column for Return on Investment(ROI)"
   ]
  },
  {
   "cell_type": "code",
   "execution_count": 42,
   "metadata": {},
   "outputs": [],
   "source": [
    "df['ROI'] = ((df['BoxOfficeCollection'])-(df['Budget']))/(df['Budget'])"
   ]
  },
  {
   "cell_type": "markdown",
   "metadata": {},
   "source": [
    "* Choose the top 10 rows with largest ROI"
   ]
  },
  {
   "cell_type": "code",
   "execution_count": 43,
   "metadata": {},
   "outputs": [
    {
     "name": "stdout",
     "output_type": "stream",
     "text": [
      "     Year                 Movie_Name        ROI\n",
      "3    2013           Rajdhani Express  53.714286\n",
      "64   2013                 Aashiqui 2   8.166667\n",
      "89   2014                         PK   7.647059\n",
      "132  2013                Grand Masti   7.514286\n",
      "135  2013               The Lunchbox   7.500000\n",
      "87   2013                     Fukrey   6.240000\n",
      "58   2014                   Mary Kom   5.933333\n",
      "128  2013                     Shahid   5.666667\n",
      "37   2014  Humpty Sharma Ki Dulhania   5.500000\n",
      "101  2013         Bhaag Milkha Bhaag   4.466667\n"
     ]
    }
   ],
   "source": [
    "df_new = df.nlargest(10, 'ROI')\n",
    "print(df_new[['Year','Movie_Name','ROI']].head(10))"
   ]
  },
  {
   "cell_type": "code",
   "execution_count": null,
   "metadata": {},
   "outputs": [],
   "source": []
  }
 ],
 "metadata": {
  "kernelspec": {
   "display_name": "Python 3",
   "language": "python",
   "name": "python3"
  },
  "language_info": {
   "codemirror_mode": {
    "name": "ipython",
    "version": 3
   },
   "file_extension": ".py",
   "mimetype": "text/x-python",
   "name": "python",
   "nbconvert_exporter": "python",
   "pygments_lexer": "ipython3",
   "version": "3.6.8"
  }
 },
 "nbformat": 4,
 "nbformat_minor": 2
}
