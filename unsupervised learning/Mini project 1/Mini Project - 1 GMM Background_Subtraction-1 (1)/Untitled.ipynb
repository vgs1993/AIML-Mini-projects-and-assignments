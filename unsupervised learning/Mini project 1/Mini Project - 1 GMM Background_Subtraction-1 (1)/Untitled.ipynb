{
 "cells": [
  {
   "cell_type": "code",
   "execution_count": 1,
   "id": "a39da568",
   "metadata": {},
   "outputs": [],
   "source": [
    "import pandas as pd\n",
    "import numpy as np\n",
    "import matplotlib.pyplot as plt\n",
    "import seaborn as sns\n",
    "%matplotlib inline"
   ]
  },
  {
   "cell_type": "code",
   "execution_count": 3,
   "id": "7f506eb9",
   "metadata": {},
   "outputs": [],
   "source": [
    "df = pd.read_csv(r\"C:\\Users\\sgovind\\OneDrive - Intel Corporation\\Desktop\\Personal\\bits pilani\\unsupervised learning\\assignemnt two\\jewellery.csv\")"
   ]
  },
  {
   "cell_type": "code",
   "execution_count": 4,
   "id": "086068b5",
   "metadata": {},
   "outputs": [
    {
     "data": {
      "text/plain": [
       "(505, 4)"
      ]
     },
     "execution_count": 4,
     "metadata": {},
     "output_type": "execute_result"
    }
   ],
   "source": [
    "df.shape"
   ]
  },
  {
   "cell_type": "code",
   "execution_count": 5,
   "id": "05e48efc",
   "metadata": {},
   "outputs": [
    {
     "data": {
      "text/html": [
       "<div>\n",
       "<style scoped>\n",
       "    .dataframe tbody tr th:only-of-type {\n",
       "        vertical-align: middle;\n",
       "    }\n",
       "\n",
       "    .dataframe tbody tr th {\n",
       "        vertical-align: top;\n",
       "    }\n",
       "\n",
       "    .dataframe thead th {\n",
       "        text-align: right;\n",
       "    }\n",
       "</style>\n",
       "<table border=\"1\" class=\"dataframe\">\n",
       "  <thead>\n",
       "    <tr style=\"text-align: right;\">\n",
       "      <th></th>\n",
       "      <th>Age</th>\n",
       "      <th>Income</th>\n",
       "      <th>SpendingScore</th>\n",
       "      <th>Savings</th>\n",
       "    </tr>\n",
       "  </thead>\n",
       "  <tbody>\n",
       "    <tr>\n",
       "      <th>0</th>\n",
       "      <td>58</td>\n",
       "      <td>77769</td>\n",
       "      <td>0.791329</td>\n",
       "      <td>6559.829923</td>\n",
       "    </tr>\n",
       "    <tr>\n",
       "      <th>1</th>\n",
       "      <td>59</td>\n",
       "      <td>81799</td>\n",
       "      <td>0.791082</td>\n",
       "      <td>5417.661426</td>\n",
       "    </tr>\n",
       "    <tr>\n",
       "      <th>2</th>\n",
       "      <td>62</td>\n",
       "      <td>74751</td>\n",
       "      <td>0.702657</td>\n",
       "      <td>9258.992965</td>\n",
       "    </tr>\n",
       "    <tr>\n",
       "      <th>3</th>\n",
       "      <td>59</td>\n",
       "      <td>74373</td>\n",
       "      <td>0.765680</td>\n",
       "      <td>7346.334504</td>\n",
       "    </tr>\n",
       "    <tr>\n",
       "      <th>4</th>\n",
       "      <td>87</td>\n",
       "      <td>17760</td>\n",
       "      <td>0.348778</td>\n",
       "      <td>16869.507130</td>\n",
       "    </tr>\n",
       "  </tbody>\n",
       "</table>\n",
       "</div>"
      ],
      "text/plain": [
       "   Age  Income  SpendingScore       Savings\n",
       "0   58   77769       0.791329   6559.829923\n",
       "1   59   81799       0.791082   5417.661426\n",
       "2   62   74751       0.702657   9258.992965\n",
       "3   59   74373       0.765680   7346.334504\n",
       "4   87   17760       0.348778  16869.507130"
      ]
     },
     "execution_count": 5,
     "metadata": {},
     "output_type": "execute_result"
    }
   ],
   "source": [
    "df.head()"
   ]
  },
  {
   "cell_type": "code",
   "execution_count": 8,
   "id": "7ba727d2",
   "metadata": {},
   "outputs": [],
   "source": [
    "# Scale our data\n",
    "from sklearn.preprocessing import StandardScaler"
   ]
  },
  {
   "cell_type": "code",
   "execution_count": 9,
   "id": "6b9764bd",
   "metadata": {},
   "outputs": [
    {
     "data": {
      "text/plain": [
       "array([[-4.22871323e-02,  6.27330450e-02,  1.10359261e+00,\n",
       "        -1.07246676e+00],\n",
       "       [-8.21109365e-04,  1.74810526e-01,  1.10264136e+00,\n",
       "        -1.30347264e+00],\n",
       "       [ 1.23576959e-01, -2.11999168e-02,  7.61727378e-01,\n",
       "        -5.26555609e-01],\n",
       "       ...,\n",
       "       [ 1.28462560e+00, -1.11844679e+00, -5.78054216e-01,\n",
       "         8.55312853e-01],\n",
       "       [ 1.32609162e+00, -1.52492929e+00, -5.79865675e-01,\n",
       "         1.32245159e+00],\n",
       "       [ 1.24315958e+00, -1.25833506e+00, -8.31889623e-01,\n",
       "         5.10463045e-01]])"
      ]
     },
     "execution_count": 9,
     "metadata": {},
     "output_type": "execute_result"
    }
   ],
   "source": [
    "X = StandardScaler().fit_transform(df)\n",
    "X"
   ]
  },
  {
   "cell_type": "code",
   "execution_count": 10,
   "id": "43384536",
   "metadata": {},
   "outputs": [],
   "source": [
    "# Init Model\n",
    "from sklearn.cluster import DBSCAN"
   ]
  },
  {
   "cell_type": "code",
   "execution_count": 12,
   "id": "fe3acf11",
   "metadata": {},
   "outputs": [],
   "source": [
    "dbscan = DBSCAN(eps=0.3,min_samples=10)"
   ]
  },
  {
   "cell_type": "code",
   "execution_count": 13,
   "id": "3c24e602",
   "metadata": {},
   "outputs": [],
   "source": [
    "# Fit Model\n",
    "y_cluster_dbs = dbscan.fit_predict(X)"
   ]
  },
  {
   "cell_type": "code",
   "execution_count": 14,
   "id": "c3c3d5a7",
   "metadata": {},
   "outputs": [
    {
     "data": {
      "text/plain": [
       "array([ 0,  0,  0,  0,  1,  4,  0,  1,  1,  1, -1,  2,  2,  2,  0,  3,  0,\n",
       "        1,  1,  3,  2,  3,  0,  1, -1,  4, -1,  0,  1,  0,  0,  0,  1,  0,\n",
       "        2,  0,  1,  0,  2,  2,  0,  1,  4,  0,  0,  4,  3,  4,  2,  0,  1,\n",
       "        2,  4,  1,  0,  1,  2,  1,  1,  1,  1,  1,  1,  0,  0,  0,  1, -1,\n",
       "        4,  0,  0,  2,  1,  1,  2,  0,  2,  0,  0,  4,  0, -1,  0,  1,  1,\n",
       "        2,  2,  0,  0,  0,  0,  0,  4,  1,  0,  4,  2,  0,  0,  2,  2,  4,\n",
       "        2,  4,  2,  1, -1,  2,  2,  0,  1,  2,  0,  2,  2,  2,  0,  2, -1,\n",
       "        1,  2,  1,  1,  1,  2,  3,  0,  1,  0,  0,  2,  0,  2,  0,  4,  1,\n",
       "       -1,  4,  0,  2,  1,  0,  0,  4,  0,  4,  0, -1,  0,  1,  0,  2,  1,\n",
       "        0,  1,  3,  2,  0,  1,  0,  2,  1,  0,  2, -1,  2,  1,  0,  2,  0,\n",
       "        1,  0,  2,  0,  1,  0,  0,  1,  1,  1,  0,  0,  2,  4,  4,  1,  2,\n",
       "        0,  0,  0,  2,  1,  0,  0,  0,  1, -1,  2,  1,  1,  1,  2,  0,  2,\n",
       "        0,  2,  0,  1,  4,  0,  1,  1, -1,  1,  0,  1,  2,  4,  2,  1,  0,\n",
       "        0,  2,  1,  2,  4,  2,  0,  0,  1,  0,  0,  1,  0,  0,  0, -1,  0,\n",
       "        2,  2,  4,  0,  0,  0, -1,  0,  2,  1,  4, -1,  4,  1,  0,  2,  1,\n",
       "       -1,  2,  2,  0,  0,  3,  0,  0,  1,  0,  1,  2,  4,  0,  2,  1,  0,\n",
       "        1,  1,  2,  0,  1,  1,  0,  0,  1,  2,  2,  3,  2,  1,  1, -1, -1,\n",
       "        1, -1,  4,  0,  2,  2,  0,  2,  1,  1,  2,  0,  2,  1,  0,  2,  4,\n",
       "        0,  1,  2,  2,  1,  3, -1,  0,  1,  2,  0,  0,  1,  2,  1,  2,  1,\n",
       "        2,  1,  1,  2,  1,  2,  0,  2,  0,  0,  2,  2,  1,  1, -1,  4,  2,\n",
       "        1,  4,  1,  3,  0,  0,  0,  1,  1,  2,  2,  3,  2, -1,  0,  2,  4,\n",
       "        1,  0,  1,  4,  0,  1,  1,  0,  1,  2,  0,  3,  2,  2,  0,  1,  1,\n",
       "        1,  1,  1,  2,  2,  1,  0,  2,  0,  3,  1,  1,  0,  1,  1,  0,  1,\n",
       "        1,  2,  1,  0,  2,  4,  2,  0,  1,  2,  0,  0,  0,  1,  2,  4,  2,\n",
       "        0,  2,  0,  0,  4,  2,  3,  4,  2,  2,  1,  0,  1,  2, -1,  2,  0,\n",
       "        0,  1, -1,  2,  1,  2,  0,  0,  2,  0,  1,  0,  2,  0,  1,  0,  1,\n",
       "       -1,  2,  2,  4,  2,  2,  1,  1,  0,  4,  0,  2, -1, -1, -1,  2,  4,\n",
       "        1,  2,  2,  0,  2,  1,  1, -1,  0,  2,  0,  0,  2,  0,  0,  0,  1,\n",
       "        2,  2,  0,  0,  0,  1,  2,  1,  1,  1,  1,  4,  1,  1,  1,  0,  0,\n",
       "        1,  1,  0,  4,  1,  2,  4,  2, -1,  1,  1,  1], dtype=int64)"
      ]
     },
     "execution_count": 14,
     "metadata": {},
     "output_type": "execute_result"
    }
   ],
   "source": [
    "y_cluster_dbs"
   ]
  },
  {
   "cell_type": "code",
   "execution_count": 15,
   "id": "a49428ae",
   "metadata": {},
   "outputs": [
    {
     "data": {
      "text/plain": [
       "{-1, 0, 1, 2, 3, 4}"
      ]
     },
     "execution_count": 15,
     "metadata": {},
     "output_type": "execute_result"
    }
   ],
   "source": [
    "#  Number of Unique Clusters\n",
    "set(y_cluster_dbs)"
   ]
  },
  {
   "cell_type": "code",
   "execution_count": 16,
   "id": "58d0f139",
   "metadata": {},
   "outputs": [
    {
     "data": {
      "text/plain": [
       "<matplotlib.collections.PathCollection at 0x1ff0f7250a0>"
      ]
     },
     "execution_count": 16,
     "metadata": {},
     "output_type": "execute_result"
    },
    {
     "data": {
      "image/png": "[encoded data removed]",
      "text/plain": [
       "<Figure size 432x288 with 1 Axes>"
      ]
     },
     "metadata": {
      "needs_background": "light"
     },
     "output_type": "display_data"
    }
   ],
   "source": [
    "# Non Spherical Data\n",
    "plt.scatter(X[:,0],X[:,1],c=y_cluster_dbs)"
   ]
  },
  {
   "cell_type": "code",
   "execution_count": 17,
   "id": "f76e9854",
   "metadata": {},
   "outputs": [],
   "source": [
    "# Number of cluster\n",
    "labels = dbscan.labels_\n",
    "n_clusters_ = len(set(labels)) - (1 if -1 in labels else 0)"
   ]
  },
  {
   "cell_type": "code",
   "execution_count": 18,
   "id": "87871508",
   "metadata": {},
   "outputs": [
    {
     "data": {
      "text/plain": [
       "5"
      ]
     },
     "execution_count": 18,
     "metadata": {},
     "output_type": "execute_result"
    }
   ],
   "source": [
    "n_clusters_"
   ]
  },
  {
   "cell_type": "code",
   "execution_count": 19,
   "id": "478785ef",
   "metadata": {},
   "outputs": [],
   "source": [
    "# Identify Noise\n",
    "n_noise = list(dbscan.labels_).count(-1)"
   ]
  },
  {
   "cell_type": "code",
   "execution_count": 20,
   "id": "9490da84",
   "metadata": {},
   "outputs": [
    {
     "data": {
      "text/plain": [
       "30"
      ]
     },
     "execution_count": 20,
     "metadata": {},
     "output_type": "execute_result"
    }
   ],
   "source": [
    "n_noise"
   ]
  },
  {
   "cell_type": "code",
   "execution_count": null,
   "id": "8ba24822",
   "metadata": {},
   "outputs": [],
   "source": []
  }
 ],
 "metadata": {
  "kernelspec": {
   "display_name": "Python 3 (ipykernel)",
   "language": "python",
   "name": "python3"
  },
  "language_info": {
   "codemirror_mode": {
    "name": "ipython",
    "version": 3
   },
   "file_extension": ".py",
   "mimetype": "text/x-python",
   "name": "python",
   "nbconvert_exporter": "python",
   "pygments_lexer": "ipython3",
   "version": "3.9.7"
  }
 },
 "nbformat": 4,
 "nbformat_minor": 5
}
