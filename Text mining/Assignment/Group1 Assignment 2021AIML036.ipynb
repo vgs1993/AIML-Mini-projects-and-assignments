{
 "cells": [
  {
   "cell_type": "markdown",
   "id": "cb6b6e06",
   "metadata": {},
   "source": [
    "# Task 1 , Preprocessing and checking data frames"
   ]
  },
  {
   "cell_type": "code",
   "execution_count": 2,
   "id": "ce6adaec",
   "metadata": {},
   "outputs": [],
   "source": [
    "import pandas as pd\n",
    "import numpy as np\n",
    "import matplotlib.pyplot as plt\n",
    "import seaborn as sns\n",
    "%matplotlib inline"
   ]
  },
  {
   "cell_type": "code",
   "execution_count": 3,
   "id": "2b66dc3b",
   "metadata": {},
   "outputs": [],
   "source": [
    "df = pd.read_csv(r\"C:\\Users\\sgovind\\OneDrive - Intel Corporation\\Desktop\\Personal\\bits pilani\\unsupervised learning\\assignemnt two\\jewellery.csv\")"
   ]
  },
  {
   "cell_type": "code",
   "execution_count": 4,
   "id": "3cb24f89",
   "metadata": {},
   "outputs": [
    {
     "data": {
      "text/plain": [
       "(505, 4)"
      ]
     },
     "execution_count": 4,
     "metadata": {},
     "output_type": "execute_result"
    }
   ],
   "source": [
    "df.shape"
   ]
  },
  {
   "cell_type": "code",
   "execution_count": 5,
   "id": "93746898",
   "metadata": {},
   "outputs": [
    {
     "data": {
      "text/html": [
       "<div>\n",
       "<style scoped>\n",
       "    .dataframe tbody tr th:only-of-type {\n",
       "        vertical-align: middle;\n",
       "    }\n",
       "\n",
       "    .dataframe tbody tr th {\n",
       "        vertical-align: top;\n",
       "    }\n",
       "\n",
       "    .dataframe thead th {\n",
       "        text-align: right;\n",
       "    }\n",
       "</style>\n",
       "<table border=\"1\" class=\"dataframe\">\n",
       "  <thead>\n",
       "    <tr style=\"text-align: right;\">\n",
       "      <th></th>\n",
       "      <th>Age</th>\n",
       "      <th>Income</th>\n",
       "      <th>SpendingScore</th>\n",
       "      <th>Savings</th>\n",
       "    </tr>\n",
       "  </thead>\n",
       "  <tbody>\n",
       "    <tr>\n",
       "      <th>0</th>\n",
       "      <td>58</td>\n",
       "      <td>77769</td>\n",
       "      <td>0.791329</td>\n",
       "      <td>6559.829923</td>\n",
       "    </tr>\n",
       "    <tr>\n",
       "      <th>1</th>\n",
       "      <td>59</td>\n",
       "      <td>81799</td>\n",
       "      <td>0.791082</td>\n",
       "      <td>5417.661426</td>\n",
       "    </tr>\n",
       "    <tr>\n",
       "      <th>2</th>\n",
       "      <td>62</td>\n",
       "      <td>74751</td>\n",
       "      <td>0.702657</td>\n",
       "      <td>9258.992965</td>\n",
       "    </tr>\n",
       "    <tr>\n",
       "      <th>3</th>\n",
       "      <td>59</td>\n",
       "      <td>74373</td>\n",
       "      <td>0.765680</td>\n",
       "      <td>7346.334504</td>\n",
       "    </tr>\n",
       "    <tr>\n",
       "      <th>4</th>\n",
       "      <td>87</td>\n",
       "      <td>17760</td>\n",
       "      <td>0.348778</td>\n",
       "      <td>16869.507130</td>\n",
       "    </tr>\n",
       "  </tbody>\n",
       "</table>\n",
       "</div>"
      ],
      "text/plain": [
       "   Age  Income  SpendingScore       Savings\n",
       "0   58   77769       0.791329   6559.829923\n",
       "1   59   81799       0.791082   5417.661426\n",
       "2   62   74751       0.702657   9258.992965\n",
       "3   59   74373       0.765680   7346.334504\n",
       "4   87   17760       0.348778  16869.507130"
      ]
     },
     "execution_count": 5,
     "metadata": {},
     "output_type": "execute_result"
    }
   ],
   "source": [
    "df.head()"
   ]
  },
  {
   "cell_type": "code",
   "execution_count": 6,
   "id": "a03b07f0",
   "metadata": {},
   "outputs": [
    {
     "data": {
      "text/plain": [
       "Age                int64\n",
       "Income             int64\n",
       "SpendingScore    float64\n",
       "Savings          float64\n",
       "dtype: object"
      ]
     },
     "execution_count": 6,
     "metadata": {},
     "output_type": "execute_result"
    }
   ],
   "source": [
    "# Dtypes\n",
    "df.dtypes\n"
   ]
  },
  {
   "cell_type": "code",
   "execution_count": 8,
   "id": "50bb718a",
   "metadata": {},
   "outputs": [
    {
     "data": {
      "text/html": [
       "<div>\n",
       "<style scoped>\n",
       "    .dataframe tbody tr th:only-of-type {\n",
       "        vertical-align: middle;\n",
       "    }\n",
       "\n",
       "    .dataframe tbody tr th {\n",
       "        vertical-align: top;\n",
       "    }\n",
       "\n",
       "    .dataframe thead th {\n",
       "        text-align: right;\n",
       "    }\n",
       "</style>\n",
       "<table border=\"1\" class=\"dataframe\">\n",
       "  <thead>\n",
       "    <tr style=\"text-align: right;\">\n",
       "      <th></th>\n",
       "      <th>Age</th>\n",
       "      <th>Income</th>\n",
       "      <th>SpendingScore</th>\n",
       "      <th>Savings</th>\n",
       "    </tr>\n",
       "  </thead>\n",
       "  <tbody>\n",
       "    <tr>\n",
       "      <th>count</th>\n",
       "      <td>505.000000</td>\n",
       "      <td>505.000000</td>\n",
       "      <td>505.000000</td>\n",
       "      <td>505.000000</td>\n",
       "    </tr>\n",
       "    <tr>\n",
       "      <th>mean</th>\n",
       "      <td>59.019802</td>\n",
       "      <td>75513.291089</td>\n",
       "      <td>0.505083</td>\n",
       "      <td>11862.455867</td>\n",
       "    </tr>\n",
       "    <tr>\n",
       "      <th>std</th>\n",
       "      <td>24.140043</td>\n",
       "      <td>35992.922184</td>\n",
       "      <td>0.259634</td>\n",
       "      <td>4949.229253</td>\n",
       "    </tr>\n",
       "    <tr>\n",
       "      <th>min</th>\n",
       "      <td>17.000000</td>\n",
       "      <td>12000.000000</td>\n",
       "      <td>0.000000</td>\n",
       "      <td>0.000000</td>\n",
       "    </tr>\n",
       "    <tr>\n",
       "      <th>25%</th>\n",
       "      <td>34.000000</td>\n",
       "      <td>34529.000000</td>\n",
       "      <td>0.304792</td>\n",
       "      <td>6828.709702</td>\n",
       "    </tr>\n",
       "    <tr>\n",
       "      <th>50%</th>\n",
       "      <td>59.000000</td>\n",
       "      <td>75078.000000</td>\n",
       "      <td>0.368215</td>\n",
       "      <td>14209.932802</td>\n",
       "    </tr>\n",
       "    <tr>\n",
       "      <th>75%</th>\n",
       "      <td>85.000000</td>\n",
       "      <td>107100.000000</td>\n",
       "      <td>0.768279</td>\n",
       "      <td>16047.268331</td>\n",
       "    </tr>\n",
       "    <tr>\n",
       "      <th>max</th>\n",
       "      <td>97.000000</td>\n",
       "      <td>142000.000000</td>\n",
       "      <td>1.000000</td>\n",
       "      <td>20000.000000</td>\n",
       "    </tr>\n",
       "  </tbody>\n",
       "</table>\n",
       "</div>"
      ],
      "text/plain": [
       "              Age         Income  SpendingScore       Savings\n",
       "count  505.000000     505.000000     505.000000    505.000000\n",
       "mean    59.019802   75513.291089       0.505083  11862.455867\n",
       "std     24.140043   35992.922184       0.259634   4949.229253\n",
       "min     17.000000   12000.000000       0.000000      0.000000\n",
       "25%     34.000000   34529.000000       0.304792   6828.709702\n",
       "50%     59.000000   75078.000000       0.368215  14209.932802\n",
       "75%     85.000000  107100.000000       0.768279  16047.268331\n",
       "max     97.000000  142000.000000       1.000000  20000.000000"
      ]
     },
     "execution_count": 8,
     "metadata": {},
     "output_type": "execute_result"
    }
   ],
   "source": [
    "# Descriptive Stat\n",
    "df.describe()"
   ]
  },
  {
   "cell_type": "code",
   "execution_count": 9,
   "id": "b66b1e98",
   "metadata": {},
   "outputs": [
    {
     "data": {
      "text/plain": [
       "<matplotlib.collections.PathCollection at 0x2f2d8d5d9a0>"
      ]
     },
     "execution_count": 9,
     "metadata": {},
     "output_type": "execute_result"
    },
    {
     "data": {
      "image/png": "[encoded data removed]",
      "text/plain": [
       "<Figure size 432x288 with 1 Axes>"
      ]
     },
     "metadata": {
      "needs_background": "light"
     },
     "output_type": "display_data"
    }
   ],
   "source": [
    "# Simple Plot\n",
    "plt.scatter(df['Age'],df['Income'])"
   ]
  },
  {
   "cell_type": "code",
   "execution_count": 10,
   "id": "5e33d3d4",
   "metadata": {},
   "outputs": [
    {
     "data": {
      "text/plain": [
       "Age  Income\n",
       "17   123828    1\n",
       "     134734    1\n",
       "     134966    1\n",
       "     136255    1\n",
       "18   123718    1\n",
       "              ..\n",
       "94   27771     1\n",
       "     28352     1\n",
       "     38923     1\n",
       "95   27038     1\n",
       "97   27271     1\n",
       "Length: 505, dtype: int64"
      ]
     },
     "execution_count": 10,
     "metadata": {},
     "output_type": "execute_result"
    }
   ],
   "source": [
    "# Groups based on Age and Income\n",
    "df.groupby(['Age','Income']).size()"
   ]
  },
  {
   "cell_type": "markdown",
   "id": "01d07a8f",
   "metadata": {},
   "source": [
    "# Task 2 Cluster data using DBSCAN and checking for outliers"
   ]
  },
  {
   "cell_type": "code",
   "execution_count": 11,
   "id": "318d24d9",
   "metadata": {},
   "outputs": [],
   "source": [
    "# Scale our data\n",
    "from sklearn.preprocessing import StandardScaler"
   ]
  },
  {
   "cell_type": "code",
   "execution_count": 12,
   "id": "cc57572f",
   "metadata": {},
   "outputs": [
    {
     "data": {
      "text/plain": [
       "array([[-4.22871323e-02,  6.27330450e-02,  1.10359261e+00,\n",
       "        -1.07246676e+00],\n",
       "       [-8.21109365e-04,  1.74810526e-01,  1.10264136e+00,\n",
       "        -1.30347264e+00],\n",
       "       [ 1.23576959e-01, -2.11999168e-02,  7.61727378e-01,\n",
       "        -5.26555609e-01],\n",
       "       ...,\n",
       "       [ 1.28462560e+00, -1.11844679e+00, -5.78054216e-01,\n",
       "         8.55312853e-01],\n",
       "       [ 1.32609162e+00, -1.52492929e+00, -5.79865675e-01,\n",
       "         1.32245159e+00],\n",
       "       [ 1.24315958e+00, -1.25833506e+00, -8.31889623e-01,\n",
       "         5.10463045e-01]])"
      ]
     },
     "execution_count": 12,
     "metadata": {},
     "output_type": "execute_result"
    }
   ],
   "source": [
    "X = StandardScaler().fit_transform(df)\n",
    "X"
   ]
  },
  {
   "cell_type": "code",
   "execution_count": 16,
   "id": "17377383",
   "metadata": {},
   "outputs": [
    {
     "data": {
      "text/plain": [
       "<matplotlib.collections.PathCollection at 0x2f2d9b71550>"
      ]
     },
     "execution_count": 16,
     "metadata": {},
     "output_type": "execute_result"
    },
    {
     "data": {
      "image/png": "[encoded data removed]",
      "text/plain": [
       "<Figure size 720x432 with 1 Axes>"
      ]
     },
     "metadata": {
      "needs_background": "light"
     },
     "output_type": "display_data"
    }
   ],
   "source": [
    "plt.figure(figsize=(10,6))\n",
    "plt.scatter(X[:,0], X[:,1], cmap='Paired')"
   ]
  },
  {
   "cell_type": "code",
   "execution_count": 29,
   "id": "b5ef3085",
   "metadata": {},
   "outputs": [],
   "source": [
    "# Init Model\n",
    "from sklearn.cluster import DBSCAN"
   ]
  },
  {
   "cell_type": "code",
   "execution_count": 30,
   "id": "4f07231d",
   "metadata": {},
   "outputs": [],
   "source": [
    "dbscan = DBSCAN(eps=0.3,min_samples=10)"
   ]
  },
  {
   "cell_type": "code",
   "execution_count": 31,
   "id": "42b2cbf6",
   "metadata": {},
   "outputs": [],
   "source": [
    "# Fit Model\n",
    "y_cluster_dbs = dbscan.fit_predict(X)"
   ]
  },
  {
   "cell_type": "code",
   "execution_count": 32,
   "id": "768a56d5",
   "metadata": {},
   "outputs": [
    {
     "data": {
      "text/plain": [
       "array([ 0,  0,  0,  0,  1,  4,  0,  1,  1,  1, -1,  2,  2,  2,  0,  3,  0,\n",
       "        1,  1,  3,  2,  3,  0,  1, -1,  4, -1,  0,  1,  0,  0,  0,  1,  0,\n",
       "        2,  0,  1,  0,  2,  2,  0,  1,  4,  0,  0,  4,  3,  4,  2,  0,  1,\n",
       "        2,  4,  1,  0,  1,  2,  1,  1,  1,  1,  1,  1,  0,  0,  0,  1, -1,\n",
       "        4,  0,  0,  2,  1,  1,  2,  0,  2,  0,  0,  4,  0, -1,  0,  1,  1,\n",
       "        2,  2,  0,  0,  0,  0,  0,  4,  1,  0,  4,  2,  0,  0,  2,  2,  4,\n",
       "        2,  4,  2,  1, -1,  2,  2,  0,  1,  2,  0,  2,  2,  2,  0,  2, -1,\n",
       "        1,  2,  1,  1,  1,  2,  3,  0,  1,  0,  0,  2,  0,  2,  0,  4,  1,\n",
       "       -1,  4,  0,  2,  1,  0,  0,  4,  0,  4,  0, -1,  0,  1,  0,  2,  1,\n",
       "        0,  1,  3,  2,  0,  1,  0,  2,  1,  0,  2, -1,  2,  1,  0,  2,  0,\n",
       "        1,  0,  2,  0,  1,  0,  0,  1,  1,  1,  0,  0,  2,  4,  4,  1,  2,\n",
       "        0,  0,  0,  2,  1,  0,  0,  0,  1, -1,  2,  1,  1,  1,  2,  0,  2,\n",
       "        0,  2,  0,  1,  4,  0,  1,  1, -1,  1,  0,  1,  2,  4,  2,  1,  0,\n",
       "        0,  2,  1,  2,  4,  2,  0,  0,  1,  0,  0,  1,  0,  0,  0, -1,  0,\n",
       "        2,  2,  4,  0,  0,  0, -1,  0,  2,  1,  4, -1,  4,  1,  0,  2,  1,\n",
       "       -1,  2,  2,  0,  0,  3,  0,  0,  1,  0,  1,  2,  4,  0,  2,  1,  0,\n",
       "        1,  1,  2,  0,  1,  1,  0,  0,  1,  2,  2,  3,  2,  1,  1, -1, -1,\n",
       "        1, -1,  4,  0,  2,  2,  0,  2,  1,  1,  2,  0,  2,  1,  0,  2,  4,\n",
       "        0,  1,  2,  2,  1,  3, -1,  0,  1,  2,  0,  0,  1,  2,  1,  2,  1,\n",
       "        2,  1,  1,  2,  1,  2,  0,  2,  0,  0,  2,  2,  1,  1, -1,  4,  2,\n",
       "        1,  4,  1,  3,  0,  0,  0,  1,  1,  2,  2,  3,  2, -1,  0,  2,  4,\n",
       "        1,  0,  1,  4,  0,  1,  1,  0,  1,  2,  0,  3,  2,  2,  0,  1,  1,\n",
       "        1,  1,  1,  2,  2,  1,  0,  2,  0,  3,  1,  1,  0,  1,  1,  0,  1,\n",
       "        1,  2,  1,  0,  2,  4,  2,  0,  1,  2,  0,  0,  0,  1,  2,  4,  2,\n",
       "        0,  2,  0,  0,  4,  2,  3,  4,  2,  2,  1,  0,  1,  2, -1,  2,  0,\n",
       "        0,  1, -1,  2,  1,  2,  0,  0,  2,  0,  1,  0,  2,  0,  1,  0,  1,\n",
       "       -1,  2,  2,  4,  2,  2,  1,  1,  0,  4,  0,  2, -1, -1, -1,  2,  4,\n",
       "        1,  2,  2,  0,  2,  1,  1, -1,  0,  2,  0,  0,  2,  0,  0,  0,  1,\n",
       "        2,  2,  0,  0,  0,  1,  2,  1,  1,  1,  1,  4,  1,  1,  1,  0,  0,\n",
       "        1,  1,  0,  4,  1,  2,  4,  2, -1,  1,  1,  1], dtype=int64)"
      ]
     },
     "execution_count": 32,
     "metadata": {},
     "output_type": "execute_result"
    }
   ],
   "source": [
    "y_cluster_dbs"
   ]
  },
  {
   "cell_type": "code",
   "execution_count": 33,
   "id": "f08ece11",
   "metadata": {},
   "outputs": [
    {
     "data": {
      "text/plain": [
       "{-1, 0, 1, 2, 3, 4}"
      ]
     },
     "execution_count": 33,
     "metadata": {},
     "output_type": "execute_result"
    }
   ],
   "source": [
    "#  Number of Unique Clusters\n",
    "set(y_cluster_dbs)"
   ]
  },
  {
   "cell_type": "code",
   "execution_count": 34,
   "id": "dc06fd8d",
   "metadata": {},
   "outputs": [
    {
     "data": {
      "text/plain": [
       "<matplotlib.collections.PathCollection at 0x2f2da02ff40>"
      ]
     },
     "execution_count": 34,
     "metadata": {},
     "output_type": "execute_result"
    },
    {
     "data": {
      "image/png": "[encoded data removed]",
      "text/plain": [
       "<Figure size 432x288 with 1 Axes>"
      ]
     },
     "metadata": {
      "needs_background": "light"
     },
     "output_type": "display_data"
    }
   ],
   "source": [
    "# Non Spherical Data\n",
    "plt.scatter(X[:,0],X[:,1],c=y_cluster_dbs)"
   ]
  },
  {
   "cell_type": "code",
   "execution_count": 41,
   "id": "4ce3da6b",
   "metadata": {},
   "outputs": [],
   "source": [
    "# Number of cluster\n",
    "labels = dbscan.labels_\n",
    "n_clusters_ = len(set(labels)) - (1 if -1 in labels else 0)"
   ]
  },
  {
   "cell_type": "code",
   "execution_count": 42,
   "id": "8c43cc27",
   "metadata": {},
   "outputs": [
    {
     "data": {
      "text/plain": [
       "5"
      ]
     },
     "execution_count": 42,
     "metadata": {},
     "output_type": "execute_result"
    }
   ],
   "source": [
    "n_clusters_"
   ]
  },
  {
   "cell_type": "code",
   "execution_count": 43,
   "id": "5d036fa4",
   "metadata": {},
   "outputs": [],
   "source": [
    "# Identify Noise\n",
    "n_noise = list(dbscan.labels_).count(-1)"
   ]
  },
  {
   "cell_type": "code",
   "execution_count": 44,
   "id": "9ea490ad",
   "metadata": {},
   "outputs": [
    {
     "data": {
      "text/plain": [
       "30"
      ]
     },
     "execution_count": 44,
     "metadata": {},
     "output_type": "execute_result"
    }
   ],
   "source": [
    "n_noise"
   ]
  },
  {
   "cell_type": "markdown",
   "id": "e8c99369",
   "metadata": {},
   "source": [
    "# Task 3 Removing Outliers and again plotting graph for clusters."
   ]
  },
  {
   "cell_type": "code",
   "execution_count": 46,
   "id": "db872b38",
   "metadata": {},
   "outputs": [],
   "source": [
    "outliers_df= pd.DataFrame(df) \n",
    "outliers = outliers_df[labels==-1]"
   ]
  },
  {
   "cell_type": "code",
   "execution_count": 53,
   "id": "ec43a22d",
   "metadata": {},
   "outputs": [
    {
     "data": {
      "text/plain": [
       "(30, 4)"
      ]
     },
     "execution_count": 53,
     "metadata": {},
     "output_type": "execute_result"
    }
   ],
   "source": [
    "outliers.shape"
   ]
  },
  {
   "cell_type": "code",
   "execution_count": 63,
   "id": "ec9780ed",
   "metadata": {},
   "outputs": [
    {
     "data": {
      "text/html": [
       "<div>\n",
       "<style scoped>\n",
       "    .dataframe tbody tr th:only-of-type {\n",
       "        vertical-align: middle;\n",
       "    }\n",
       "\n",
       "    .dataframe tbody tr th {\n",
       "        vertical-align: top;\n",
       "    }\n",
       "\n",
       "    .dataframe thead th {\n",
       "        text-align: right;\n",
       "    }\n",
       "</style>\n",
       "<table border=\"1\" class=\"dataframe\">\n",
       "  <thead>\n",
       "    <tr style=\"text-align: right;\">\n",
       "      <th></th>\n",
       "      <th>Age</th>\n",
       "      <th>Income</th>\n",
       "      <th>SpendingScore</th>\n",
       "      <th>Savings</th>\n",
       "    </tr>\n",
       "  </thead>\n",
       "  <tbody>\n",
       "    <tr>\n",
       "      <th>count</th>\n",
       "      <td>30.000000</td>\n",
       "      <td>30.000000</td>\n",
       "      <td>30.000000</td>\n",
       "      <td>30.000000</td>\n",
       "    </tr>\n",
       "    <tr>\n",
       "      <th>mean</th>\n",
       "      <td>61.533333</td>\n",
       "      <td>99386.300000</td>\n",
       "      <td>0.418639</td>\n",
       "      <td>11698.824666</td>\n",
       "    </tr>\n",
       "    <tr>\n",
       "      <th>std</th>\n",
       "      <td>31.420105</td>\n",
       "      <td>41884.423159</td>\n",
       "      <td>0.358638</td>\n",
       "      <td>5708.502457</td>\n",
       "    </tr>\n",
       "    <tr>\n",
       "      <th>min</th>\n",
       "      <td>17.000000</td>\n",
       "      <td>15671.000000</td>\n",
       "      <td>0.000000</td>\n",
       "      <td>0.000000</td>\n",
       "    </tr>\n",
       "    <tr>\n",
       "      <th>25%</th>\n",
       "      <td>28.250000</td>\n",
       "      <td>92225.000000</td>\n",
       "      <td>0.099719</td>\n",
       "      <td>5386.157319</td>\n",
       "    </tr>\n",
       "    <tr>\n",
       "      <th>50%</th>\n",
       "      <td>82.500000</td>\n",
       "      <td>118682.500000</td>\n",
       "      <td>0.329643</td>\n",
       "      <td>14222.024079</td>\n",
       "    </tr>\n",
       "    <tr>\n",
       "      <th>75%</th>\n",
       "      <td>87.000000</td>\n",
       "      <td>125785.750000</td>\n",
       "      <td>0.845079</td>\n",
       "      <td>15960.953803</td>\n",
       "    </tr>\n",
       "    <tr>\n",
       "      <th>max</th>\n",
       "      <td>93.000000</td>\n",
       "      <td>142000.000000</td>\n",
       "      <td>1.000000</td>\n",
       "      <td>17969.693769</td>\n",
       "    </tr>\n",
       "  </tbody>\n",
       "</table>\n",
       "</div>"
      ],
      "text/plain": [
       "             Age         Income  SpendingScore       Savings\n",
       "count  30.000000      30.000000      30.000000     30.000000\n",
       "mean   61.533333   99386.300000       0.418639  11698.824666\n",
       "std    31.420105   41884.423159       0.358638   5708.502457\n",
       "min    17.000000   15671.000000       0.000000      0.000000\n",
       "25%    28.250000   92225.000000       0.099719   5386.157319\n",
       "50%    82.500000  118682.500000       0.329643  14222.024079\n",
       "75%    87.000000  125785.750000       0.845079  15960.953803\n",
       "max    93.000000  142000.000000       1.000000  17969.693769"
      ]
     },
     "execution_count": 63,
     "metadata": {},
     "output_type": "execute_result"
    }
   ],
   "source": [
    "outliers.describe()"
   ]
  },
  {
   "cell_type": "code",
   "execution_count": 64,
   "id": "d2f51fea",
   "metadata": {},
   "outputs": [
    {
     "data": {
      "text/html": [
       "<div>\n",
       "<style scoped>\n",
       "    .dataframe tbody tr th:only-of-type {\n",
       "        vertical-align: middle;\n",
       "    }\n",
       "\n",
       "    .dataframe tbody tr th {\n",
       "        vertical-align: top;\n",
       "    }\n",
       "\n",
       "    .dataframe thead th {\n",
       "        text-align: right;\n",
       "    }\n",
       "</style>\n",
       "<table border=\"1\" class=\"dataframe\">\n",
       "  <thead>\n",
       "    <tr style=\"text-align: right;\">\n",
       "      <th></th>\n",
       "      <th>Age</th>\n",
       "      <th>Income</th>\n",
       "      <th>SpendingScore</th>\n",
       "      <th>Savings</th>\n",
       "    </tr>\n",
       "  </thead>\n",
       "  <tbody>\n",
       "    <tr>\n",
       "      <th>10</th>\n",
       "      <td>85</td>\n",
       "      <td>111389</td>\n",
       "      <td>0.036795</td>\n",
       "      <td>16009.237763</td>\n",
       "    </tr>\n",
       "    <tr>\n",
       "      <th>24</th>\n",
       "      <td>89</td>\n",
       "      <td>119697</td>\n",
       "      <td>0.091679</td>\n",
       "      <td>16215.399077</td>\n",
       "    </tr>\n",
       "    <tr>\n",
       "      <th>26</th>\n",
       "      <td>17</td>\n",
       "      <td>134966</td>\n",
       "      <td>0.907242</td>\n",
       "      <td>4128.044796</td>\n",
       "    </tr>\n",
       "    <tr>\n",
       "      <th>67</th>\n",
       "      <td>28</td>\n",
       "      <td>123153</td>\n",
       "      <td>0.984241</td>\n",
       "      <td>3697.513645</td>\n",
       "    </tr>\n",
       "    <tr>\n",
       "      <th>81</th>\n",
       "      <td>84</td>\n",
       "      <td>114406</td>\n",
       "      <td>0.123838</td>\n",
       "      <td>16840.570584</td>\n",
       "    </tr>\n",
       "  </tbody>\n",
       "</table>\n",
       "</div>"
      ],
      "text/plain": [
       "    Age  Income  SpendingScore       Savings\n",
       "10   85  111389       0.036795  16009.237763\n",
       "24   89  119697       0.091679  16215.399077\n",
       "26   17  134966       0.907242   4128.044796\n",
       "67   28  123153       0.984241   3697.513645\n",
       "81   84  114406       0.123838  16840.570584"
      ]
     },
     "execution_count": 64,
     "metadata": {},
     "output_type": "execute_result"
    }
   ],
   "source": [
    "outliers.head()"
   ]
  },
  {
   "cell_type": "code",
   "execution_count": 56,
   "id": "a5ab5542",
   "metadata": {},
   "outputs": [],
   "source": [
    "df.drop(outliers.index, axis=0,inplace=True) #Remove outliers data from main data frame "
   ]
  },
  {
   "cell_type": "code",
   "execution_count": 57,
   "id": "4bc01e26",
   "metadata": {},
   "outputs": [
    {
     "data": {
      "text/plain": [
       "(475, 4)"
      ]
     },
     "execution_count": 57,
     "metadata": {},
     "output_type": "execute_result"
    }
   ],
   "source": [
    "df.shape"
   ]
  },
  {
   "cell_type": "code",
   "execution_count": 58,
   "id": "f6ef7e67",
   "metadata": {},
   "outputs": [
    {
     "data": {
      "text/plain": [
       "array([[-0.03646359,  0.10734363,  1.11716657, -1.08452553],\n",
       "       [ 0.0058841 ,  0.22228913,  1.1161849 , -1.31767442],\n",
       "       [ 0.13292717,  0.02126286,  0.76436751, -0.53355   ],\n",
       "       ...,\n",
       "       [ 1.31866253, -1.1040621 , -0.61826414,  0.86113793],\n",
       "       [ 1.36101022, -1.52094631, -0.62013354,  1.33261027],\n",
       "       [ 1.27631484, -1.24753005, -0.88021793,  0.51308898]])"
      ]
     },
     "execution_count": 58,
     "metadata": {},
     "output_type": "execute_result"
    }
   ],
   "source": [
    "X = StandardScaler().fit_transform(df)\n",
    "X"
   ]
  },
  {
   "cell_type": "code",
   "execution_count": 59,
   "id": "4afb0650",
   "metadata": {},
   "outputs": [
    {
     "data": {
      "text/plain": [
       "<matplotlib.collections.PathCollection at 0x2f2da310e20>"
      ]
     },
     "execution_count": 59,
     "metadata": {},
     "output_type": "execute_result"
    },
    {
     "data": {
      "image/png": "[encoded data removed]",
      "text/plain": [
       "<Figure size 432x288 with 1 Axes>"
      ]
     },
     "metadata": {
      "needs_background": "light"
     },
     "output_type": "display_data"
    }
   ],
   "source": [
    "dbscan = DBSCAN(eps=0.3,min_samples=10)\n",
    "# Fit Model\n",
    "y_cluster_dbs = dbscan.fit_predict(X)\n",
    "# Non Spherical Data\n",
    "plt.scatter(X[:,0],X[:,1],c=y_cluster_dbs)"
   ]
  },
  {
   "cell_type": "code",
   "execution_count": 60,
   "id": "265c0f24",
   "metadata": {},
   "outputs": [],
   "source": [
    "# Number of cluster\n",
    "labels = dbscan.labels_\n",
    "n_clusters_ = len(set(labels)) - (1 if -1 in labels else 0)"
   ]
  },
  {
   "cell_type": "code",
   "execution_count": 61,
   "id": "2f1c68d4",
   "metadata": {},
   "outputs": [
    {
     "data": {
      "text/plain": [
       "5"
      ]
     },
     "execution_count": 61,
     "metadata": {},
     "output_type": "execute_result"
    }
   ],
   "source": [
    "n_clusters_"
   ]
  },
  {
   "cell_type": "code",
   "execution_count": 62,
   "id": "a11ccbf7",
   "metadata": {},
   "outputs": [
    {
     "data": {
      "text/plain": [
       "2"
      ]
     },
     "execution_count": 62,
     "metadata": {},
     "output_type": "execute_result"
    }
   ],
   "source": [
    "# Identify Noise\n",
    "n_noise = list(dbscan.labels_).count(-1)\n",
    "n_noise"
   ]
  },
  {
   "cell_type": "code",
   "execution_count": 74,
   "id": "768c54c9",
   "metadata": {},
   "outputs": [],
   "source": [
    "file_name = 'MarksDataFinal.xlsx'\n",
    "df.to_excel(file_name)"
   ]
  },
  {
   "cell_type": "markdown",
   "id": "0a129999",
   "metadata": {},
   "source": [
    "# Interpretation from output :\n",
    "\n",
    "Below data point differnetiate the classes from each other:\n",
    "\n",
    "Classes are based on age and spending score of the person and are grouped as below when we anaylse final data frame with labels.\n",
    "\n",
    "1 Age 51 to 68 fall in label 0\n",
    "2 Age group of 79 to 97 with higher spending score more than 0.2 fall in label 1\n",
    "3 Age group 24 to 44 with spending score of 0.18 to 0.4 fall  in label 2\n",
    "4 Age group 82 to 92 with very low spending score less than 0.1 fall in label 3\n",
    "5 Age group 18 to 31 with spending score above 0.8 fall in label 4\n",
    "\n",
    "After removal of outlier noise reduced from 30 to 2. WHich mean cluster are grouped well.\n"
   ]
  }
 ],
 "metadata": {
  "kernelspec": {
   "display_name": "Python 3 (ipykernel)",
   "language": "python",
   "name": "python3"
  },
  "language_info": {
   "codemirror_mode": {
    "name": "ipython",
    "version": 3
   },
   "file_extension": ".py",
   "mimetype": "text/x-python",
   "name": "python",
   "nbconvert_exporter": "python",
   "pygments_lexer": "ipython3",
   "version": "3.9.7"
  }
 },
 "nbformat": 4,
 "nbformat_minor": 5
}
