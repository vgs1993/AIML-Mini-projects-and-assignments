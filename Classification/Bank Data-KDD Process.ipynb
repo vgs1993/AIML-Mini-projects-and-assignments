{
 "cells": [
  {
   "cell_type": "markdown",
   "metadata": {},
   "source": [
    "\n",
    "<img src=\"img/logo.gif\" align=\"center\" width=\"240\" />\n",
    "\n",
    "\n",
    "## Problem Statement\n",
    "\n",
    "A bank wants to have a model that helps to predict whether a client will subscribe for a term deposit or not, based on the relevant data available with the bank. \n",
    "\n",
    "As a data scientist, we are required to construct a classification model based on the available data and evaluate its efficacy. \n",
    "\n",
    "The general activities to perform KDD include\n",
    "1. Preparing the dataset for analysis\n",
    "2. Investigating the relationships in the data set with visualization\n",
    "3. Creating a model\n",
    "4. Evaluating the performance of the classification model.\n",
    "\n",
    "### KDD Process on Bank Data:\n",
    "\n",
    "The KDD process is described in detail with the following activities,\n",
    "1. <a href=\"#LoadDataset\">Loading of dataset</a>\n",
    "2. <a href=\"#EDA\">Perform Eploratory Data Analysis(EDA)</a>\n",
    "3. <a href=\"#DataPreprocessing\">Data pre-processing</a>\n",
    "4. <a href=\"#SplitTrain\">Spliting training and testing data</a>\n",
    "5. <a href=\"#TrainModel\">Train and Build the model</a>\n",
    "6. <a href=\"#TestModel\">Test the model(Predicting with test data)</a>\n",
    "7. <a href=\"#EvalModel\">Evaluate the model performance</a>\n",
    "8. <a href=\"#Optimization\">Optimization and improvements of model efficiency</a>\n",
    "\n"
   ]
  },
  {
   "cell_type": "markdown",
   "metadata": {},
   "source": [
    "## 0. Importing libraries"
   ]
  },
  {
   "cell_type": "code",
   "execution_count": 1,
   "metadata": {},
   "outputs": [],
   "source": [
    "import pandas as pd\n",
    "import numpy as np\n",
    "import time\n",
    "import warnings\n",
    "warnings.filterwarnings(\"ignore\")\n",
    "\n",
    "# Matplotlib library\n",
    "import matplotlib.pyplot as plt\n",
    "%matplotlib inline\n",
    "\n",
    "# Importing sklearn libraries for preprocessing, train test splitting, \n",
    "# model building, evaluation and optimization purpose\n",
    "from sklearn.preprocessing import LabelEncoder\n",
    "from sklearn.linear_model import LogisticRegression\n",
    "\n",
    "from sklearn.impute import SimpleImputer\n",
    "from sklearn.model_selection import train_test_split, GridSearchCV, cross_val_predict\n",
    "from sklearn.tree import DecisionTreeClassifier\n",
    "from sklearn.metrics import classification_report, confusion_matrix, roc_curve, auc, accuracy_score\n",
    "\n",
    "#Random forest tree\n",
    "from sklearn.ensemble import RandomForestClassifier\n",
    "\n",
    "from pprint import pprint\n",
    "\n",
    "import seaborn as sns\n",
    "#import missingno as msno\n",
    "\n",
    "from matplotlib import rcParams\n",
    "\n",
    "# rcParams['figure.figsize'] = 10,6"
   ]
  },
  {
   "cell_type": "markdown",
   "metadata": {},
   "source": [
    "<a name=\"LoadDataset\"></a>\n",
    "\n",
    "## 1. Loading of Dataset\n",
    "\n",
    "The data will be loaded from the given dataset file. Here, the data is given in the form of MS Excel. We need to load the data into a Dataframe to process further. \n",
    "<a name=\"loading_data\" />"
   ]
  },
  {
   "cell_type": "code",
   "execution_count": 2,
   "metadata": {},
   "outputs": [],
   "source": [
    "# Bank dataset from spreadsheet file\n",
    "bank_data = pd.read_excel('data/Bank Data for case study assignment.xlsx', sheet_name='Data', header=0)"
   ]
  },
  {
   "cell_type": "markdown",
   "metadata": {},
   "source": [
    "The default attributes have space and `?` in the name. We need to remove the special characters to make the attributes name as consistent."
   ]
  },
  {
   "cell_type": "code",
   "execution_count": 3,
   "metadata": {},
   "outputs": [
    {
     "data": {
      "text/html": [
       "<div>\n",
       "<style scoped>\n",
       "    .dataframe tbody tr th:only-of-type {\n",
       "        vertical-align: middle;\n",
       "    }\n",
       "\n",
       "    .dataframe tbody tr th {\n",
       "        vertical-align: top;\n",
       "    }\n",
       "\n",
       "    .dataframe thead th {\n",
       "        text-align: right;\n",
       "    }\n",
       "</style>\n",
       "<table border=\"1\" class=\"dataframe\">\n",
       "  <thead>\n",
       "    <tr style=\"text-align: right;\">\n",
       "      <th></th>\n",
       "      <th>Age</th>\n",
       "      <th>Job</th>\n",
       "      <th>Marital status</th>\n",
       "      <th>Education</th>\n",
       "      <th>Credit default</th>\n",
       "      <th>Housing loan</th>\n",
       "      <th>Personal loan</th>\n",
       "      <th>Term deposit</th>\n",
       "    </tr>\n",
       "  </thead>\n",
       "  <tbody>\n",
       "    <tr>\n",
       "      <th>0</th>\n",
       "      <td>30</td>\n",
       "      <td>unemployed</td>\n",
       "      <td>married</td>\n",
       "      <td>primary</td>\n",
       "      <td>no</td>\n",
       "      <td>no</td>\n",
       "      <td>no</td>\n",
       "      <td>no</td>\n",
       "    </tr>\n",
       "    <tr>\n",
       "      <th>1</th>\n",
       "      <td>33</td>\n",
       "      <td>services</td>\n",
       "      <td>married</td>\n",
       "      <td>secondary</td>\n",
       "      <td>no</td>\n",
       "      <td>yes</td>\n",
       "      <td>yes</td>\n",
       "      <td>no</td>\n",
       "    </tr>\n",
       "    <tr>\n",
       "      <th>2</th>\n",
       "      <td>35</td>\n",
       "      <td>management</td>\n",
       "      <td>single</td>\n",
       "      <td>tertiary</td>\n",
       "      <td>no</td>\n",
       "      <td>yes</td>\n",
       "      <td>no</td>\n",
       "      <td>no</td>\n",
       "    </tr>\n",
       "    <tr>\n",
       "      <th>3</th>\n",
       "      <td>30</td>\n",
       "      <td>management</td>\n",
       "      <td>married</td>\n",
       "      <td>tertiary</td>\n",
       "      <td>no</td>\n",
       "      <td>yes</td>\n",
       "      <td>yes</td>\n",
       "      <td>no</td>\n",
       "    </tr>\n",
       "    <tr>\n",
       "      <th>4</th>\n",
       "      <td>59</td>\n",
       "      <td>blue-collar</td>\n",
       "      <td>married</td>\n",
       "      <td>secondary</td>\n",
       "      <td>no</td>\n",
       "      <td>yes</td>\n",
       "      <td>no</td>\n",
       "      <td>no</td>\n",
       "    </tr>\n",
       "  </tbody>\n",
       "</table>\n",
       "</div>"
      ],
      "text/plain": [
       "   Age          Job Marital status  Education Credit default Housing loan  \\\n",
       "0   30   unemployed        married    primary             no           no   \n",
       "1   33     services        married  secondary             no          yes   \n",
       "2   35   management         single   tertiary             no          yes   \n",
       "3   30   management        married   tertiary             no          yes   \n",
       "4   59  blue-collar        married  secondary             no          yes   \n",
       "\n",
       "  Personal loan Term deposit  \n",
       "0            no           no  \n",
       "1           yes           no  \n",
       "2            no           no  \n",
       "3           yes           no  \n",
       "4            no           no  "
      ]
     },
     "execution_count": 3,
     "metadata": {},
     "output_type": "execute_result"
    }
   ],
   "source": [
    "# Rename the columns\n",
    "bank_data.rename(columns={'age':'Age', 'job': 'Job', 'marital status': 'Marital status','education':'Education','credit default?': 'Credit default', 'housing loan?': 'Housing loan', 'y': 'Term deposit'}, inplace=True)\n",
    "\n",
    "# Breif look on the data\n",
    "bank_data.head()"
   ]
  },
  {
   "cell_type": "markdown",
   "metadata": {},
   "source": [
    "<a name=\"EDA\"></a>\n",
    "\n",
    "## 2. Exploratory Data Analysis(EDA)\n",
    "\n",
    "Exploratory Data Analysis(EDA) will help us to understand the data more on performing the KDD process further. The data will be explored statistically to see the quality and nature of the data.\n"
   ]
  },
  {
   "cell_type": "code",
   "execution_count": 4,
   "metadata": {},
   "outputs": [
    {
     "name": "stdout",
     "output_type": "stream",
     "text": [
      "<class 'pandas.core.frame.DataFrame'>\n",
      "RangeIndex: 1021 entries, 0 to 1020\n",
      "Data columns (total 8 columns):\n",
      " #   Column          Non-Null Count  Dtype \n",
      "---  ------          --------------  ----- \n",
      " 0   Age             1021 non-null   int64 \n",
      " 1   Job             1019 non-null   object\n",
      " 2   Marital status  1020 non-null   object\n",
      " 3   Education       1020 non-null   object\n",
      " 4   Credit default  1020 non-null   object\n",
      " 5   Housing loan    1019 non-null   object\n",
      " 6   Personal loan   1019 non-null   object\n",
      " 7   Term deposit    1021 non-null   object\n",
      "dtypes: int64(1), object(7)\n",
      "memory usage: 63.9+ KB\n"
     ]
    }
   ],
   "source": [
    "bank_data.info()"
   ]
  },
  {
   "cell_type": "markdown",
   "metadata": {},
   "source": [
    "Except the atribute `Age`, all other attributes are categorical attributes"
   ]
  },
  {
   "cell_type": "code",
   "execution_count": 5,
   "metadata": {},
   "outputs": [
    {
     "data": {
      "text/plain": [
       "Index(['Age', 'Job', 'Marital status', 'Education', 'Credit default',\n",
       "       'Housing loan', 'Personal loan', 'Term deposit'],\n",
       "      dtype='object')"
      ]
     },
     "execution_count": 5,
     "metadata": {},
     "output_type": "execute_result"
    }
   ],
   "source": [
    "bank_columns = bank_data.columns\n",
    "bank_columns"
   ]
  },
  {
   "cell_type": "markdown",
   "metadata": {},
   "source": [
    "### Statistical Summary\n",
    "\n",
    "The dataset contains most of the attributes as a categorical data. The general statistical summary such as mean, median, std and five-point summary can not be applied to all. Only the Age attribute is a numeric field hence the statistical summary can be applied there. "
   ]
  },
  {
   "cell_type": "code",
   "execution_count": 6,
   "metadata": {},
   "outputs": [
    {
     "name": "stdout",
     "output_type": "stream",
     "text": [
      "               Age\n",
      "count  1021.000000\n",
      "mean     41.066601\n",
      "std      10.400013\n",
      "min      19.000000\n",
      "25%      33.000000\n",
      "50%      39.000000\n",
      "75%      48.000000\n",
      "max      84.000000\n",
      "================================================================================\n",
      "Mode value of categorical attributes: \n",
      "\r",
      " Age = 32\n",
      "\r",
      " Job = blue-collar\n",
      "\r",
      " Marital status = married\n",
      "\r",
      " Education = secondary\n",
      "\r",
      " Credit default = no\n",
      "\r",
      " Housing loan = yes\n",
      "\r",
      " Personal loan = no\n",
      "\r",
      " Term deposit = no\n"
     ]
    }
   ],
   "source": [
    "print(bank_data.describe())\n",
    "print(\"==\"*40)\n",
    "print(\"Mode value of categorical attributes: \")\n",
    "for col in bank_data.columns:\n",
    "    print(\"\\r {0} = {1}\".format(col, bank_data[col].mode().values[0]))"
   ]
  },
  {
   "cell_type": "markdown",
   "metadata": {},
   "source": [
    "### Missing values in the dataset"
   ]
  },
  {
   "cell_type": "code",
   "execution_count": 7,
   "metadata": {},
   "outputs": [
    {
     "data": {
      "text/plain": [
       "Age               0\n",
       "Job               2\n",
       "Marital status    1\n",
       "Education         1\n",
       "Credit default    1\n",
       "Housing loan      2\n",
       "Personal loan     2\n",
       "Term deposit      0\n",
       "dtype: int64"
      ]
     },
     "execution_count": 7,
     "metadata": {},
     "output_type": "execute_result"
    }
   ],
   "source": [
    "bank_data.isnull().sum()"
   ]
  },
  {
   "cell_type": "markdown",
   "metadata": {},
   "source": [
    "The below heatmap shows the null values in the attribute. We can see the null values as thin line across the attributes."
   ]
  },
  {
   "cell_type": "code",
   "execution_count": 8,
   "metadata": {},
   "outputs": [],
   "source": [
    "#sns.heatmap(bank_data.isnull(), cmap='viridis', fmt='.2g')"
   ]
  },
  {
   "cell_type": "code",
   "execution_count": 9,
   "metadata": {},
   "outputs": [],
   "source": [
    "#msno.bar(bank_data, figsize=(8,6), fontsize=14, color='darkgray' )"
   ]
  },
  {
   "cell_type": "markdown",
   "metadata": {},
   "source": [
    "### Noisy Data\n",
    "\n",
    "Noisy data are the ones do not give any meaning to the attribute. The noisy data create inconsistency in the data.\n",
    "\n",
    "Let us iterate through the data to find the unique values that are encompassed by the attribute. We can identify the inconsistant data that are present in the columns."
   ]
  },
  {
   "cell_type": "code",
   "execution_count": 10,
   "metadata": {},
   "outputs": [
    {
     "name": "stdout",
     "output_type": "stream",
     "text": [
      "Unique values of Age:\t=>[30 33 35 59 36 39 41 43 20 31 40 56 37 25 38 42 44 26 55 67 53 68 32 49\n",
      " 78 23 52 34 61 45 48 57 54 63 51 29 50 27 60 28 21 58 22 46 24 77 75 47\n",
      " 70 65 64 62 66 19 71 69 84]\n",
      "Unique values of Job:\t=>['unemployed' 'services' 'management' 'blue-collar' 'self-employed'\n",
      " 'technician' 'entrepreneur' 'admin.' 'student' 'housemaid' 'retired' nan\n",
      " 'unknown']\n",
      "Unique values of Marital status:\t=>['married' 'single' 'divorced' nan]\n",
      "Unique values of Education:\t=>['primary' 'secondary' 'tertiary' 'unknown' nan]\n",
      "Unique values of Credit default:\t=>['no' 'yes' nan]\n",
      "Unique values of Housing loan:\t=>['no' 'yes' nan 'xxxyy']\n",
      "Unique values of Personal loan:\t=>['no' 'yes' nan]\n",
      "Unique values of Term deposit:\t=>['no' 'yes']\n"
     ]
    }
   ],
   "source": [
    "# Iterate through the columns and \n",
    "# pass the column name in the bank dataframe\n",
    "for col in bank_data.columns:\n",
    "    print(\"Unique values of {0}:\\t=>{1}\".format(col, pd.unique(bank_data[col])))"
   ]
  },
  {
   "cell_type": "code",
   "execution_count": 11,
   "metadata": {},
   "outputs": [
    {
     "name": "stdout",
     "output_type": "stream",
     "text": [
      "Education Attribute :\n",
      "secondary    524\n",
      "tertiary     303\n",
      "primary      151\n",
      "unknown       42\n",
      "Name: Education, dtype: int64 \n",
      "----------------------------------------------------------------------------------------------------\n",
      "Job Attribute :\n",
      "blue-collar      217\n",
      "management       212\n",
      "technician       178\n",
      "admin.           107\n",
      "services          93\n",
      "self-employed     52\n",
      "retired           46\n",
      "entrepreneur      32\n",
      "unemployed        29\n",
      "student           23\n",
      "housemaid         20\n",
      "unknown           10\n",
      "Name: Job, dtype: int64 \n",
      "----------------------------------------------------------------------------------------------------\n",
      "House Loan Attribute :\n",
      "yes      583\n",
      "no       435\n",
      "xxxyy      1\n",
      "Name: Housing loan, dtype: int64 \n"
     ]
    }
   ],
   "source": [
    "education_count = bank_data['Education'].value_counts()\n",
    "job_count = bank_data['Job'].value_counts()\n",
    "house_loan_count = bank_data['Housing loan'].value_counts()\n",
    "Marital_status_count = bank_data['Marital status'].value_counts()\n",
    "\n",
    "print(\"Education Attribute :\\n{0} \".format(education_count))\n",
    "print(\"--\"*50)\n",
    "print(\"Job Attribute :\\n{0} \".format(job_count))\n",
    "print(\"--\"*50)\n",
    "print(\"House Loan Attribute :\\n{0} \".format(house_loan_count))"
   ]
  },
  {
   "cell_type": "markdown",
   "metadata": {},
   "source": [
    "### Plotting the data value distribution"
   ]
  },
  {
   "cell_type": "code",
   "execution_count": 12,
   "metadata": {},
   "outputs": [
    {
     "data": {
      "image/png": "[encoded data removed]",
      "text/plain": [
       "<Figure size 864x576 with 4 Axes>"
      ]
     },
     "metadata": {},
     "output_type": "display_data"
    }
   ],
   "source": [
    "sns.set(style='white', palette='muted', color_codes=True)\n",
    "\n",
    "fig, axes = plt.subplots(2, 2, figsize=(12,8), sharex=False)\n",
    "sns.despine(left=True)\n",
    "\n",
    "# Education count\n",
    "sns.barplot(education_count.index, education_count, ax=axes[0,0])\n",
    "# axes[0,0].set_xticks(Rotation=60)\n",
    "sns.barplot(job_count.index, job_count, ax=axes[0,1])\n",
    "\n",
    "sns.barplot(house_loan_count.index, house_loan_count, ax=axes[1,0])\n",
    "\n",
    "sns.barplot(Marital_status_count.index, Marital_status_count, ax=axes[1,1])\n",
    "plt.setp(plt.gcf().get_axes(), xlabel='');\n",
    "fig.subplots_adjust(wspace=0.3, hspace=0.4)\n",
    "for ax in fig.axes:\n",
    "    plt.sca(ax)\n",
    "    plt.xticks(rotation=45)\n",
    "    \n",
    "plt.show()"
   ]
  },
  {
   "cell_type": "markdown",
   "metadata": {},
   "source": [
    "**Target Attribute**\n",
    "The target attribute `y` or Term Deposit is a categorical attribute. The count distribution count can be views as below,"
   ]
  },
  {
   "cell_type": "code",
   "execution_count": 13,
   "metadata": {},
   "outputs": [
    {
     "data": {
      "text/plain": [
       "<matplotlib.axes._subplots.AxesSubplot at 0x24e42d46910>"
      ]
     },
     "execution_count": 13,
     "metadata": {},
     "output_type": "execute_result"
    },
    {
     "data": {
      "image/png": "[encoded data removed]",
      "text/plain": [
       "<Figure size 432x288 with 1 Axes>"
      ]
     },
     "metadata": {},
     "output_type": "display_data"
    }
   ],
   "source": [
    "sns.countplot(x='Term deposit', data=bank_data, palette=\"muted\")"
   ]
  },
  {
   "cell_type": "markdown",
   "metadata": {},
   "source": [
    "<a name=\"DataPreprocessing\"></a>\n",
    "\n",
    "## 3. Data Pre-processing\n",
    "\n",
    "The quality of the data that was explored during the EDA step will get corrected in data pre-processing stage. Generally the data pre-processing gets started with the filling the missing values and followed by removing noisy data, integrating various data element sources, data transformation and data reduction. "
   ]
  },
  {
   "cell_type": "markdown",
   "metadata": {},
   "source": [
    "### Reducing the noisy data\n",
    "\n",
    "The inconsistent noisy data will get replaced by the NaN value so that it will get imputed with actual values. "
   ]
  },
  {
   "cell_type": "code",
   "execution_count": 14,
   "metadata": {},
   "outputs": [
    {
     "name": "stdout",
     "output_type": "stream",
     "text": [
      "Job attribute :\n",
      "blue-collar      217\n",
      "management       212\n",
      "technician       178\n",
      "admin.           107\n",
      "services          93\n",
      "self-employed     52\n",
      "retired           46\n",
      "entrepreneur      32\n",
      "unemployed        29\n",
      "student           23\n",
      "housemaid         20\n",
      "Name: Job, dtype: int64\n",
      "--------------------------------------------------------------------------------\n",
      "Education attribute :\n",
      "secondary    524\n",
      "tertiary     303\n",
      "primary      151\n",
      "Name: Education, dtype: int64\n",
      "--------------------------------------------------------------------------------\n",
      "House loan attribute :\n",
      "yes    583\n",
      "no     435\n",
      "Name: Housing loan, dtype: int64\n"
     ]
    }
   ],
   "source": [
    "# Replacing the unknown and xxxyy value to nan\n",
    "for col in bank_data.columns:\n",
    "    bank_data[col].replace('unknown', np.nan, inplace=True)\n",
    "    bank_data[col].replace('xxxyy', np.nan, inplace=True)\n",
    "    \n",
    "education_count = bank_data['Education'].value_counts()\n",
    "job_count = bank_data['Job'].value_counts()\n",
    "house_loan_count = bank_data['Housing loan'].value_counts()\n",
    "\n",
    "print(\"Job attribute :\\n{0}\".format(job_count))\n",
    "print(\"--\"*40)\n",
    "print(\"Education attribute :\\n{0}\".format(education_count))\n",
    "print(\"--\"*40)\n",
    "print(\"House loan attribute :\\n{0}\".format(house_loan_count))\n"
   ]
  },
  {
   "cell_type": "markdown",
   "metadata": {},
   "source": [
    "### Mode values\n",
    "\n",
    "Mode denotes the most-frequently occuring value in an attribute. The following information provides the mode values of Job, Education and Houseloan attributes"
   ]
  },
  {
   "cell_type": "code",
   "execution_count": 15,
   "metadata": {},
   "outputs": [
    {
     "name": "stdout",
     "output_type": "stream",
     "text": [
      "Mode of Age is 0    32\n",
      "dtype: int64\n",
      "Mode of Job is 0    blue-collar\n",
      "dtype: object\n",
      "Mode of Marital status is 0    married\n",
      "dtype: object\n",
      "Mode of Education is 0    secondary\n",
      "dtype: object\n",
      "Mode of Credit default is 0    no\n",
      "dtype: object\n",
      "Mode of Housing loan is 0    yes\n",
      "dtype: object\n",
      "Mode of Personal loan is 0    no\n",
      "dtype: object\n",
      "Mode of Term deposit is 0    no\n",
      "dtype: object\n"
     ]
    }
   ],
   "source": [
    "for col in bank_data.columns:\n",
    "    print(\"Mode of {0} is {1}\".format(col, bank_data[col].mode()))"
   ]
  },
  {
   "cell_type": "markdown",
   "metadata": {},
   "source": [
    "### Imputing the missing values\n",
    "\n",
    "Imputing the missing values is a critical step in statistical analysis where the missing values will get replaced either by a mean, median or mode value."
   ]
  },
  {
   "cell_type": "code",
   "execution_count": 16,
   "metadata": {
    "scrolled": true
   },
   "outputs": [
    {
     "name": "stdout",
     "output_type": "stream",
     "text": [
      "<class 'pandas.core.frame.DataFrame'>\n",
      "RangeIndex: 1021 entries, 0 to 1020\n",
      "Data columns (total 8 columns):\n",
      " #   Column          Non-Null Count  Dtype \n",
      "---  ------          --------------  ----- \n",
      " 0   Age             1021 non-null   object\n",
      " 1   Job             1021 non-null   object\n",
      " 2   Marital status  1021 non-null   object\n",
      " 3   Education       1021 non-null   object\n",
      " 4   Credit default  1021 non-null   object\n",
      " 5   Housing loan    1021 non-null   object\n",
      " 6   Personal loan   1021 non-null   object\n",
      " 7   Term deposit    1021 non-null   object\n",
      "dtypes: object(8)\n",
      "memory usage: 63.9+ KB\n"
     ]
    }
   ],
   "source": [
    "# Missing columns list has a column names that have empty cell\n",
    "missing_cols = [col for col in bank_data if bank_data[col].isnull().any()]\n",
    "# Simple imputer object with replacement strategy as most frequent data\n",
    "imputer = SimpleImputer(missing_values=np.nan, strategy='most_frequent')\n",
    "\n",
    "cleaned_data = pd.DataFrame(imputer.fit_transform(bank_data), columns=bank_data.columns)\n",
    "cleaned_data.info()"
   ]
  },
  {
   "cell_type": "markdown",
   "metadata": {},
   "source": [
    "### Data Transformation\n",
    "\n",
    "The categorical data needs to be transformed to suitable numerical data to fit into a ML algorithm. One of the approach in transforming the categorical data into a number is Indexing. The indexing technique implies that every category will have mapped unique numerical value so that it can be refered back at any point of time.   "
   ]
  },
  {
   "cell_type": "code",
   "execution_count": 17,
   "metadata": {},
   "outputs": [
    {
     "data": {
      "text/html": [
       "<div>\n",
       "<style scoped>\n",
       "    .dataframe tbody tr th:only-of-type {\n",
       "        vertical-align: middle;\n",
       "    }\n",
       "\n",
       "    .dataframe tbody tr th {\n",
       "        vertical-align: top;\n",
       "    }\n",
       "\n",
       "    .dataframe thead th {\n",
       "        text-align: right;\n",
       "    }\n",
       "</style>\n",
       "<table border=\"1\" class=\"dataframe\">\n",
       "  <thead>\n",
       "    <tr style=\"text-align: right;\">\n",
       "      <th></th>\n",
       "      <th>Age</th>\n",
       "      <th>Job</th>\n",
       "      <th>Marital status</th>\n",
       "      <th>Education</th>\n",
       "      <th>Credit default</th>\n",
       "      <th>Housing loan</th>\n",
       "      <th>Personal loan</th>\n",
       "      <th>Term deposit</th>\n",
       "    </tr>\n",
       "  </thead>\n",
       "  <tbody>\n",
       "    <tr>\n",
       "      <th>0</th>\n",
       "      <td>30</td>\n",
       "      <td>10</td>\n",
       "      <td>1</td>\n",
       "      <td>0</td>\n",
       "      <td>0</td>\n",
       "      <td>0</td>\n",
       "      <td>0</td>\n",
       "      <td>0</td>\n",
       "    </tr>\n",
       "    <tr>\n",
       "      <th>1</th>\n",
       "      <td>33</td>\n",
       "      <td>7</td>\n",
       "      <td>1</td>\n",
       "      <td>1</td>\n",
       "      <td>0</td>\n",
       "      <td>1</td>\n",
       "      <td>1</td>\n",
       "      <td>0</td>\n",
       "    </tr>\n",
       "    <tr>\n",
       "      <th>2</th>\n",
       "      <td>35</td>\n",
       "      <td>4</td>\n",
       "      <td>2</td>\n",
       "      <td>2</td>\n",
       "      <td>0</td>\n",
       "      <td>1</td>\n",
       "      <td>0</td>\n",
       "      <td>0</td>\n",
       "    </tr>\n",
       "    <tr>\n",
       "      <th>3</th>\n",
       "      <td>30</td>\n",
       "      <td>4</td>\n",
       "      <td>1</td>\n",
       "      <td>2</td>\n",
       "      <td>0</td>\n",
       "      <td>1</td>\n",
       "      <td>1</td>\n",
       "      <td>0</td>\n",
       "    </tr>\n",
       "    <tr>\n",
       "      <th>4</th>\n",
       "      <td>59</td>\n",
       "      <td>1</td>\n",
       "      <td>1</td>\n",
       "      <td>1</td>\n",
       "      <td>0</td>\n",
       "      <td>1</td>\n",
       "      <td>0</td>\n",
       "      <td>0</td>\n",
       "    </tr>\n",
       "    <tr>\n",
       "      <th>5</th>\n",
       "      <td>35</td>\n",
       "      <td>4</td>\n",
       "      <td>2</td>\n",
       "      <td>2</td>\n",
       "      <td>0</td>\n",
       "      <td>0</td>\n",
       "      <td>0</td>\n",
       "      <td>0</td>\n",
       "    </tr>\n",
       "    <tr>\n",
       "      <th>6</th>\n",
       "      <td>36</td>\n",
       "      <td>6</td>\n",
       "      <td>1</td>\n",
       "      <td>2</td>\n",
       "      <td>0</td>\n",
       "      <td>1</td>\n",
       "      <td>0</td>\n",
       "      <td>0</td>\n",
       "    </tr>\n",
       "    <tr>\n",
       "      <th>7</th>\n",
       "      <td>39</td>\n",
       "      <td>9</td>\n",
       "      <td>1</td>\n",
       "      <td>1</td>\n",
       "      <td>0</td>\n",
       "      <td>1</td>\n",
       "      <td>0</td>\n",
       "      <td>0</td>\n",
       "    </tr>\n",
       "    <tr>\n",
       "      <th>8</th>\n",
       "      <td>41</td>\n",
       "      <td>2</td>\n",
       "      <td>1</td>\n",
       "      <td>2</td>\n",
       "      <td>0</td>\n",
       "      <td>1</td>\n",
       "      <td>0</td>\n",
       "      <td>0</td>\n",
       "    </tr>\n",
       "    <tr>\n",
       "      <th>9</th>\n",
       "      <td>43</td>\n",
       "      <td>7</td>\n",
       "      <td>1</td>\n",
       "      <td>0</td>\n",
       "      <td>0</td>\n",
       "      <td>1</td>\n",
       "      <td>1</td>\n",
       "      <td>0</td>\n",
       "    </tr>\n",
       "  </tbody>\n",
       "</table>\n",
       "</div>"
      ],
      "text/plain": [
       "  Age  Job  Marital status  Education  Credit default  Housing loan  \\\n",
       "0  30   10               1          0               0             0   \n",
       "1  33    7               1          1               0             1   \n",
       "2  35    4               2          2               0             1   \n",
       "3  30    4               1          2               0             1   \n",
       "4  59    1               1          1               0             1   \n",
       "5  35    4               2          2               0             0   \n",
       "6  36    6               1          2               0             1   \n",
       "7  39    9               1          1               0             1   \n",
       "8  41    2               1          2               0             1   \n",
       "9  43    7               1          0               0             1   \n",
       "\n",
       "   Personal loan  Term deposit  \n",
       "0              0             0  \n",
       "1              1             0  \n",
       "2              0             0  \n",
       "3              1             0  \n",
       "4              0             0  \n",
       "5              0             0  \n",
       "6              0             0  \n",
       "7              0             0  \n",
       "8              0             0  \n",
       "9              1             0  "
      ]
     },
     "execution_count": 17,
     "metadata": {},
     "output_type": "execute_result"
    }
   ],
   "source": [
    "# LabelEncoder object initilization\n",
    "lbl_encoder = LabelEncoder()\n",
    "\n",
    "# Taking all non-numeric columns\n",
    "non_num_cols = [col for col in bank_data.columns if bank_data[col].dtypes != np.int64]\n",
    "\n",
    "# Iterate through the non-numeric columns\n",
    "for col in non_num_cols:\n",
    "   cleaned_data[col] = lbl_encoder.fit_transform(cleaned_data[col]) # Fit and Transform the categorical data\n",
    "# Sample of transformed data\n",
    "cleaned_data.head(10)"
   ]
  },
  {
   "cell_type": "markdown",
   "metadata": {},
   "source": [
    "### Relationship between the attributes\n",
    "\n",
    "The relationship between the attributes will help us in understanding more on the dataset. The relationship can be identified by using correlation coefficient analysis. If the data fields are categorical the chi-square method will be used to see the relationship. "
   ]
  },
  {
   "cell_type": "code",
   "execution_count": 18,
   "metadata": {},
   "outputs": [
    {
     "name": "stdout",
     "output_type": "stream",
     "text": [
      "<class 'pandas.core.frame.DataFrame'>\n",
      "RangeIndex: 1021 entries, 0 to 1020\n",
      "Data columns (total 8 columns):\n",
      " #   Column          Non-Null Count  Dtype\n",
      "---  ------          --------------  -----\n",
      " 0   Age             1021 non-null   int32\n",
      " 1   Job             1021 non-null   int32\n",
      " 2   Marital status  1021 non-null   int32\n",
      " 3   Education       1021 non-null   int32\n",
      " 4   Credit default  1021 non-null   int32\n",
      " 5   Housing loan    1021 non-null   int32\n",
      " 6   Personal loan   1021 non-null   int32\n",
      " 7   Term deposit    1021 non-null   int32\n",
      "dtypes: int32(8)\n",
      "memory usage: 32.0 KB\n"
     ]
    }
   ],
   "source": [
    "cleaned_data.Age = cleaned_data.Age.astype(np.int32)\n",
    "\n",
    "cleaned_data.info()"
   ]
  },
  {
   "cell_type": "code",
   "execution_count": 19,
   "metadata": {},
   "outputs": [
    {
     "data": {
      "image/png": "[encoded data removed]",
      "text/plain": [
       "<Figure size 720x432 with 6 Axes>"
      ]
     },
     "metadata": {},
     "output_type": "display_data"
    }
   ],
   "source": [
    "fig, axes = plt.subplots(2,3,figsize=(10,6), sharex=False)\n",
    "\n",
    "sns.distplot(cleaned_data['Age'], ax=axes[0][0])\n",
    "axes[0][0].set_title('Age')\n",
    "sns.distplot(cleaned_data['Job'], ax=axes[0][1])\n",
    "axes[0][1].set_title('Job')\n",
    "sns.distplot(cleaned_data['Education'], ax=axes[0][2])\n",
    "axes[0][2].set_title('Education')\n",
    "sns.distplot(cleaned_data['Marital status'], ax=axes[1][0])\n",
    "axes[1][0].set_title('Marital Status')\n",
    "sns.distplot(cleaned_data['Credit default'], ax=axes[1][1])\n",
    "axes[1][1].set_title('Credit Default')\n",
    "sns.distplot(cleaned_data['Housing loan'], ax=axes[1][2])\n",
    "axes[1][2].set_title('Housing Loan')\n",
    "plt.setp(plt.gcf().get_axes(), xlabel='');\n",
    "fig.subplots_adjust(wspace=0.5, hspace=0.4)\n",
    "plt.show()"
   ]
  },
  {
   "cell_type": "code",
   "execution_count": 20,
   "metadata": {},
   "outputs": [
    {
     "data": {
      "image/png": "[encoded data removed]",
      "text/plain": [
       "<Figure size 720x432 with 2 Axes>"
      ]
     },
     "metadata": {},
     "output_type": "display_data"
    }
   ],
   "source": [
    "cm = np.corrcoef(cleaned_data.values.T)\n",
    "cols = bank_columns\n",
    "plt.figure(figsize=(10,6))\n",
    "\n",
    "#Generate Color Map\n",
    "colormap = sns.diverging_palette(220, 10, as_cmap=True)\n",
    "sns.heatmap(cm, linewidth = 0.5, cmap=colormap, annot=True, xticklabels=cols, yticklabels=cols)\n",
    "plt.title(\"Correlation between attributes\", fontsize=14)\n",
    "plt.xticks(rotation=50)\n",
    "plt.show()"
   ]
  },
  {
   "cell_type": "markdown",
   "metadata": {},
   "source": [
    "<a name=\"SplitTrain\"></a>\n",
    "\n",
    "## 4. Preparing train and test data\n",
    "\n",
    "The dataset needs to be splited to prepare training set and test set. Usually the testset split size is `0.20% to 0.33%` of the dataset. This will ensure that the model is not overfitted with too many similar instances. "
   ]
  },
  {
   "cell_type": "code",
   "execution_count": 21,
   "metadata": {},
   "outputs": [
    {
     "name": "stdout",
     "output_type": "stream",
     "text": [
      "Predictors: ['Age' 'Job' 'Marital status' 'Education' 'Credit default' 'Housing loan'\n",
      " 'Personal loan']\n"
     ]
    }
   ],
   "source": [
    "y = cleaned_data['Term deposit']\n",
    "X = cleaned_data.drop('Term deposit', axis=1)\n",
    "\n",
    "print(\"Predictors: {0}\".format(X.columns.values))"
   ]
  },
  {
   "cell_type": "code",
   "execution_count": 22,
   "metadata": {},
   "outputs": [
    {
     "name": "stdout",
     "output_type": "stream",
     "text": [
      "Shape of Trainingset (714, 7)\n",
      "Shape of Testset (307, 7)\n"
     ]
    }
   ],
   "source": [
    "# Parameters\n",
    "test_split = 0.30\n",
    "random_number = 101\n",
    "\n",
    "X_train, X_test, y_train, y_test = train_test_split(X, y, test_size=test_split, random_state=random_number)\n",
    "\n",
    "print(\"Shape of Trainingset {0}\".format(X_train.shape))\n",
    "print(\"Shape of Testset {0}\".format(X_test.shape))"
   ]
  },
  {
   "cell_type": "markdown",
   "metadata": {},
   "source": [
    "<a name=\"TrainModel\"></a>\n",
    "\n",
    "## 5. Build Model\n",
    "\n",
    "The model building step consists of choosing a right algorithm to fit the training data and use the model for evaluating its efficiency in predicting the data. The selection of algorithm is based on the values of target variable.\n",
    "\n",
    "If the target variable contains 2 class data then it is a **`Binary classification`**, whereas the same contains more than 2 class data then its a **`Multiclass classification`**.\n",
    "\n",
    "In our problem, the dataset target variable **`Term Deposit`** contains 2 class as `Yes` and `No`. Hence, its a binary classification. \n",
    "For binary classification and most of the attributes have categorical data, we will try with the following 2 tree based  algorithm,\n",
    "1. Decision Tree\n",
    "2. Random Forest"
   ]
  },
  {
   "cell_type": "code",
   "execution_count": 23,
   "metadata": {},
   "outputs": [
    {
     "name": "stdout",
     "output_type": "stream",
     "text": [
      "Decision Tree model default parameters:\n",
      "\n",
      "{'ccp_alpha': 0.0,\n",
      " 'class_weight': None,\n",
      " 'criterion': 'gini',\n",
      " 'max_depth': None,\n",
      " 'max_features': None,\n",
      " 'max_leaf_nodes': None,\n",
      " 'min_impurity_decrease': 0.0,\n",
      " 'min_impurity_split': None,\n",
      " 'min_samples_leaf': 1,\n",
      " 'min_samples_split': 2,\n",
      " 'min_weight_fraction_leaf': 0.0,\n",
      " 'presort': 'deprecated',\n",
      " 'random_state': None,\n",
      " 'splitter': 'best'}\n"
     ]
    }
   ],
   "source": [
    "# Decision Tree model\n",
    "dtree_classifier = DecisionTreeClassifier()\n",
    "\n",
    "# Fitting the model with trainset data\n",
    "dtree_classifier.fit(X_train, y_train)\n",
    "\n",
    "print(\"Decision Tree model default parameters:\\n\")\n",
    "pprint(dtree_classifier.get_params())"
   ]
  },
  {
   "cell_type": "code",
   "execution_count": 24,
   "metadata": {},
   "outputs": [
    {
     "name": "stdout",
     "output_type": "stream",
     "text": [
      "Random Forest classifier model default parameters:\n",
      "\n",
      "{'bootstrap': True,\n",
      " 'ccp_alpha': 0.0,\n",
      " 'class_weight': None,\n",
      " 'criterion': 'gini',\n",
      " 'max_depth': None,\n",
      " 'max_features': 'auto',\n",
      " 'max_leaf_nodes': None,\n",
      " 'max_samples': None,\n",
      " 'min_impurity_decrease': 0.0,\n",
      " 'min_impurity_split': None,\n",
      " 'min_samples_leaf': 1,\n",
      " 'min_samples_split': 2,\n",
      " 'min_weight_fraction_leaf': 0.0,\n",
      " 'n_estimators': 100,\n",
      " 'n_jobs': None,\n",
      " 'oob_score': False,\n",
      " 'random_state': None,\n",
      " 'verbose': 0,\n",
      " 'warm_start': False}\n"
     ]
    }
   ],
   "source": [
    "# Random Forest classifier model\n",
    "rf_classifier = RandomForestClassifier()\n",
    "\n",
    "rf_classifier.fit(X_train, y_train)\n",
    "\n",
    "print(\"Random Forest classifier model default parameters:\\n\")\n",
    "pprint(rf_classifier.get_params())"
   ]
  },
  {
   "cell_type": "markdown",
   "metadata": {},
   "source": [
    "<a name=\"TestModel\"></a>\n",
    "\n",
    "## 6. Test the model(Predicting data)"
   ]
  },
  {
   "cell_type": "code",
   "execution_count": 25,
   "metadata": {},
   "outputs": [
    {
     "name": "stdout",
     "output_type": "stream",
     "text": [
      "Accuracy of Decision Tree Classifier : 0.8110749185667753\n",
      "Accuracy of Random Forest Classifier : 0.8566775244299675\n"
     ]
    }
   ],
   "source": [
    "dt_pred = dtree_classifier.predict(X_test)\n",
    "rf_pred = rf_classifier.predict(X_test)\n",
    "\n",
    "print(\"Accuracy of Decision Tree Classifier : {0}\".format(accuracy_score(y_test, dt_pred)))\n",
    "print(\"Accuracy of Random Forest Classifier : {0}\".format(accuracy_score(y_test, rf_pred)))"
   ]
  },
  {
   "cell_type": "markdown",
   "metadata": {},
   "source": [
    "<a name=\"EvalModel\"></a>\n",
    "\n",
    "## 7. Evaluation Model"
   ]
  },
  {
   "cell_type": "markdown",
   "metadata": {},
   "source": [
    "Classification report for the algorithm `DecisionTreeClassifier`."
   ]
  },
  {
   "cell_type": "code",
   "execution_count": 26,
   "metadata": {},
   "outputs": [
    {
     "name": "stdout",
     "output_type": "stream",
     "text": [
      "Confusion Matrix of Decision Tree: \n",
      "[[244  27]\n",
      " [ 31   5]]\n",
      "----------------------------------------\n",
      "Confusion Matrix of Random Forest: \n",
      "[[261  30]\n",
      " [ 14   2]]\n"
     ]
    }
   ],
   "source": [
    "print(\"Confusion Matrix of Decision Tree: \\n{0}\".format(confusion_matrix(dt_pred,y_test)))\n",
    "print(\"--\"*20)\n",
    "print(\"Confusion Matrix of Random Forest: \\n{0}\".format(confusion_matrix(rf_pred,y_test)))\n"
   ]
  },
  {
   "cell_type": "code",
   "execution_count": 27,
   "metadata": {
    "scrolled": false
   },
   "outputs": [
    {
     "name": "stdout",
     "output_type": "stream",
     "text": [
      "Classification report of Decision Tree: \n",
      "              precision    recall  f1-score   support\n",
      "\n",
      "           0       0.89      0.90      0.89       271\n",
      "           1       0.16      0.14      0.15        36\n",
      "\n",
      "    accuracy                           0.81       307\n",
      "   macro avg       0.52      0.52      0.52       307\n",
      "weighted avg       0.80      0.81      0.81       307\n",
      "\n",
      "----------------------------------------------------------------------------------------------------\n",
      "Classification report of Random Forest: \n",
      "              precision    recall  f1-score   support\n",
      "\n",
      "           0       0.95      0.90      0.92       291\n",
      "           1       0.06      0.12      0.08        16\n",
      "\n",
      "    accuracy                           0.86       307\n",
      "   macro avg       0.51      0.51      0.50       307\n",
      "weighted avg       0.90      0.86      0.88       307\n",
      "\n"
     ]
    }
   ],
   "source": [
    "print(\"Classification report of Decision Tree: \\n{0}\".format(classification_report(dt_pred,y_test)))\n",
    "print(\"--\"*50)\n",
    "print(\"Classification report of Random Forest: \\n{0}\".format(classification_report(rf_pred,y_test)))\n"
   ]
  },
  {
   "cell_type": "markdown",
   "metadata": {},
   "source": [
    "<a name=\"Optimization\"></a>\n",
    "\n",
    "## 8. Optimization to improve the model efficiency"
   ]
  },
  {
   "cell_type": "markdown",
   "metadata": {},
   "source": [
    "Optimization of machine learning deals with,\n",
    "* how to deal with data more effectively\n",
    "* how to estimate the computational load for processing a large data set\n",
    "* how to avoid local minima and search a good solution from a complex multi-dimensional space.\n",
    "\n",
    "**Hyperparameters**\n",
    "\n",
    "Machine learning models are parameterized so that their behavior can be tuned for a given problem. These models can have many parameters and finding the best combination of parameters can be treated as a search problem.\n",
    "\n",
    "\n",
    "**Decision Tree Parameters**\n",
    "1. Criterion(default='gini'): the parameter allows to use the different attributes selection measures. \n",
    "2. Splitter(default='best'): Split strategy are 'best' and 'random' to choose random split.\n",
    "3. max_depth(default='None'): Maximum depth of the tree, \n",
    "\n",
    "\n",
    "**Random Forest Parameters**\n",
    "\n",
    "* n_estimators = number of trees in the foreset\n",
    "* max_features = max number of features considered for splitting a node\n",
    "* max_depth = max number of levels in each decision tree\n",
    "* min_samples_split = min number of data points placed in a node before the node is split\n",
    "* min_samples_leaf = min number of data points allowed in a leaf node\n",
    "* bootstrap = method for sampling data points (with or without replacement)"
   ]
  },
  {
   "cell_type": "code",
   "execution_count": 28,
   "metadata": {},
   "outputs": [],
   "source": [
    "# Grid search for different model\n",
    "def get_best_params(model, parameters, X, y):\n",
    "    n_jobs = 3 # No. of jobs to be run\n",
    "    k_folds = 3 # K-Folds to be specified as a parameters\n",
    "    \n",
    "    if model == 'DT':\n",
    "        estimator = DecisionTreeClassifier()\n",
    "    else:\n",
    "        estimator = RandomForestClassifier()\n",
    "    # Initialize grid search\n",
    "    grid_search = GridSearchCV(estimator, param_grid=parameters, n_jobs=n_jobs, cv=k_folds)\n",
    "    \n",
    "    grid_search.fit(X, y)\n",
    "    \n",
    "    return grid_search.best_estimator_\n",
    "\n",
    "# Creating parameters for each classifier\n"
   ]
  },
  {
   "cell_type": "markdown",
   "metadata": {},
   "source": [
    "### Creating parameters value set \n",
    "\n",
    "We need to create parameters set for each classifier to see the best parameters that gives a better accuracy. \n"
   ]
  },
  {
   "cell_type": "code",
   "execution_count": 29,
   "metadata": {},
   "outputs": [],
   "source": [
    "# Decision Tree parameters set\n",
    "dt_grid = {'max_depth':range(3,30), 'min_samples_leaf': np.arange(1,6), 'min_samples_split': np.arange(2,6)}\n",
    "\n",
    "# RandomForest - Random parameter grid\n",
    "# Number of trees in the forest\n",
    "n_estimators = [int(n) for n in np.linspace(start=200, stop=2000, num=10)]\n",
    "# Maximum features to consider at every split\n",
    "max_features = ['auto', 'sqrt']\n",
    "# Maximum number of levels in the tree\n",
    "max_depth = [int(d) for d in np.linspace(start=10, stop=110, num=11)]\n",
    "# Maximum number of samples required to split a node\n",
    "min_samples_split = [2, 5, 10]\n",
    "# Minimum number of samples required at the each leaf node\n",
    "min_sample_leaf = [1, 2, 4]\n",
    "# Method of selecting samples for training each tree\n",
    "bootstrap = [True, False]\n",
    "\n",
    "# Grid for RandomForest classifier\n",
    "rf_grid = {'n_estimators': n_estimators, \n",
    "               'max_features': max_features, \n",
    "               'max_depth': max_depth, \n",
    "                'min_samples_split': min_samples_split, \n",
    "              'min_samples_leaf': min_sample_leaf, \n",
    "              'bootstrap': bootstrap}\n"
   ]
  },
  {
   "cell_type": "markdown",
   "metadata": {},
   "source": [
    "### Applying parameters in GridSearchCV"
   ]
  },
  {
   "cell_type": "code",
   "execution_count": 30,
   "metadata": {},
   "outputs": [
    {
     "name": "stdout",
     "output_type": "stream",
     "text": [
      "DecisionTreeClassifier(max_depth=3)\n"
     ]
    }
   ],
   "source": [
    "# Gridsearch for decision tree classifier\n",
    "dt_best_params = get_best_params('DT', dt_grid, X_train, y_train)\n",
    "pprint(dt_best_params)"
   ]
  },
  {
   "cell_type": "markdown",
   "metadata": {},
   "source": [
    "**Optimized Parameters for Decision Tree Classifier**\n",
    "\n",
    "* max_depth=3\n",
    "* min_samples_leaf = 1\n",
    "* min_samples_split =2"
   ]
  },
  {
   "cell_type": "code",
   "execution_count": 31,
   "metadata": {},
   "outputs": [
    {
     "data": {
      "text/plain": [
       "RandomizedSearchCV(cv=3, estimator=RandomForestClassifier(), n_iter=100,\n",
       "                   n_jobs=-1,\n",
       "                   param_distributions={'bootstrap': [True, False],\n",
       "                                        'max_depth': [10, 20, 30, 40, 50, 60,\n",
       "                                                      70, 80, 90, 100, 110],\n",
       "                                        'max_features': ['auto', 'sqrt'],\n",
       "                                        'min_samples_leaf': [1, 2, 4],\n",
       "                                        'min_samples_split': [2, 5, 10],\n",
       "                                        'n_estimators': [200, 400, 600, 800,\n",
       "                                                         1000, 1200, 1400, 1600,\n",
       "                                                         1800, 2000]},\n",
       "                   random_state=42)"
      ]
     },
     "execution_count": 31,
     "metadata": {},
     "output_type": "execute_result"
    }
   ],
   "source": [
    "from sklearn.model_selection import RandomizedSearchCV\n",
    "\n",
    "rfc = RandomForestClassifier() # Estimator object\n",
    "\n",
    "# Random forest search cross-validation\n",
    "random_search = RandomizedSearchCV(estimator=rfc, param_distributions=rf_grid, n_iter=100, cv=3, random_state=42, n_jobs=-1)\n",
    "\n",
    "# Fitting the data in the search cross validation\n",
    "random_search.fit(X_train, y_train)"
   ]
  },
  {
   "cell_type": "code",
   "execution_count": 32,
   "metadata": {},
   "outputs": [
    {
     "name": "stdout",
     "output_type": "stream",
     "text": [
      "Optimized parameters for RandomForestClassifier\n"
     ]
    },
    {
     "data": {
      "text/plain": [
       "{'n_estimators': 600,\n",
       " 'min_samples_split': 10,\n",
       " 'min_samples_leaf': 1,\n",
       " 'max_features': 'sqrt',\n",
       " 'max_depth': 110,\n",
       " 'bootstrap': True}"
      ]
     },
     "execution_count": 32,
     "metadata": {},
     "output_type": "execute_result"
    }
   ],
   "source": [
    "print(\"Optimized parameters for RandomForestClassifier\")\n",
    "random_search.best_params_"
   ]
  },
  {
   "cell_type": "markdown",
   "metadata": {},
   "source": [
    "### Refitting the model with best/optimized parameters\n",
    "\n",
    "The best parameters of each classifier will be used to build the model and predict the data to check whether the prediction efficiency has been improved or not.\n"
   ]
  },
  {
   "cell_type": "markdown",
   "metadata": {},
   "source": [
    "### Decision Tree Classifier"
   ]
  },
  {
   "cell_type": "code",
   "execution_count": 33,
   "metadata": {},
   "outputs": [
    {
     "name": "stdout",
     "output_type": "stream",
     "text": [
      "Decision Tree accuracy score: 0.8957654723127035\n"
     ]
    }
   ],
   "source": [
    "dtree_model = DecisionTreeClassifier(max_depth=3, min_samples_split=2, min_samples_leaf=1, splitter='best')\n",
    "\n",
    "dtree_model.fit(X_train, y_train)\n",
    "\n",
    "# Predicting the test data\n",
    "dt_preds = dtree_model.predict(X_test)\n",
    "print(\"Decision Tree accuracy score: {0}\".format(accuracy_score(y_test, dt_preds)))"
   ]
  },
  {
   "cell_type": "markdown",
   "metadata": {},
   "source": [
    "### Random Forest Classifier"
   ]
  },
  {
   "cell_type": "code",
   "execution_count": 34,
   "metadata": {
    "scrolled": true
   },
   "outputs": [
    {
     "name": "stdout",
     "output_type": "stream",
     "text": [
      "RandomForestClassifier accuracy score: 0.8957654723127035\n"
     ]
    }
   ],
   "source": [
    "rfc = RandomForestClassifier(n_estimators=1000, min_samples_leaf=4, min_samples_split=10, max_depth=20, max_features='sqrt', bootstrap=True)\n",
    "rfc.fit(X_train, y_train)\n",
    "rnf_preds = rfc.predict(X_test)\n",
    "print(\"RandomForestClassifier accuracy score: {0}\".format(accuracy_score(y_test, rnf_preds)))"
   ]
  },
  {
   "cell_type": "markdown",
   "metadata": {},
   "source": [
    "### Metrics of optimized model\n",
    "\n",
    "The metrics of optimized model should be calculated to check the efficiency improvement.\n",
    "\n",
    "**Confusion Matrix**"
   ]
  },
  {
   "cell_type": "code",
   "execution_count": 35,
   "metadata": {},
   "outputs": [
    {
     "name": "stdout",
     "output_type": "stream",
     "text": [
      "Confusion Matrix of Decision Tree: \n",
      "[[244  27]\n",
      " [ 31   5]]\n",
      "----------------------------------------\n",
      "Confusion Matrix of Random Forest: \n",
      "[[275  32]\n",
      " [  0   0]]\n"
     ]
    }
   ],
   "source": [
    "print(\"Confusion Matrix of Decision Tree: \\n{0}\".format(confusion_matrix(dt_pred,y_test)))\n",
    "print(\"--\"*20)\n",
    "print(\"Confusion Matrix of Random Forest: \\n{0}\".format(confusion_matrix(rnf_preds,y_test)))\n"
   ]
  },
  {
   "cell_type": "markdown",
   "metadata": {},
   "source": [
    "**Classification Report**"
   ]
  },
  {
   "cell_type": "code",
   "execution_count": 36,
   "metadata": {},
   "outputs": [
    {
     "name": "stdout",
     "output_type": "stream",
     "text": [
      "Classification report of Decision Tree: \n",
      "              precision    recall  f1-score   support\n",
      "\n",
      "           0       0.99      0.90      0.94       303\n",
      "           1       0.06      0.50      0.11         4\n",
      "\n",
      "    accuracy                           0.90       307\n",
      "   macro avg       0.53      0.70      0.53       307\n",
      "weighted avg       0.98      0.90      0.93       307\n",
      "\n",
      "----------------------------------------------------------------------------------------------------\n",
      "Classification report of Random Forest: \n",
      "              precision    recall  f1-score   support\n",
      "\n",
      "           0       1.00      0.90      0.95       307\n",
      "           1       0.00      0.00      0.00         0\n",
      "\n",
      "    accuracy                           0.90       307\n",
      "   macro avg       0.50      0.45      0.47       307\n",
      "weighted avg       1.00      0.90      0.95       307\n",
      "\n"
     ]
    }
   ],
   "source": [
    "print(\"Classification report of Decision Tree: \\n{0}\".format(classification_report(dt_preds,y_test)))\n",
    "print(\"--\"*50)\n",
    "print(\"Classification report of Random Forest: \\n{0}\".format(classification_report(rnf_preds,y_test)))"
   ]
  },
  {
   "cell_type": "markdown",
   "metadata": {},
   "source": [
    "## Conclusion\n",
    "\n",
    "The bank term deposit data has been analysed, cleaned and prepared trainset and test for building a classification model. There are three different classifier algorithms used to build the model to see the efficiency in predicting the data. \n",
    "\n",
    "| Classifier | Accuracy score with default Parameter  | Accuracy score after Optimization  | \n",
    "|------------|----------------------------------|---------------------|\n",
    "|  Decision Tree Classifier |  0.827 => **83%** |  0.8957 * 100 = **89.5%** |  \n",
    "| Random Forest Classifier  |  0.856 => **86%** |  0.8957 * 100 = **89.5%** | \n",
    "\n"
   ]
  },
  {
   "cell_type": "markdown",
   "metadata": {},
   "source": [
    "After optimization activity the best parameters are used to build a model. Both `decision tree` and `random forest classifier` showed a significant improvements. \n",
    "\n",
    "Both the tree based classifier algorithms have performed similarly with **89.5%** of accuracy score. \n",
    "\n",
    "## Thank You. \n"
   ]
  },
  {
   "cell_type": "code",
   "execution_count": null,
   "metadata": {},
   "outputs": [],
   "source": []
  }
 ],
 "metadata": {
  "kernelspec": {
   "display_name": "Python 3",
   "language": "python",
   "name": "python3"
  },
  "language_info": {
   "codemirror_mode": {
    "name": "ipython",
    "version": 3
   },
   "file_extension": ".py",
   "mimetype": "text/x-python",
   "name": "python",
   "nbconvert_exporter": "python",
   "pygments_lexer": "ipython3",
   "version": "3.8.3"
  }
 },
 "nbformat": 4,
 "nbformat_minor": 2
}
