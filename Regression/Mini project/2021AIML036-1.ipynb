{
 "cells": [
  {
   "cell_type": "code",
   "execution_count": 166,
   "metadata": {},
   "outputs": [],
   "source": [
    "import numpy as np\n",
    "import pandas as pd\n",
    "import matplotlib.pyplot as plt\n",
    "from sklearn import datasets\n",
    "import seaborn as sns\n",
    "from scipy import stats\n",
    "import statsmodels.api as sm\n",
    "from sklearn import linear_model\n",
    "from sklearn.metrics import mean_squared_error, r2_score\n",
    "from sklearn.preprocessing import normalize"
   ]
  },
  {
   "cell_type": "code",
   "execution_count": 11,
   "metadata": {},
   "outputs": [],
   "source": [
    "df = pd.read_csv(r\"C:\\Users\\visoni\\Desktop\\bits pilani\\MiniProject\\AIML_C6_Nov_2021_Data_miniproject.csv\")"
   ]
  },
  {
   "cell_type": "code",
   "execution_count": 12,
   "metadata": {},
   "outputs": [
    {
     "data": {
      "text/html": [
       "<div>\n",
       "<style scoped>\n",
       "    .dataframe tbody tr th:only-of-type {\n",
       "        vertical-align: middle;\n",
       "    }\n",
       "\n",
       "    .dataframe tbody tr th {\n",
       "        vertical-align: top;\n",
       "    }\n",
       "\n",
       "    .dataframe thead th {\n",
       "        text-align: right;\n",
       "    }\n",
       "</style>\n",
       "<table border=\"1\" class=\"dataframe\">\n",
       "  <thead>\n",
       "    <tr style=\"text-align: right;\">\n",
       "      <th></th>\n",
       "      <th>Cost</th>\n",
       "      <th>Weight</th>\n",
       "      <th>Weight1</th>\n",
       "      <th>Length</th>\n",
       "      <th>Height</th>\n",
       "      <th>Width</th>\n",
       "    </tr>\n",
       "  </thead>\n",
       "  <tbody>\n",
       "    <tr>\n",
       "      <th>0</th>\n",
       "      <td>242.0</td>\n",
       "      <td>23.2</td>\n",
       "      <td>25.4</td>\n",
       "      <td>30</td>\n",
       "      <td>11.5200</td>\n",
       "      <td>4.02</td>\n",
       "    </tr>\n",
       "    <tr>\n",
       "      <th>1</th>\n",
       "      <td>290.0</td>\n",
       "      <td>24</td>\n",
       "      <td>26.3</td>\n",
       "      <td>31.2</td>\n",
       "      <td>12.4800</td>\n",
       "      <td>4.3056</td>\n",
       "    </tr>\n",
       "    <tr>\n",
       "      <th>2</th>\n",
       "      <td>340.0</td>\n",
       "      <td>23.9</td>\n",
       "      <td>26.5</td>\n",
       "      <td>31.1</td>\n",
       "      <td>12.3778</td>\n",
       "      <td>4.6961</td>\n",
       "    </tr>\n",
       "    <tr>\n",
       "      <th>3</th>\n",
       "      <td>363.0</td>\n",
       "      <td>26.3</td>\n",
       "      <td>29.0</td>\n",
       "      <td>33.5</td>\n",
       "      <td>12.7300</td>\n",
       "      <td>4.4555</td>\n",
       "    </tr>\n",
       "    <tr>\n",
       "      <th>4</th>\n",
       "      <td>430.0</td>\n",
       "      <td>26.5</td>\n",
       "      <td>29.0</td>\n",
       "      <td>34</td>\n",
       "      <td>12.4440</td>\n",
       "      <td>5.134</td>\n",
       "    </tr>\n",
       "  </tbody>\n",
       "</table>\n",
       "</div>"
      ],
      "text/plain": [
       "    Cost Weight  Weight1 Length   Height   Width\n",
       "0  242.0   23.2     25.4     30  11.5200    4.02\n",
       "1  290.0     24     26.3   31.2  12.4800  4.3056\n",
       "2  340.0   23.9     26.5   31.1  12.3778  4.6961\n",
       "3  363.0   26.3     29.0   33.5  12.7300  4.4555\n",
       "4  430.0   26.5     29.0     34  12.4440   5.134"
      ]
     },
     "execution_count": 12,
     "metadata": {},
     "output_type": "execute_result"
    }
   ],
   "source": [
    "df.head()"
   ]
  },
  {
   "cell_type": "code",
   "execution_count": null,
   "metadata": {},
   "outputs": [],
   "source": [
    "#Lets refine the data : Handle the missing values in each column of the data"
   ]
  },
  {
   "cell_type": "code",
   "execution_count": 16,
   "metadata": {},
   "outputs": [
    {
     "name": "stdout",
     "output_type": "stream",
     "text": [
      "(159, 6)\n"
     ]
    }
   ],
   "source": [
    "print(df.shape)"
   ]
  },
  {
   "cell_type": "code",
   "execution_count": 17,
   "metadata": {},
   "outputs": [],
   "source": [
    "df = df.dropna()"
   ]
  },
  {
   "cell_type": "code",
   "execution_count": 18,
   "metadata": {},
   "outputs": [
    {
     "name": "stdout",
     "output_type": "stream",
     "text": [
      "(157, 6)\n"
     ]
    }
   ],
   "source": [
    "print(df.shape)\n"
   ]
  },
  {
   "cell_type": "code",
   "execution_count": null,
   "metadata": {},
   "outputs": [],
   "source": [
    "#lets remove rows where one of the column values are not numeric"
   ]
  },
  {
   "cell_type": "code",
   "execution_count": 30,
   "metadata": {},
   "outputs": [],
   "source": [
    "df = df.apply(lambda x: pd.to_numeric(x, errors = 'coerce')).dropna()"
   ]
  },
  {
   "cell_type": "code",
   "execution_count": 31,
   "metadata": {},
   "outputs": [
    {
     "data": {
      "text/plain": [
       "(153, 6)"
      ]
     },
     "execution_count": 31,
     "metadata": {},
     "output_type": "execute_result"
    }
   ],
   "source": [
    "df.shape"
   ]
  },
  {
   "cell_type": "code",
   "execution_count": 32,
   "metadata": {},
   "outputs": [
    {
     "data": {
      "text/html": [
       "<div>\n",
       "<style scoped>\n",
       "    .dataframe tbody tr th:only-of-type {\n",
       "        vertical-align: middle;\n",
       "    }\n",
       "\n",
       "    .dataframe tbody tr th {\n",
       "        vertical-align: top;\n",
       "    }\n",
       "\n",
       "    .dataframe thead th {\n",
       "        text-align: right;\n",
       "    }\n",
       "</style>\n",
       "<table border=\"1\" class=\"dataframe\">\n",
       "  <thead>\n",
       "    <tr style=\"text-align: right;\">\n",
       "      <th></th>\n",
       "      <th>Cost</th>\n",
       "      <th>Weight</th>\n",
       "      <th>Weight1</th>\n",
       "      <th>Length</th>\n",
       "      <th>Height</th>\n",
       "      <th>Width</th>\n",
       "    </tr>\n",
       "  </thead>\n",
       "  <tbody>\n",
       "    <tr>\n",
       "      <th>0</th>\n",
       "      <td>242.0</td>\n",
       "      <td>23.2</td>\n",
       "      <td>25.4</td>\n",
       "      <td>30.0</td>\n",
       "      <td>11.5200</td>\n",
       "      <td>4.0200</td>\n",
       "    </tr>\n",
       "    <tr>\n",
       "      <th>1</th>\n",
       "      <td>290.0</td>\n",
       "      <td>24.0</td>\n",
       "      <td>26.3</td>\n",
       "      <td>31.2</td>\n",
       "      <td>12.4800</td>\n",
       "      <td>4.3056</td>\n",
       "    </tr>\n",
       "    <tr>\n",
       "      <th>2</th>\n",
       "      <td>340.0</td>\n",
       "      <td>23.9</td>\n",
       "      <td>26.5</td>\n",
       "      <td>31.1</td>\n",
       "      <td>12.3778</td>\n",
       "      <td>4.6961</td>\n",
       "    </tr>\n",
       "    <tr>\n",
       "      <th>3</th>\n",
       "      <td>363.0</td>\n",
       "      <td>26.3</td>\n",
       "      <td>29.0</td>\n",
       "      <td>33.5</td>\n",
       "      <td>12.7300</td>\n",
       "      <td>4.4555</td>\n",
       "    </tr>\n",
       "    <tr>\n",
       "      <th>4</th>\n",
       "      <td>430.0</td>\n",
       "      <td>26.5</td>\n",
       "      <td>29.0</td>\n",
       "      <td>34.0</td>\n",
       "      <td>12.4440</td>\n",
       "      <td>5.1340</td>\n",
       "    </tr>\n",
       "    <tr>\n",
       "      <th>...</th>\n",
       "      <td>...</td>\n",
       "      <td>...</td>\n",
       "      <td>...</td>\n",
       "      <td>...</td>\n",
       "      <td>...</td>\n",
       "      <td>...</td>\n",
       "    </tr>\n",
       "    <tr>\n",
       "      <th>154</th>\n",
       "      <td>12.2</td>\n",
       "      <td>11.5</td>\n",
       "      <td>12.2</td>\n",
       "      <td>13.4</td>\n",
       "      <td>2.0904</td>\n",
       "      <td>1.3936</td>\n",
       "    </tr>\n",
       "    <tr>\n",
       "      <th>155</th>\n",
       "      <td>13.4</td>\n",
       "      <td>11.7</td>\n",
       "      <td>12.4</td>\n",
       "      <td>13.5</td>\n",
       "      <td>2.4300</td>\n",
       "      <td>1.2690</td>\n",
       "    </tr>\n",
       "    <tr>\n",
       "      <th>156</th>\n",
       "      <td>12.2</td>\n",
       "      <td>12.1</td>\n",
       "      <td>13.0</td>\n",
       "      <td>13.8</td>\n",
       "      <td>2.2770</td>\n",
       "      <td>1.2558</td>\n",
       "    </tr>\n",
       "    <tr>\n",
       "      <th>157</th>\n",
       "      <td>19.7</td>\n",
       "      <td>13.2</td>\n",
       "      <td>14.3</td>\n",
       "      <td>15.2</td>\n",
       "      <td>2.8728</td>\n",
       "      <td>2.0672</td>\n",
       "    </tr>\n",
       "    <tr>\n",
       "      <th>158</th>\n",
       "      <td>19.9</td>\n",
       "      <td>13.8</td>\n",
       "      <td>15.0</td>\n",
       "      <td>16.2</td>\n",
       "      <td>2.9322</td>\n",
       "      <td>1.8792</td>\n",
       "    </tr>\n",
       "  </tbody>\n",
       "</table>\n",
       "<p>153 rows × 6 columns</p>\n",
       "</div>"
      ],
      "text/plain": [
       "      Cost  Weight  Weight1  Length   Height   Width\n",
       "0    242.0    23.2     25.4    30.0  11.5200  4.0200\n",
       "1    290.0    24.0     26.3    31.2  12.4800  4.3056\n",
       "2    340.0    23.9     26.5    31.1  12.3778  4.6961\n",
       "3    363.0    26.3     29.0    33.5  12.7300  4.4555\n",
       "4    430.0    26.5     29.0    34.0  12.4440  5.1340\n",
       "..     ...     ...      ...     ...      ...     ...\n",
       "154   12.2    11.5     12.2    13.4   2.0904  1.3936\n",
       "155   13.4    11.7     12.4    13.5   2.4300  1.2690\n",
       "156   12.2    12.1     13.0    13.8   2.2770  1.2558\n",
       "157   19.7    13.2     14.3    15.2   2.8728  2.0672\n",
       "158   19.9    13.8     15.0    16.2   2.9322  1.8792\n",
       "\n",
       "[153 rows x 6 columns]"
      ]
     },
     "metadata": {},
     "output_type": "display_data"
    }
   ],
   "source": [
    "display(df)"
   ]
  },
  {
   "cell_type": "code",
   "execution_count": null,
   "metadata": {},
   "outputs": [],
   "source": [
    "#Lets find corelation between each features. We can do it by plotting graphs "
   ]
  },
  {
   "cell_type": "code",
   "execution_count": 36,
   "metadata": {},
   "outputs": [
    {
     "data": {
      "text/html": [
       "<style  type=\"text/css\" >\n",
       "    #T_7e815336_51ae_11ec_ab09_e206bb9cb9a2row0_col0 {\n",
       "            background-color:  #b40426;\n",
       "            color:  #f1f1f1;\n",
       "        }    #T_7e815336_51ae_11ec_ab09_e206bb9cb9a2row0_col1 {\n",
       "            background-color:  #d95847;\n",
       "            color:  #000000;\n",
       "        }    #T_7e815336_51ae_11ec_ab09_e206bb9cb9a2row0_col2 {\n",
       "            background-color:  #d85646;\n",
       "            color:  #000000;\n",
       "        }    #T_7e815336_51ae_11ec_ab09_e206bb9cb9a2row0_col3 {\n",
       "            background-color:  #d65244;\n",
       "            color:  #000000;\n",
       "        }    #T_7e815336_51ae_11ec_ab09_e206bb9cb9a2row0_col4 {\n",
       "            background-color:  #f6a586;\n",
       "            color:  #000000;\n",
       "        }    #T_7e815336_51ae_11ec_ab09_e206bb9cb9a2row0_col5 {\n",
       "            background-color:  #90b2fe;\n",
       "            color:  #000000;\n",
       "        }    #T_7e815336_51ae_11ec_ab09_e206bb9cb9a2row1_col0 {\n",
       "            background-color:  #da5a49;\n",
       "            color:  #000000;\n",
       "        }    #T_7e815336_51ae_11ec_ab09_e206bb9cb9a2row1_col1 {\n",
       "            background-color:  #b40426;\n",
       "            color:  #f1f1f1;\n",
       "        }    #T_7e815336_51ae_11ec_ab09_e206bb9cb9a2row1_col2 {\n",
       "            background-color:  #b40426;\n",
       "            color:  #f1f1f1;\n",
       "        }    #T_7e815336_51ae_11ec_ab09_e206bb9cb9a2row1_col3 {\n",
       "            background-color:  #b70d28;\n",
       "            color:  #f1f1f1;\n",
       "        }    #T_7e815336_51ae_11ec_ab09_e206bb9cb9a2row1_col4 {\n",
       "            background-color:  #f4c6af;\n",
       "            color:  #000000;\n",
       "        }    #T_7e815336_51ae_11ec_ab09_e206bb9cb9a2row1_col5 {\n",
       "            background-color:  #85a8fc;\n",
       "            color:  #000000;\n",
       "        }    #T_7e815336_51ae_11ec_ab09_e206bb9cb9a2row2_col0 {\n",
       "            background-color:  #d95847;\n",
       "            color:  #000000;\n",
       "        }    #T_7e815336_51ae_11ec_ab09_e206bb9cb9a2row2_col1 {\n",
       "            background-color:  #b40426;\n",
       "            color:  #f1f1f1;\n",
       "        }    #T_7e815336_51ae_11ec_ab09_e206bb9cb9a2row2_col2 {\n",
       "            background-color:  #b40426;\n",
       "            color:  #f1f1f1;\n",
       "        }    #T_7e815336_51ae_11ec_ab09_e206bb9cb9a2row2_col3 {\n",
       "            background-color:  #b50927;\n",
       "            color:  #f1f1f1;\n",
       "        }    #T_7e815336_51ae_11ec_ab09_e206bb9cb9a2row2_col4 {\n",
       "            background-color:  #f5c1a9;\n",
       "            color:  #000000;\n",
       "        }    #T_7e815336_51ae_11ec_ab09_e206bb9cb9a2row2_col5 {\n",
       "            background-color:  #85a8fc;\n",
       "            color:  #000000;\n",
       "        }    #T_7e815336_51ae_11ec_ab09_e206bb9cb9a2row3_col0 {\n",
       "            background-color:  #d75445;\n",
       "            color:  #000000;\n",
       "        }    #T_7e815336_51ae_11ec_ab09_e206bb9cb9a2row3_col1 {\n",
       "            background-color:  #b70d28;\n",
       "            color:  #f1f1f1;\n",
       "        }    #T_7e815336_51ae_11ec_ab09_e206bb9cb9a2row3_col2 {\n",
       "            background-color:  #b50927;\n",
       "            color:  #f1f1f1;\n",
       "        }    #T_7e815336_51ae_11ec_ab09_e206bb9cb9a2row3_col3 {\n",
       "            background-color:  #b40426;\n",
       "            color:  #f1f1f1;\n",
       "        }    #T_7e815336_51ae_11ec_ab09_e206bb9cb9a2row3_col4 {\n",
       "            background-color:  #f7ad90;\n",
       "            color:  #000000;\n",
       "        }    #T_7e815336_51ae_11ec_ab09_e206bb9cb9a2row3_col5 {\n",
       "            background-color:  #81a4fb;\n",
       "            color:  #000000;\n",
       "        }    #T_7e815336_51ae_11ec_ab09_e206bb9cb9a2row4_col0 {\n",
       "            background-color:  #f4c5ad;\n",
       "            color:  #000000;\n",
       "        }    #T_7e815336_51ae_11ec_ab09_e206bb9cb9a2row4_col1 {\n",
       "            background-color:  #dedcdb;\n",
       "            color:  #000000;\n",
       "        }    #T_7e815336_51ae_11ec_ab09_e206bb9cb9a2row4_col2 {\n",
       "            background-color:  #e3d9d3;\n",
       "            color:  #000000;\n",
       "        }    #T_7e815336_51ae_11ec_ab09_e206bb9cb9a2row4_col3 {\n",
       "            background-color:  #f3c8b2;\n",
       "            color:  #000000;\n",
       "        }    #T_7e815336_51ae_11ec_ab09_e206bb9cb9a2row4_col4 {\n",
       "            background-color:  #b40426;\n",
       "            color:  #f1f1f1;\n",
       "        }    #T_7e815336_51ae_11ec_ab09_e206bb9cb9a2row4_col5 {\n",
       "            background-color:  #3b4cc0;\n",
       "            color:  #f1f1f1;\n",
       "        }    #T_7e815336_51ae_11ec_ab09_e206bb9cb9a2row5_col0 {\n",
       "            background-color:  #3b4cc0;\n",
       "            color:  #f1f1f1;\n",
       "        }    #T_7e815336_51ae_11ec_ab09_e206bb9cb9a2row5_col1 {\n",
       "            background-color:  #3b4cc0;\n",
       "            color:  #f1f1f1;\n",
       "        }    #T_7e815336_51ae_11ec_ab09_e206bb9cb9a2row5_col2 {\n",
       "            background-color:  #3b4cc0;\n",
       "            color:  #f1f1f1;\n",
       "        }    #T_7e815336_51ae_11ec_ab09_e206bb9cb9a2row5_col3 {\n",
       "            background-color:  #3b4cc0;\n",
       "            color:  #f1f1f1;\n",
       "        }    #T_7e815336_51ae_11ec_ab09_e206bb9cb9a2row5_col4 {\n",
       "            background-color:  #3b4cc0;\n",
       "            color:  #f1f1f1;\n",
       "        }    #T_7e815336_51ae_11ec_ab09_e206bb9cb9a2row5_col5 {\n",
       "            background-color:  #b40426;\n",
       "            color:  #f1f1f1;\n",
       "        }</style><table id=\"T_7e815336_51ae_11ec_ab09_e206bb9cb9a2\" ><thead>    <tr>        <th class=\"blank level0\" ></th>        <th class=\"col_heading level0 col0\" >Cost</th>        <th class=\"col_heading level0 col1\" >Weight</th>        <th class=\"col_heading level0 col2\" >Weight1</th>        <th class=\"col_heading level0 col3\" >Length</th>        <th class=\"col_heading level0 col4\" >Height</th>        <th class=\"col_heading level0 col5\" >Width</th>    </tr></thead><tbody>\n",
       "                <tr>\n",
       "                        <th id=\"T_7e815336_51ae_11ec_ab09_e206bb9cb9a2level0_row0\" class=\"row_heading level0 row0\" >Cost</th>\n",
       "                        <td id=\"T_7e815336_51ae_11ec_ab09_e206bb9cb9a2row0_col0\" class=\"data row0 col0\" >1.000000</td>\n",
       "                        <td id=\"T_7e815336_51ae_11ec_ab09_e206bb9cb9a2row0_col1\" class=\"data row0 col1\" >0.915628</td>\n",
       "                        <td id=\"T_7e815336_51ae_11ec_ab09_e206bb9cb9a2row0_col2\" class=\"data row0 col2\" >0.918600</td>\n",
       "                        <td id=\"T_7e815336_51ae_11ec_ab09_e206bb9cb9a2row0_col3\" class=\"data row0 col3\" >0.923214</td>\n",
       "                        <td id=\"T_7e815336_51ae_11ec_ab09_e206bb9cb9a2row0_col4\" class=\"data row0 col4\" >0.724998</td>\n",
       "                        <td id=\"T_7e815336_51ae_11ec_ab09_e206bb9cb9a2row0_col5\" class=\"data row0 col5\" >0.269239</td>\n",
       "            </tr>\n",
       "            <tr>\n",
       "                        <th id=\"T_7e815336_51ae_11ec_ab09_e206bb9cb9a2level0_row1\" class=\"row_heading level0 row1\" >Weight</th>\n",
       "                        <td id=\"T_7e815336_51ae_11ec_ab09_e206bb9cb9a2row1_col0\" class=\"data row1 col0\" >0.915628</td>\n",
       "                        <td id=\"T_7e815336_51ae_11ec_ab09_e206bb9cb9a2row1_col1\" class=\"data row1 col1\" >1.000000</td>\n",
       "                        <td id=\"T_7e815336_51ae_11ec_ab09_e206bb9cb9a2row1_col2\" class=\"data row1 col2\" >0.999539</td>\n",
       "                        <td id=\"T_7e815336_51ae_11ec_ab09_e206bb9cb9a2row1_col3\" class=\"data row1 col3\" >0.992358</td>\n",
       "                        <td id=\"T_7e815336_51ae_11ec_ab09_e206bb9cb9a2row1_col4\" class=\"data row1 col4\" >0.623560</td>\n",
       "                        <td id=\"T_7e815336_51ae_11ec_ab09_e206bb9cb9a2row1_col5\" class=\"data row1 col5\" >0.238953</td>\n",
       "            </tr>\n",
       "            <tr>\n",
       "                        <th id=\"T_7e815336_51ae_11ec_ab09_e206bb9cb9a2level0_row2\" class=\"row_heading level0 row2\" >Weight1</th>\n",
       "                        <td id=\"T_7e815336_51ae_11ec_ab09_e206bb9cb9a2row2_col0\" class=\"data row2 col0\" >0.918600</td>\n",
       "                        <td id=\"T_7e815336_51ae_11ec_ab09_e206bb9cb9a2row2_col1\" class=\"data row2 col1\" >0.999539</td>\n",
       "                        <td id=\"T_7e815336_51ae_11ec_ab09_e206bb9cb9a2row2_col2\" class=\"data row2 col2\" >1.000000</td>\n",
       "                        <td id=\"T_7e815336_51ae_11ec_ab09_e206bb9cb9a2row2_col3\" class=\"data row2 col3\" >0.994369</td>\n",
       "                        <td id=\"T_7e815336_51ae_11ec_ab09_e206bb9cb9a2row2_col4\" class=\"data row2 col4\" >0.638446</td>\n",
       "                        <td id=\"T_7e815336_51ae_11ec_ab09_e206bb9cb9a2row2_col5\" class=\"data row2 col5\" >0.236757</td>\n",
       "            </tr>\n",
       "            <tr>\n",
       "                        <th id=\"T_7e815336_51ae_11ec_ab09_e206bb9cb9a2level0_row3\" class=\"row_heading level0 row3\" >Length</th>\n",
       "                        <td id=\"T_7e815336_51ae_11ec_ab09_e206bb9cb9a2row3_col0\" class=\"data row3 col0\" >0.923214</td>\n",
       "                        <td id=\"T_7e815336_51ae_11ec_ab09_e206bb9cb9a2row3_col1\" class=\"data row3 col1\" >0.992358</td>\n",
       "                        <td id=\"T_7e815336_51ae_11ec_ab09_e206bb9cb9a2row3_col2\" class=\"data row3 col2\" >0.994369</td>\n",
       "                        <td id=\"T_7e815336_51ae_11ec_ab09_e206bb9cb9a2row3_col3\" class=\"data row3 col3\" >1.000000</td>\n",
       "                        <td id=\"T_7e815336_51ae_11ec_ab09_e206bb9cb9a2row3_col4\" class=\"data row3 col4\" >0.699713</td>\n",
       "                        <td id=\"T_7e815336_51ae_11ec_ab09_e206bb9cb9a2row3_col5\" class=\"data row3 col5\" >0.227335</td>\n",
       "            </tr>\n",
       "            <tr>\n",
       "                        <th id=\"T_7e815336_51ae_11ec_ab09_e206bb9cb9a2level0_row4\" class=\"row_heading level0 row4\" >Height</th>\n",
       "                        <td id=\"T_7e815336_51ae_11ec_ab09_e206bb9cb9a2row4_col0\" class=\"data row4 col0\" >0.724998</td>\n",
       "                        <td id=\"T_7e815336_51ae_11ec_ab09_e206bb9cb9a2row4_col1\" class=\"data row4 col1\" >0.623560</td>\n",
       "                        <td id=\"T_7e815336_51ae_11ec_ab09_e206bb9cb9a2row4_col2\" class=\"data row4 col2\" >0.638446</td>\n",
       "                        <td id=\"T_7e815336_51ae_11ec_ab09_e206bb9cb9a2row4_col3\" class=\"data row4 col3\" >0.699713</td>\n",
       "                        <td id=\"T_7e815336_51ae_11ec_ab09_e206bb9cb9a2row4_col4\" class=\"data row4 col4\" >1.000000</td>\n",
       "                        <td id=\"T_7e815336_51ae_11ec_ab09_e206bb9cb9a2row4_col5\" class=\"data row4 col5\" >0.012800</td>\n",
       "            </tr>\n",
       "            <tr>\n",
       "                        <th id=\"T_7e815336_51ae_11ec_ab09_e206bb9cb9a2level0_row5\" class=\"row_heading level0 row5\" >Width</th>\n",
       "                        <td id=\"T_7e815336_51ae_11ec_ab09_e206bb9cb9a2row5_col0\" class=\"data row5 col0\" >0.269239</td>\n",
       "                        <td id=\"T_7e815336_51ae_11ec_ab09_e206bb9cb9a2row5_col1\" class=\"data row5 col1\" >0.238953</td>\n",
       "                        <td id=\"T_7e815336_51ae_11ec_ab09_e206bb9cb9a2row5_col2\" class=\"data row5 col2\" >0.236757</td>\n",
       "                        <td id=\"T_7e815336_51ae_11ec_ab09_e206bb9cb9a2row5_col3\" class=\"data row5 col3\" >0.227335</td>\n",
       "                        <td id=\"T_7e815336_51ae_11ec_ab09_e206bb9cb9a2row5_col4\" class=\"data row5 col4\" >0.012800</td>\n",
       "                        <td id=\"T_7e815336_51ae_11ec_ab09_e206bb9cb9a2row5_col5\" class=\"data row5 col5\" >1.000000</td>\n",
       "            </tr>\n",
       "    </tbody></table>"
      ],
      "text/plain": [
       "<pandas.io.formats.style.Styler at 0x2217e3ddac0>"
      ]
     },
     "execution_count": 36,
     "metadata": {},
     "output_type": "execute_result"
    }
   ],
   "source": [
    "corr = df.corr()\n",
    "\n",
    "corr.style.background_gradient(cmap='coolwarm')"
   ]
  },
  {
   "cell_type": "code",
   "execution_count": null,
   "metadata": {},
   "outputs": [],
   "source": [
    "#From above matrix it seems that Weight and Weight1 and length are highly co related with each other\n",
    "#We can confirm by plotting these graphs"
   ]
  },
  {
   "cell_type": "code",
   "execution_count": 38,
   "metadata": {},
   "outputs": [
    {
     "data": {
      "text/plain": [
       "<matplotlib.axes._subplots.AxesSubplot at 0x2217fb7d370>"
      ]
     },
     "execution_count": 38,
     "metadata": {},
     "output_type": "execute_result"
    },
    {
     "data": {
      "image/png": "[encoded data removed]",
      "text/plain": [
       "<Figure size 432x288 with 1 Axes>"
      ]
     },
     "metadata": {
      "needs_background": "light"
     },
     "output_type": "display_data"
    }
   ],
   "source": [
    "sns.regplot(x=df[\"Weight\"], y=df[\"Weight1\"])"
   ]
  },
  {
   "cell_type": "code",
   "execution_count": 39,
   "metadata": {},
   "outputs": [
    {
     "data": {
      "text/plain": [
       "<matplotlib.axes._subplots.AxesSubplot at 0x22101327970>"
      ]
     },
     "execution_count": 39,
     "metadata": {},
     "output_type": "execute_result"
    },
    {
     "data": {
      "image/png": "[encoded data removed]",
      "text/plain": [
       "<Figure size 432x288 with 1 Axes>"
      ]
     },
     "metadata": {
      "needs_background": "light"
     },
     "output_type": "display_data"
    }
   ],
   "source": [
    "sns.regplot(x=df[\"Weight\"], y=df[\"Length\"])"
   ]
  },
  {
   "cell_type": "code",
   "execution_count": 41,
   "metadata": {},
   "outputs": [
    {
     "data": {
      "text/plain": [
       "<matplotlib.axes._subplots.AxesSubplot at 0x22101397c70>"
      ]
     },
     "execution_count": 41,
     "metadata": {},
     "output_type": "execute_result"
    },
    {
     "data": {
      "image/png": "[encoded data removed]",
      "text/plain": [
       "<Figure size 432x288 with 1 Axes>"
      ]
     },
     "metadata": {
      "needs_background": "light"
     },
     "output_type": "display_data"
    }
   ],
   "source": [
    "sns.regplot(x=df[\"Weight1\"], y=df[\"Length\"])"
   ]
  },
  {
   "cell_type": "code",
   "execution_count": null,
   "metadata": {},
   "outputs": [],
   "source": [
    "# From above plots it is evident that Weight, Weight1 and Length are highly correlated features.\n",
    "# We can drop 2 of these features but we will go with all features considerd and see results."
   ]
  },
  {
   "cell_type": "markdown",
   "metadata": {},
   "source": [
    "# Detect and Remove outliers "
   ]
  },
  {
   "cell_type": "code",
   "execution_count": 60,
   "metadata": {},
   "outputs": [
    {
     "data": {
      "text/plain": [
       "<matplotlib.axes._subplots.AxesSubplot at 0x221016f50a0>"
      ]
     },
     "execution_count": 60,
     "metadata": {},
     "output_type": "execute_result"
    },
    {
     "data": {
      "image/png": "[encoded data removed]",
      "text/plain": [
       "<Figure size 432x288 with 1 Axes>"
      ]
     },
     "metadata": {
      "needs_background": "light"
     },
     "output_type": "display_data"
    }
   ],
   "source": [
    "sns.boxplot(df['Weight']) #we find there are outlier in Weight"
   ]
  },
  {
   "cell_type": "code",
   "execution_count": 86,
   "metadata": {},
   "outputs": [
    {
     "data": {
      "text/plain": [
       "<matplotlib.axes._subplots.AxesSubplot at 0x22101a091c0>"
      ]
     },
     "execution_count": 86,
     "metadata": {},
     "output_type": "execute_result"
    },
    {
     "data": {
      "image/png": "[encoded data removed]",
      "text/plain": [
       "<Figure size 432x288 with 1 Axes>"
      ]
     },
     "metadata": {
      "needs_background": "light"
     },
     "output_type": "display_data"
    }
   ],
   "source": [
    "sns.boxplot(df['Weight1']) #We find there is one outlier in Weight1"
   ]
  },
  {
   "cell_type": "code",
   "execution_count": 87,
   "metadata": {},
   "outputs": [
    {
     "data": {
      "text/plain": [
       "<matplotlib.axes._subplots.AxesSubplot at 0x22101a6cdc0>"
      ]
     },
     "execution_count": 87,
     "metadata": {},
     "output_type": "execute_result"
    },
    {
     "data": {
      "image/png": "[encoded data removed]",
      "text/plain": [
       "<Figure size 432x288 with 1 Axes>"
      ]
     },
     "metadata": {
      "needs_background": "light"
     },
     "output_type": "display_data"
    }
   ],
   "source": [
    "sns.boxplot(df['Length']) #We find there is one outlier in Length"
   ]
  },
  {
   "cell_type": "code",
   "execution_count": 61,
   "metadata": {},
   "outputs": [
    {
     "data": {
      "text/plain": [
       "<matplotlib.axes._subplots.AxesSubplot at 0x221017675e0>"
      ]
     },
     "execution_count": 61,
     "metadata": {},
     "output_type": "execute_result"
    },
    {
     "data": {
      "image/png": "[encoded data removed]",
      "text/plain": [
       "<Figure size 432x288 with 1 Axes>"
      ]
     },
     "metadata": {
      "needs_background": "light"
     },
     "output_type": "display_data"
    }
   ],
   "source": [
    "sns.boxplot(df['Width']) #We find there is one outlier in Width"
   ]
  },
  {
   "cell_type": "code",
   "execution_count": 67,
   "metadata": {},
   "outputs": [
    {
     "data": {
      "text/plain": [
       "<matplotlib.axes._subplots.AxesSubplot at 0x221017f5f70>"
      ]
     },
     "execution_count": 67,
     "metadata": {},
     "output_type": "execute_result"
    },
    {
     "data": {
      "image/png": "[encoded data removed]",
      "text/plain": [
       "<Figure size 432x288 with 1 Axes>"
      ]
     },
     "metadata": {
      "needs_background": "light"
     },
     "output_type": "display_data"
    }
   ],
   "source": [
    "sns.boxplot(df['Height']) #We find there is no outlier in Height"
   ]
  },
  {
   "cell_type": "code",
   "execution_count": 88,
   "metadata": {},
   "outputs": [
    {
     "name": "stdout",
     "output_type": "stream",
     "text": [
      "(array([139], dtype=int64),)\n"
     ]
    }
   ],
   "source": [
    "z = np.abs(stats.zscore(df['Weight']))\n",
    "threshold = 3\n",
    "\n",
    "# Position of the outlier\n",
    "print(np.where(z > 3))"
   ]
  },
  {
   "cell_type": "code",
   "execution_count": 89,
   "metadata": {},
   "outputs": [
    {
     "name": "stdout",
     "output_type": "stream",
     "text": [
      "(array([139], dtype=int64),)\n"
     ]
    }
   ],
   "source": [
    "z = np.abs(stats.zscore(df['Weight1']))\n",
    "threshold = 3\n",
    "\n",
    "# Position of the outlier\n",
    "print(np.where(z > 3))"
   ]
  },
  {
   "cell_type": "code",
   "execution_count": 90,
   "metadata": {},
   "outputs": [
    {
     "name": "stdout",
     "output_type": "stream",
     "text": [
      "(array([139], dtype=int64),)\n"
     ]
    }
   ],
   "source": [
    "z = np.abs(stats.zscore(df['Length']))\n",
    "threshold = 3\n",
    "\n",
    "# Position of the outlier\n",
    "print(np.where(z > 3))"
   ]
  },
  {
   "cell_type": "code",
   "execution_count": 69,
   "metadata": {},
   "outputs": [
    {
     "name": "stdout",
     "output_type": "stream",
     "text": [
      "(array([137], dtype=int64),)\n"
     ]
    }
   ],
   "source": [
    "z = np.abs(stats.zscore(df['Width']))\n",
    "threshold = 3\n",
    "\n",
    "# Position of the outlier\n",
    "print(np.where(z > 3))"
   ]
  },
  {
   "cell_type": "code",
   "execution_count": 76,
   "metadata": {},
   "outputs": [],
   "source": [
    "new_df_all_features = df.drop([df.index[137],df.index[139]])\n",
    "# new_df will be data frame after removing outliers"
   ]
  },
  {
   "cell_type": "code",
   "execution_count": 77,
   "metadata": {},
   "outputs": [
    {
     "data": {
      "text/plain": [
       "<matplotlib.axes._subplots.AxesSubplot at 0x221018f0e20>"
      ]
     },
     "execution_count": 77,
     "metadata": {},
     "output_type": "execute_result"
    },
    {
     "data": {
      "image/png": "[encoded data removed]",
      "text/plain": [
       "<Figure size 432x288 with 1 Axes>"
      ]
     },
     "metadata": {
      "needs_background": "light"
     },
     "output_type": "display_data"
    }
   ],
   "source": [
    "sns.boxplot(new_df['Weight'])  #After removing outlier"
   ]
  },
  {
   "cell_type": "code",
   "execution_count": 78,
   "metadata": {},
   "outputs": [
    {
     "data": {
      "text/plain": [
       "<matplotlib.axes._subplots.AxesSubplot at 0x221019b42b0>"
      ]
     },
     "execution_count": 78,
     "metadata": {},
     "output_type": "execute_result"
    },
    {
     "data": {
      "image/png": "[encoded data removed]",
      "text/plain": [
       "<Figure size 432x288 with 1 Axes>"
      ]
     },
     "metadata": {
      "needs_background": "light"
     },
     "output_type": "display_data"
    }
   ],
   "source": [
    "sns.boxplot(new_df['Width'])  #After removing outlier"
   ]
  },
  {
   "cell_type": "markdown",
   "metadata": {},
   "source": [
    "# Remove Weight1 and Length column from data frame\n",
    "# Wight , Weight1 and Length are highly corelated\n",
    "# We will keep only Weight column for our model"
   ]
  },
  {
   "cell_type": "code",
   "execution_count": 82,
   "metadata": {},
   "outputs": [],
   "source": [
    "new_df.drop('Weight1', inplace=True , axis=1)"
   ]
  },
  {
   "cell_type": "code",
   "execution_count": 83,
   "metadata": {},
   "outputs": [],
   "source": [
    "new_df.drop('Length', inplace=True , axis=1)"
   ]
  },
  {
   "cell_type": "code",
   "execution_count": 85,
   "metadata": {},
   "outputs": [
    {
     "data": {
      "text/html": [
       "<div>\n",
       "<style scoped>\n",
       "    .dataframe tbody tr th:only-of-type {\n",
       "        vertical-align: middle;\n",
       "    }\n",
       "\n",
       "    .dataframe tbody tr th {\n",
       "        vertical-align: top;\n",
       "    }\n",
       "\n",
       "    .dataframe thead th {\n",
       "        text-align: right;\n",
       "    }\n",
       "</style>\n",
       "<table border=\"1\" class=\"dataframe\">\n",
       "  <thead>\n",
       "    <tr style=\"text-align: right;\">\n",
       "      <th></th>\n",
       "      <th>Cost</th>\n",
       "      <th>Weight</th>\n",
       "      <th>Height</th>\n",
       "      <th>Width</th>\n",
       "    </tr>\n",
       "  </thead>\n",
       "  <tbody>\n",
       "    <tr>\n",
       "      <th>0</th>\n",
       "      <td>242.0</td>\n",
       "      <td>23.2</td>\n",
       "      <td>11.5200</td>\n",
       "      <td>4.0200</td>\n",
       "    </tr>\n",
       "    <tr>\n",
       "      <th>1</th>\n",
       "      <td>290.0</td>\n",
       "      <td>24.0</td>\n",
       "      <td>12.4800</td>\n",
       "      <td>4.3056</td>\n",
       "    </tr>\n",
       "    <tr>\n",
       "      <th>2</th>\n",
       "      <td>340.0</td>\n",
       "      <td>23.9</td>\n",
       "      <td>12.3778</td>\n",
       "      <td>4.6961</td>\n",
       "    </tr>\n",
       "    <tr>\n",
       "      <th>3</th>\n",
       "      <td>363.0</td>\n",
       "      <td>26.3</td>\n",
       "      <td>12.7300</td>\n",
       "      <td>4.4555</td>\n",
       "    </tr>\n",
       "    <tr>\n",
       "      <th>4</th>\n",
       "      <td>430.0</td>\n",
       "      <td>26.5</td>\n",
       "      <td>12.4440</td>\n",
       "      <td>5.1340</td>\n",
       "    </tr>\n",
       "  </tbody>\n",
       "</table>\n",
       "</div>"
      ],
      "text/plain": [
       "    Cost  Weight   Height   Width\n",
       "0  242.0    23.2  11.5200  4.0200\n",
       "1  290.0    24.0  12.4800  4.3056\n",
       "2  340.0    23.9  12.3778  4.6961\n",
       "3  363.0    26.3  12.7300  4.4555\n",
       "4  430.0    26.5  12.4440  5.1340"
      ]
     },
     "execution_count": 85,
     "metadata": {},
     "output_type": "execute_result"
    }
   ],
   "source": [
    "new_df.head()"
   ]
  },
  {
   "cell_type": "markdown",
   "metadata": {},
   "source": [
    "# Model building using OLS approach in sklearn (date frame used is new_df)"
   ]
  },
  {
   "cell_type": "code",
   "execution_count": 144,
   "metadata": {},
   "outputs": [],
   "source": [
    "x = new_df[['Weight', 'Height' , 'Width']]\n",
    "y = new_df['Cost']"
   ]
  },
  {
   "cell_type": "code",
   "execution_count": 97,
   "metadata": {},
   "outputs": [
    {
     "name": "stdout",
     "output_type": "stream",
     "text": [
      "Intercept: \n",
      " -485.76116638825624\n",
      "Coefficients: \n",
      " [ 0.         17.85891788 15.47719226 61.1894641 ]\n"
     ]
    }
   ],
   "source": [
    "regr = linear_model.LinearRegression()  #create instance of Linear regression\n",
    "regr.fit(x, y) #fit model using given set of data\n",
    "\n",
    "print('Intercept: \\n', regr.intercept_)\n",
    "print('Coefficients: \\n', regr.coef_)"
   ]
  },
  {
   "cell_type": "code",
   "execution_count": 102,
   "metadata": {},
   "outputs": [],
   "source": [
    "import math\n",
    "y_predicted = regr.predict(x) #Predict cost of bag using above model \n",
    "\n",
    "mse = mean_squared_error(y, y_predicted)\n",
    "rmse = math.sqrt(mse)\n",
    "r2 = r2_score(y, y_predicted)"
   ]
  },
  {
   "cell_type": "code",
   "execution_count": 106,
   "metadata": {},
   "outputs": [
    {
     "name": "stdout",
     "output_type": "stream",
     "text": [
      "Mean squared error for OLS approach is 12703.726821781987\n",
      "Root mean squared error for OLS approach is 112.71081058080448\n",
      "R2 value for OLS approach is 0.8867032207290749\n"
     ]
    }
   ],
   "source": [
    "print(\"Mean squared error for OLS approach is {}\".format(mse))\n",
    "print(\"Root mean squared error for OLS approach is {}\".format(rmse))\n",
    "print(\"R2 value for OLS approach is {}\".format(r2))\n"
   ]
  },
  {
   "cell_type": "markdown",
   "metadata": {},
   "source": [
    "# Model building using gradient discent algorithm"
   ]
  },
  {
   "cell_type": "code",
   "execution_count": 113,
   "metadata": {},
   "outputs": [],
   "source": [
    "theta = np.random.rand(4)\n",
    "alpha = 0.001\n",
    "m = y.size"
   ]
  },
  {
   "cell_type": "code",
   "execution_count": 120,
   "metadata": {},
   "outputs": [],
   "source": [
    "def gradient_descent(x, y, m, theta, alpha):\n",
    "    cost_list = []   #to record all cost values to this list\n",
    "    theta_list = []  #to record all theta_0 and theta_1 values to this list \n",
    "    prediction_list = []\n",
    "    run = True\n",
    "    cost_list.append(1e10)    #we append some large value to the cost list\n",
    "    i=0\n",
    "    while run:\n",
    "        prediction = np.dot(x, theta)   #predicted y values theta_0*x0+theta_1*x1\n",
    "        prediction_list.append(prediction)\n",
    "        error = prediction - y\n",
    "        cost = 1/(2*m) * np.dot(error.T, error)   #  (1/2m)*sum[(error)^2]\n",
    "        cost_list.append(cost)\n",
    "        theta = theta - (alpha * (1/m) * np.dot(x.T, error))   # alpha * (1/m) * sum[error*x]\n",
    "        theta_list.append(theta)\n",
    "        if cost_list[i]-cost_list[i+1] < 1e-9:   #checking if the change in cost function is less than 10^(-9)\n",
    "            run = False\n",
    "\n",
    "        i+=1\n",
    "    cost_list.pop(0)   # Remove the large number we added in the begining \n",
    "    return prediction_list, cost_list, theta_list"
   ]
  },
  {
   "cell_type": "code",
   "execution_count": 121,
   "metadata": {},
   "outputs": [],
   "source": [
    "prediction_list, cost_list, theta_list = gradient_descent(x, y, m, theta, alpha)\n",
    "theta = theta_list[-1]"
   ]
  },
  {
   "cell_type": "code",
   "execution_count": 122,
   "metadata": {},
   "outputs": [
    {
     "data": {
      "image/png": "[encoded data removed]",
      "text/plain": [
       "<Figure size 432x288 with 1 Axes>"
      ]
     },
     "metadata": {
      "needs_background": "light"
     },
     "output_type": "display_data"
    }
   ],
   "source": [
    "plt.title('Cost Function J', size = 30)\n",
    "plt.xlabel('No. of iterations', size=20)\n",
    "plt.ylabel('Cost', size=20)\n",
    "plt.plot(cost_list)\n",
    "plt.show()"
   ]
  },
  {
   "cell_type": "code",
   "execution_count": 126,
   "metadata": {},
   "outputs": [
    {
     "name": "stdout",
     "output_type": "stream",
     "text": [
      "Mean Square Error from Gradient Descent prediction : 12703.727\n",
      "Root Mean Square Error from Gradient Descent prediction : 112.711\n",
      "R2 from Gradient Descent prediction : 0.887\n"
     ]
    }
   ],
   "source": [
    "MSE_GD = ((prediction_list[-1]-y)**2).mean()  #From Gradient Descent\n",
    "RMSE_GD = math.sqrt(MSE_GD)\n",
    "r2_GD = r2_score(y, prediction_list[-1])\n",
    "print('Mean Square Error from Gradient Descent prediction : {}'.format(round(MSE_GD,3)))\n",
    "print('Root Mean Square Error from Gradient Descent prediction : {}'.format(round(RMSE_GD,3)))\n",
    "print('R2 from Gradient Descent prediction : {}'.format(round(r2_GD,3)))"
   ]
  },
  {
   "cell_type": "markdown",
   "metadata": {},
   "source": [
    "# Model building using Mini batch gradient"
   ]
  },
  {
   "cell_type": "code",
   "execution_count": 145,
   "metadata": {},
   "outputs": [],
   "source": [
    "mb_learning_rate = 0.001\n",
    "mb_max_iteration = 500\n",
    "batch_size = 16"
   ]
  },
  {
   "cell_type": "code",
   "execution_count": 178,
   "metadata": {},
   "outputs": [],
   "source": [
    "data = new_df.to_numpy()  #convert data frame into numpy array\n",
    "data.shape\n",
    "data = normalize(data, axis=0)\n",
    "x = data[:, 1:4]   #Weight, Lenght and Width goes into Feature set\n",
    "y = data[:, 0:1]"
   ]
  },
  {
   "cell_type": "code",
   "execution_count": 179,
   "metadata": {},
   "outputs": [],
   "source": [
    "mb_theta = np.zeros((data.shape[1], 1))"
   ]
  },
  {
   "cell_type": "code",
   "execution_count": 200,
   "metadata": {},
   "outputs": [],
   "source": [
    "def h (theta, x) :  #design hypotheisis\n",
    "  tempX = np.ones((x.shape[0], x.shape[1] + 1))\n",
    "  tempX[:,1:] = x\n",
    "  return np.matmul(tempX, theta)"
   ]
  },
  {
   "cell_type": "code",
   "execution_count": 201,
   "metadata": {},
   "outputs": [],
   "source": [
    "def loss (theta, x, y) :   #define loss function\n",
    "  return np.average(np.square(y - h(theta, x))) / 2"
   ]
  },
  {
   "cell_type": "code",
   "execution_count": 202,
   "metadata": {},
   "outputs": [],
   "source": [
    "def gradient (theta, x, y) :\n",
    "  tempX = np.ones((x.shape[0], x.shape[1] + 1))\n",
    "  tempX[:,1:] = x\n",
    "  d_theta = - np.average((y - h(theta, x)) * tempX, axis= 0)\n",
    "  d_theta = d_theta.reshape((d_theta.shape[0], 1))\n",
    "  return d_theta"
   ]
  },
  {
   "cell_type": "code",
   "execution_count": 203,
   "metadata": {},
   "outputs": [],
   "source": [
    "def minibatch_gradient_descent (theta, x, y, learning_rate, max_iteration, batch_size, gap) :\n",
    "  cost = np.zeros(max_iteration)\n",
    "  for i in range(max_iteration) :\n",
    "    for j in range(0, x.shape[0], batch_size):\n",
    "      d_theta = gradient (theta, x[j:j+batch_size,:], y[j:j+batch_size,:])\n",
    "      theta = theta - learning_rate * d_theta\n",
    "    \n",
    "    cost[i] = loss(theta, x, y)\n",
    "    if i % gap == 0 :\n",
    "      print ('iteration : ', i, ' loss : ', loss(theta, x, y)) \n",
    "  return theta, cost"
   ]
  },
  {
   "cell_type": "code",
   "execution_count": 204,
   "metadata": {},
   "outputs": [
    {
     "name": "stdout",
     "output_type": "stream",
     "text": [
      "iteration :  0  loss :  0.0032749471709937555\n",
      "iteration :  100  loss :  0.0016956440508952033\n",
      "iteration :  200  loss :  0.0014555747267704167\n",
      "iteration :  300  loss :  0.0014088418660730823\n",
      "iteration :  400  loss :  0.0013939131373828474\n"
     ]
    }
   ],
   "source": [
    "mb_theta, mb_cost = minibatch_gradient_descent (mb_theta, x, y, mb_learning_rate, mb_max_iteration, batch_size, 100)\n",
    "# train model"
   ]
  },
  {
   "cell_type": "code",
   "execution_count": 207,
   "metadata": {},
   "outputs": [
    {
     "data": {
      "image/png": "[encoded data removed]",
      "text/plain": [
       "<Figure size 432x288 with 1 Axes>"
      ]
     },
     "metadata": {
      "needs_background": "light"
     },
     "output_type": "display_data"
    }
   ],
   "source": [
    "fig, ax = plt.subplots() \n",
    "ax.plot(np.arange(mb_max_iteration), mb_cost, 'g') \n",
    "ax.set_xlabel('Iterations')  \n",
    "ax.set_ylabel('Cost')  \n",
    "ax.set_title('Error vs. Training Epoch')  \n",
    "\n",
    "plt.show()"
   ]
  },
  {
   "cell_type": "code",
   "execution_count": 208,
   "metadata": {},
   "outputs": [
    {
     "name": "stdout",
     "output_type": "stream",
     "text": [
      "[[0.05552158]\n",
      " [0.01102701]\n",
      " [0.0115114 ]\n",
      " [0.01140671]]\n"
     ]
    }
   ],
   "source": [
    "print(mb_theta)  #Optimal values of paramaters"
   ]
  },
  {
   "cell_type": "markdown",
   "metadata": {},
   "source": [
    "# Model building using Stochastic gradient"
   ]
  },
  {
   "cell_type": "code",
   "execution_count": 211,
   "metadata": {},
   "outputs": [],
   "source": [
    "#We have already defined data array, hypothesis function and gradient functions above \n",
    "s_theta = np.zeros((data.shape[1], 1))\n",
    "s_learning_rate = 0.001\n",
    "s_max_iteration = 500\n",
    "\n",
    "def stochastic_gradient_descent (theta, x, y, learning_rate, max_iteration, gap) :\n",
    "  cost = np.zeros(max_iteration)\n",
    "  for i in range(max_iteration) :\n",
    "    for j in range(x.shape[0]):\n",
    "      d_theta = gradient (theta, x[j,:].reshape(1, x.shape[1]), y[j,:].reshape(1, 1))\n",
    "      theta = theta - learning_rate * d_theta\n",
    "    \n",
    "    cost[i] = loss(theta, x, y)\n",
    "    if i % gap == 0 :\n",
    "      print ('iteration : ', i, ' loss : ', loss(theta, x, y)) \n",
    "  return theta, cost"
   ]
  },
  {
   "cell_type": "code",
   "execution_count": 212,
   "metadata": {},
   "outputs": [
    {
     "name": "stdout",
     "output_type": "stream",
     "text": [
      "iteration :  0  loss :  0.002807372611119531\n",
      "iteration :  100  loss :  0.001323943731510919\n",
      "iteration :  200  loss :  0.00124645202009983\n",
      "iteration :  300  loss :  0.0011743128375786937\n",
      "iteration :  400  loss :  0.0011071544679507285\n"
     ]
    }
   ],
   "source": [
    "s_theta, s_cost = stochastic_gradient_descent (s_theta, x, y, s_learning_rate, s_max_iteration, 100)"
   ]
  },
  {
   "cell_type": "code",
   "execution_count": 213,
   "metadata": {},
   "outputs": [
    {
     "name": "stdout",
     "output_type": "stream",
     "text": [
      "[[0.03926283]\n",
      " [0.09616766]\n",
      " [0.10173735]\n",
      " [0.09984378]]\n"
     ]
    }
   ],
   "source": [
    "print(s_theta) #Optimal values of paramaters"
   ]
  },
  {
   "cell_type": "code",
   "execution_count": 214,
   "metadata": {},
   "outputs": [
    {
     "data": {
      "image/png": "[encoded data removed]",
      "text/plain": [
       "<Figure size 432x288 with 1 Axes>"
      ]
     },
     "metadata": {
      "needs_background": "light"
     },
     "output_type": "display_data"
    }
   ],
   "source": [
    "fig, ax = plt.subplots() \n",
    "ax.plot(np.arange(s_max_iteration), s_cost, 'g') \n",
    "ax.set_xlabel('Iterations')  \n",
    "ax.set_ylabel('Cost')  \n",
    "ax.set_title('Error vs. Training Epoch')  \n",
    "\n",
    "plt.show()"
   ]
  },
  {
   "cell_type": "code",
   "execution_count": 217,
   "metadata": {},
   "outputs": [
    {
     "data": {
      "image/png": "[encoded data removed]",
      "text/plain": [
       "<Figure size 432x288 with 1 Axes>"
      ]
     },
     "metadata": {
      "needs_background": "light"
     },
     "output_type": "display_data"
    }
   ],
   "source": [
    "#plot the cost\n",
    "fig, ax = plt.subplots()  \n",
    "  \n",
    "ax.plot(np.arange(500), s_cost, 'b')  \n",
    "ax.plot(np.arange(500), mb_cost, 'g')  \n",
    "ax.legend(loc='upper right', labels=['batch gradient descent', 'stochastic gradient descent', 'mini-batch gradient descent'])\n",
    "ax.set_xlabel('Iterations')  \n",
    "ax.set_ylabel('Cost')  \n",
    "ax.set_title('Error vs. Training Epoch')  \n",
    "\n",
    "plt.show()"
   ]
  },
  {
   "cell_type": "code",
   "execution_count": null,
   "metadata": {},
   "outputs": [],
   "source": []
  }
 ],
 "metadata": {
  "kernelspec": {
   "display_name": "Python 3",
   "language": "python",
   "name": "python3"
  },
  "language_info": {
   "codemirror_mode": {
    "name": "ipython",
    "version": 3
   },
   "file_extension": ".py",
   "mimetype": "text/x-python",
   "name": "python",
   "nbconvert_exporter": "python",
   "pygments_lexer": "ipython3",
   "version": "3.8.3"
  }
 },
 "nbformat": 4,
 "nbformat_minor": 4
}
